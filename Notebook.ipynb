{
 "cells": [
  {
   "cell_type": "markdown",
   "metadata": {},
   "source": [
    "# Genome Mining Notebook"
   ]
  },
  {
   "cell_type": "markdown",
   "metadata": {},
   "source": [
    "## Configuration\n",
    "\n",
    "Here are the parameters that you should edit for each run. The **runName** will be the name of the run, the **pattern** is the pattern to search lasso peptides against, the **cutoffRank** is the minimum required rank to run, the **genomeDir** is the directory where the FASTA and FNA files to be mined are stored, the **database** is where you would like the database to be written to, and **outputLogs** is where the output should be written to.\n",
    "\n",
    "**models** is a list of models to generate motifs for and search with.\n",
    "\n",
    "**memeDir** is the directory where the meme suite was installed on this computer, and **localMotifDir** is some empty or nonexistent directory that this program can use as scratch space."
   ]
  },
  {
   "cell_type": "code",
   "execution_count": null,
   "metadata": {},
   "outputs": [],
   "source": [
    "import yaml\n",
    "config = yaml.safe_load('''\n",
    "# Setup parameters for a genome mining run\n",
    "\n",
    "## Parameters for each run\n",
    "runName: \"test\"\n",
    "pattern: 'M[A-Z]{15,45}T[A-Z][A-Z]{6,8}[DE][A-Z]{5,30}\\*'\n",
    "cutoffRank: 0.4 # minimum rank to register as a hit\n",
    "genomeDir: \"/home/nathan/Desktop/lassomining/genomes/\" # keep the trailing /\n",
    "database: \"/home/nathan/Desktop/lassomining/output/matches.db\" # no trailing /\n",
    "motifs:\n",
    "  - \"/home/nathan/Desktop/lassomining/models/memeb.xml\"\n",
    "  - \"/home/nathan/Desktop/lassomining/models/memec.xml\"\n",
    "  \n",
    "## Parameters you should not have to change\n",
    "memeDir: \"/home/nathan/meme\"\n",
    "\n",
    "''')"
   ]
  },
  {
   "cell_type": "markdown",
   "metadata": {},
   "source": [
    "Below is a lot of the logic behind the mining, but just provides a series of functions to be used in the following code block"
   ]
  },
  {
   "cell_type": "markdown",
   "metadata": {},
   "source": [
    "## Mining\n",
    "Here are the commands for actually running the genome mining software. Output is printed below this block as it progresses, and this is the slowest running part of the program."
   ]
  },
  {
   "cell_type": "code",
   "execution_count": null,
   "metadata": {},
   "outputs": [],
   "source": [
    "import traceback\n",
    "import sys\n",
    "import os\n",
    "import time\n",
    "import shutil\n",
    "import json\n",
    "from pathlib import Path\n",
    "from mining import mine"
   ]
  },
  {
   "cell_type": "code",
   "execution_count": null,
   "metadata": {},
   "outputs": [],
   "source": [
    "runName = config[\"runName\"]\n",
    "pattern = config[\"pattern\"]\n",
    "cutoffRank = config[\"cutoffRank\"]\n",
    "genomeDir = config[\"genomeDir\"]\n",
    "databaseDir = config[\"database\"]\n",
    "motifs = config[\"motifs\"]\n",
    "memeDir = config[\"memeDir\"]\n",
    "print(\"Beginning run \" + runName)\n",
    "print(\"cutting off hits below \" + str(cutoffRank))\n",
    "print(\"searching for pattern \" + pattern)\n",
    "print(\"Using these motifs:\")\n",
    "print(motifs)\n",
    "print(\"Genomes being read from \" + str(genomeDir))\n",
    "print(\"writing output to \" + databaseDir)"
   ]
  },
  {
   "cell_type": "code",
   "execution_count": null,
   "metadata": {},
   "outputs": [],
   "source": [
    "try:\n",
    "    # start a timer\n",
    "    t0 = time.time()\n",
    "    \n",
    "    # store meta data about the particular run\n",
    "    runStatus = {\n",
    "        \"name\": runName,\n",
    "        \"pattern\": pattern,\n",
    "        \"input\": [],\n",
    "        \"progress\": 0.0,\n",
    "        \"peptides\": 0,\n",
    "        \"cutoff\": cutoffRank\n",
    "    }\n",
    "    \n",
    "    ## create filepaths\n",
    "    # create genome folder if not already there\n",
    "    if not os.path.exists(genomeDir):\n",
    "        print(\"could not find \" + genomeDir + \", attempting to make it\")\n",
    "        os.makedirs(genomeDir)\n",
    "    # create output database if not already there\n",
    "    path = databaseDir.split(\"/\")\n",
    "    databaseFolder = \"/\".join(path[0:len(path) - 1])\n",
    "    if not os.path.exists(databaseFolder):\n",
    "        print(\"creating database directory \" + databaseFolder)\n",
    "        os.makedirs(databaseFolder)\n",
    "    if not os.path.exists(databaseDir):\n",
    "        print(\"Could not find \" + databaseDir + \", attempting to create...\")\n",
    "        Path(databaseDir).touch()\n",
    "       \n",
    "    mine(genomeDir, runName, pattern, cutoffRank, databaseDir, memeDir, motifs)\n",
    "    print(\"finished all the runs for \" + runName)\n",
    "    \n",
    "except Exception as error: \n",
    "    print(\"An error occured while mining\")\n",
    "    traceback.print_tb(sys.exc_info()[2])\n",
    "    print(str(error))"
   ]
  },
  {
   "cell_type": "markdown",
   "metadata": {},
   "source": [
    "## Lasso Viewer\n",
    "\n",
    "A rudimentary method of looking at lassos within this notebook."
   ]
  },
  {
   "cell_type": "code",
   "execution_count": null,
   "metadata": {},
   "outputs": [],
   "source": [
    "import sqlite3\n",
    "import pandas as pd\n",
    "from demjson import decode\n",
    "import matplotlib.pyplot as plt"
   ]
  },
  {
   "cell_type": "code",
   "execution_count": null,
   "metadata": {},
   "outputs": [],
   "source": [
    "# regular expression function for regular expression search\n",
    "def regexp(expr, item):\n",
    "    reg = re.compile(expr)\n",
    "    return reg.search(item) is not None\n",
    "\n",
    "conn = sqlite3.connect(config[\"database\"])\n",
    "conn.create_function(\"REGEXP\", 2, regexp)"
   ]
  },
  {
   "cell_type": "code",
   "execution_count": null,
   "metadata": {},
   "outputs": [],
   "source": [
    "c = conn.cursor()\n",
    "selection_string = \"SELECT DISTINCT genome FROM lassopeptides WHERE runname is '\" + config[\"runName\"] + \"'\"\n",
    "distinct_genomes = []\n",
    "for row in c.execute(selection_string):\n",
    "    distinct_genomes.append(row[0])\n",
    "\n",
    "c.close()\n",
    "print(distinct_genomes)"
   ]
  },
  {
   "cell_type": "code",
   "execution_count": null,
   "metadata": {},
   "outputs": [],
   "source": [
    "import json\n",
    "genome = distinct_genomes[0]\n",
    "c = conn.cursor()\n",
    "selection_string = f'SELECT DISTINCT sequence, start, end, overallLength, rank, orf, closestOrfs FROM lassopeptides WHERE runname is \"{config[\"runName\"]}\" AND genome is \"{genome}\"'\n",
    "lasso_peptides = []\n",
    "for row in c.execute(selection_string):\n",
    "    lasso_peptides.append({\n",
    "        \"sequence\": row[0],\n",
    "        \"start\": row[1],\n",
    "        \"end\": row[2],\n",
    "        \"overallLength\": row[3],\n",
    "        \"rank\": row[4],\n",
    "        \"orf\": row[5],\n",
    "        \"closestOrfs\": decode(json.loads(row[6]))\n",
    "    })\n",
    "def sortFunct(lasso):\n",
    "    return lasso[\"rank\"]\n",
    "lasso_peptides.sort(key=sortFunct, reverse=True)\n",
    "\n",
    "c.close()"
   ]
  },
  {
   "cell_type": "code",
   "execution_count": null,
   "metadata": {},
   "outputs": [],
   "source": [
    "num_to_show = 10\n",
    "fig, axs = plt.subplots(num_to_show, 1, figsize=(15,30), constrained_layout=True)\n",
    "\n",
    "color_arr = ['blue', 'green', 'yellow', 'purple', 'brown', 'cyan']\n",
    "count = 0\n",
    "for lasso in lasso_peptides[0:num_to_show]:\n",
    "    a = {'x': [lasso[\"start\"], lasso[\"end\"]], 'y': [1, 1]}\n",
    "    axs[count].plot( a['x'], a['y'], label='a', marker='o', markerfacecolor='red', markersize=5, color='red', linewidth=4)\n",
    "    inner_count = 0\n",
    "    for closeOrf in lasso['closestOrfs']:\n",
    "        axs[count].plot( [closeOrf['start'], closeOrf['end']], [3 + (2 * inner_count), 3 + (2 * inner_count)], label=closeOrf[\"motifType\"],  marker='o', markerfacecolor='blue', markersize=5, color=color_arr[inner_count % len(color_arr)], linewidth=4)\n",
    "        inner_count += 1\n",
    "    axs[count].set_title(f'{lasso[\"sequence\"]}, rank: {lasso[\"rank\"]}')\n",
    "    _ = axs[count].legend()\n",
    "    count += 1\n",
    "\n",
    "plt.show()"
   ]
  },
  {
   "cell_type": "code",
   "execution_count": null,
   "metadata": {},
   "outputs": [],
   "source": [
    "ind = 0\n",
    "for lasso in lasso_peptides:\n",
    "    ind += 1\n",
    "    if(\"MEKIETHEDL\" in lasso[\"sequence\"]):\n",
    "        print(\"found the real!\")\n",
    "        print(lasso[\"sequence\"])\n",
    "        print(f'index: {ind}, rank: {lasso[\"rank\"]}')"
   ]
  },
  {
   "cell_type": "markdown",
   "metadata": {},
   "source": [
    "## Graphical Genome-wide representations\n",
    "Plots the rank distribution of the peptides found - a straight line indicates non discrimination occured while ranking, whereas a steep cutoff indicates that the \"good\" hits were strongly separated from noise."
   ]
  },
  {
   "cell_type": "code",
   "execution_count": null,
   "metadata": {},
   "outputs": [],
   "source": [
    "import matplotlib.pyplot as plt\n",
    "import sqlite3\n",
    "import pandas as pd\n",
    "# regular expression function for regular expression search\n",
    "def regexp(expr, item):\n",
    "    reg = re.compile(expr)\n",
    "    return reg.search(item) is not None\n",
    "\n",
    "conn = sqlite3.connect(config[\"database\"])\n",
    "conn.create_function(\"REGEXP\", 2, regexp)"
   ]
  },
  {
   "cell_type": "code",
   "execution_count": null,
   "metadata": {},
   "outputs": [],
   "source": [
    "c = conn.cursor()\n",
    "selection_string = \"SELECT DISTINCT genome FROM lassopeptides WHERE runname is '\" + config[\"runName\"] + \"'\"\n",
    "distinct_genomes = []\n",
    "for row in c.execute(selection_string):\n",
    "    distinct_genomes.append(row[0])\n",
    "\n",
    "c.close()\n",
    "print(distinct_genomes)"
   ]
  },
  {
   "cell_type": "code",
   "execution_count": null,
   "metadata": {},
   "outputs": [],
   "source": [
    "genome_ranks = {}\n",
    "c = conn.cursor()\n",
    "for genome in distinct_genomes:\n",
    "    selection_string = f'SELECT rank FROM lassopeptides WHERE runname is \"{config[\"runName\"]}\" AND genome is \"{genome}\"'\n",
    "    ranks = []\n",
    "    for row in c.execute(selection_string):\n",
    "        ranks.append(row[0])\n",
    "    ranks.sort(reverse=True)\n",
    "    genome_ranks[genome] = ranks\n",
    "c.close()"
   ]
  },
  {
   "cell_type": "code",
   "execution_count": null,
   "metadata": {},
   "outputs": [],
   "source": [
    "'''\n",
    "# Multiple genomes at once\n",
    "fig, axs = plt.subplots(len(distinct_genomes), 1, figsize=(10,15))\n",
    "ind = 0\n",
    "for genome in genome_ranks.keys():\n",
    "    y = genome_ranks[genome]\n",
    "    x = range(0, len(y))\n",
    "    axs[ind].plot(x, y)\n",
    "    axs[ind].set_title(genome)\n",
    "    axs[ind].set(xlabel=\"number of peptides with this rank or higher\", ylabel=\"rank\")\n",
    "    ind += 1\n",
    "'''\n",
    "genome = distinct_genomes[0]\n",
    "y = genome_ranks[genome]\n",
    "x = range(0, len(y))\n",
    "plt.plot(x, y)\n",
    "plt.title(genome)\n",
    "plt.xlabel(\"number of peptides with this rank or higher\")\n",
    "plt.ylabel(\"rank\")"
   ]
  },
  {
   "cell_type": "code",
   "execution_count": null,
   "metadata": {},
   "outputs": [],
   "source": [
    "c = conn.cursor()\n",
    "selection_string = \"SELECT DISTINCT genome FROM lassopeptides WHERE runname is '\" + config[\"runName\"] + \"'\"\n",
    "distinct_genomes = []\n",
    "for row in c.execute(selection_string):\n",
    "    distinct_genomes.append(row[0])\n",
    "\n",
    "c.close()\n",
    "print(distinct_genomes)"
   ]
  },
  {
   "cell_type": "code",
   "execution_count": null,
   "metadata": {},
   "outputs": [],
   "source": [
    "genome_ranks = {}\n",
    "c = conn.cursor()\n",
    "for genome in distinct_genomes:\n",
    "    selection_string = f'SELECT secondaryRank FROM lassopeptides WHERE runname is \"{config[\"runName\"]}\" AND genome is \"{genome}\"'\n",
    "    ranks = []\n",
    "    for row in c.execute(selection_string):\n",
    "        ranks.append(row[0])\n",
    "    ranks.sort(reverse=True)\n",
    "    genome_ranks[genome] = ranks\n",
    "c.close()"
   ]
  },
  {
   "cell_type": "code",
   "execution_count": null,
   "metadata": {},
   "outputs": [],
   "source": [
    "'''\n",
    "# Multiple genomes at once\n",
    "fig, axs = plt.subplots(len(distinct_genomes), 1, figsize=(10,15))\n",
    "ind = 0\n",
    "for genome in genome_ranks.keys():\n",
    "    y = genome_ranks[genome]\n",
    "    x = range(0, len(y))\n",
    "    axs[ind].plot(x, y)\n",
    "    axs[ind].set_title(genome)\n",
    "    axs[ind].set(xlabel=\"number of peptides with this rank or higher\", ylabel=\"rank\")\n",
    "    ind += 1\n",
    "'''\n",
    "genome = distinct_genomes[0]\n",
    "y = genome_ranks[genome]\n",
    "x = range(0, len(y))\n",
    "plt.plot(x, y)\n",
    "plt.title(genome)\n",
    "plt.xlabel(\"number of peptides with this rank or higher\")\n",
    "plt.ylabel(\"secondary rank\")"
   ]
  },
  {
   "cell_type": "markdown",
   "metadata": {},
   "source": [
    "## Export\n",
    "Export data to CSVs and Firebase"
   ]
  },
  {
   "cell_type": "code",
   "execution_count": null,
   "metadata": {},
   "outputs": [],
   "source": [
    "import os"
   ]
  },
  {
   "cell_type": "code",
   "execution_count": null,
   "metadata": {
    "scrolled": true
   },
   "outputs": [],
   "source": [
    "from mining import export_to_csv\n",
    "if(not os.path.isdir('output/csvs')):\n",
    "    os.mkdir('output/csvs')\n",
    "export_to_csv(config[\"runName\"], config[\"database\"], os.path.join('output', 'csvs'))"
   ]
  },
  {
   "cell_type": "code",
   "execution_count": null,
   "metadata": {},
   "outputs": [],
   "source": [
    "from mining import export_to_firebase, clear_firebase"
   ]
  },
  {
   "cell_type": "code",
   "execution_count": null,
   "metadata": {},
   "outputs": [],
   "source": [
    "clear_firebase('/home/nalam/lassomining/output/lasso-peptides-51ce2e6250b9.json')"
   ]
  },
  {
   "cell_type": "code",
   "execution_count": null,
   "metadata": {},
   "outputs": [],
   "source": [
    "export_to_firebase(db_dir=config[\"database\"], run_name=config[\"runName\"], cred_file=False)"
   ]
  }
 ],
 "metadata": {
  "kernelspec": {
   "display_name": "Python 3",
   "language": "python",
   "name": "python3"
  },
  "language_info": {
   "codemirror_mode": {
    "name": "ipython",
    "version": 3
   },
   "file_extension": ".py",
   "mimetype": "text/x-python",
   "name": "python",
   "nbconvert_exporter": "python",
   "pygments_lexer": "ipython3",
   "version": "3.6.9"
  }
 },
 "nbformat": 4,
 "nbformat_minor": 4
}
