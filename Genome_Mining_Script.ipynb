{
 "cells": [
  {
   "cell_type": "markdown",
   "metadata": {},
   "source": [
    "# Genome Mining Script\n",
    "##### Original Author: Chun Yin Larry So | Python Interpretation: Nathan Alam\n",
    "[Github repository](https://github.com/nathanalam/genomemining)\n",
    "\n",
    "The purpose of this notebook is to provide scripts for reading bacterial genomes in search of regular expressions which seem to match a String corresponding to a candidate coding for a Lasso peptide.\n",
    "\n",
    "## Links to relevant publications:\n",
    "- [Genome mining for lasso peptides: past, present, and future](https://link.springer.com/article/10.1007/s10295-019-02197-z)\n",
    "- [Prospecting Genomes for Lasso Peptides](https://www.ncbi.nlm.nih.gov/pubmed/24142336)"
   ]
  },
  {
   "cell_type": "markdown",
   "metadata": {},
   "source": [
    "### Comments from Perl Script\n",
    "- In this version each time MAST needs to be run on a putative maturation enzyme in a particular genome, a lookup in the database is performed to check if this protein has been analyzed by MAST before and if it has then use the values from before\n",
    "- In this version traseq will be used instead of getorf for finding precursors\n",
    "- getorf is still used for finding neighbors\n",
    "- Like v4 except that multiple proteins of the same sequence don't cause wrong locations of maturation enzymes to be reported\n",
    "- Another change is that the pattern needs to be adjusted to [MVL] instead of ^ in the beginning\n",
    "- This version fixes the problem of having a useless %AME hash and also of erasing sequences from %AME_scores\n",
    "- Precursor pattern is output into the log file\n",
    "- ORF searching behavior is changed from stop-to-stop to [MVL]-to-stop\n",
    "- Clusters of precursors are saved in clusters.txt\n",
    "- **Warning**: transeq doesn't label the -1, -2, -3 frames sequentially. Sometimes it is -1, -3, -2, sometimes some other combination. This means the precursor locations on the reverse strand are off by one sometimes\n",
    "- Take note that rank_hits expects 4 motifs for the B enzyme and 3 motifs for the C enzyme. Adjust accordingly."
   ]
  },
  {
   "cell_type": "code",
   "execution_count": 1,
   "metadata": {},
   "outputs": [],
   "source": [
    "import re\n",
    "import sys\n",
    "import os\n",
    "import json\n",
    "import math"
   ]
  },
  {
   "cell_type": "markdown",
   "metadata": {},
   "source": [
    "### THE Pattern\n",
    "\n",
    "This is the pattern that we're using to identify lasso proteins. TODO - Use Machine Learning to adjust the pattern to maximize the number of valid lasso proteins."
   ]
  },
  {
   "cell_type": "code",
   "execution_count": 2,
   "metadata": {},
   "outputs": [],
   "source": [
    "PATTERN = 'M[A-Z]{15,45}T[A-Z][A-Z]{6,8}[DE][A-Z]{5,30}\\*'\n",
    "# PATTERN = 'CC.CGCCC...TGGC.'\n",
    "# PATTERN = '.*'"
   ]
  },
  {
   "cell_type": "markdown",
   "metadata": {},
   "source": [
    "### FASTA Function\n",
    "\n",
    "Define a function that takes as input the relative path of a FASTA formatted text file, return an object that contains a list of sequence objects. Each sequence object has a description field [\"description\"] and a sequence field [\"sequence\"].\n",
    "\n",
    "From http://www.csbio.sjtu.edu.cn/bioinf/virus-multi/example.htm, specification of a FASTA formatted file:\n",
    "- The first line of each query protein input format must begin with a greater-than (\">\") symbol in the first column. The word following the \">\" symbol is the identifier and description of the sequence, but both are optional.\n",
    "- The sequence (in single-character code) begins in a different line and ends if another line starting with a \">\" appears, which indicates the start of another query protein."
   ]
  },
  {
   "cell_type": "code",
   "execution_count": 3,
   "metadata": {},
   "outputs": [],
   "source": [
    "def readFASTA(name, cleanspace = 0):\n",
    "    descriptions = []\n",
    "    sequences = []\n",
    "    sequenceList = []\n",
    "    tempSequences = []     \n",
    "        \n",
    "    with open(name) as file:\n",
    "        count = -1\n",
    "        for line in file:\n",
    "            \n",
    "            if(line[0] == '>'):\n",
    "                # if begins with a >, then a description\n",
    "                descriptions.append(line[1:].replace('\\n', ''))\n",
    "                count += 1\n",
    "                # skip the first time\n",
    "                if count > 0 :\n",
    "                    # combine the tempSequences into a single string and\n",
    "                    # add it to sequences\n",
    "                    newSequence = ' '.join(tempSequences)\n",
    "                    # now remove all of the whitespaces\n",
    "                    newSequence = newSequence.replace(' ', '')\n",
    "                    newSequence = newSequence.replace('\\n', '')\n",
    "                    \n",
    "                    sequences.append(newSequence)\n",
    "                    # refresh the tempSequence list\n",
    "                    tempSequences = []\n",
    "                    \n",
    "                    sequenceList.append({\n",
    "                        \"description\": descriptions[count - 1],\n",
    "                        \"sequence\": sequences[count - 1]\n",
    "                    })\n",
    "            else:\n",
    "                tempSequences.append(line)\n",
    "                \n",
    "        # combine the tempSequences into a single string and\n",
    "        # add it to sequences\n",
    "        newSequence = ' '.join(tempSequences)\n",
    "        # now remove all of the whitespaces\n",
    "        newSequence = newSequence.replace(' ', '')\n",
    "        newSequence = newSequence.replace('\\n', '')\n",
    "\n",
    "        sequences.append(newSequence)\n",
    "        # refresh the tempSequence list\n",
    "        tempSequences = []\n",
    "        \n",
    "        sequenceList.append({\n",
    "            \"description\": descriptions[count],\n",
    "            \"sequence\": sequences[count]\n",
    "        })\n",
    "                \n",
    "                \n",
    "    if len(descriptions) != len(sequences):\n",
    "        print(\"ERROR: Number of descriptions does not match number of sequences\")\n",
    "        print(\"Number of descriptions: \" + str(len(descriptions)))\n",
    "        print(\"Number of sequences: \" + str(len(sequences)))\n",
    "        sys.exit(1);\n",
    "        \n",
    "    print(\"Read \" + str(count + 1) + \" objects from FASTA file \" + name)\n",
    "        \n",
    "    return sequenceList\n",
    "        \n"
   ]
  },
  {
   "cell_type": "markdown",
   "metadata": {},
   "source": [
    "### Obtain Amino acid sequence directories"
   ]
  },
  {
   "cell_type": "markdown",
   "metadata": {},
   "source": [
    "Begin by getting a list of all of the genomes available in the genomes folder alongside this script."
   ]
  },
  {
   "cell_type": "code",
   "execution_count": 4,
   "metadata": {},
   "outputs": [],
   "source": [
    "ALLDIRNAMES = []\n",
    "for dirname in os.listdir(\"genomes\"):\n",
    "    ## if a regular file, just add to directory\n",
    "    if (dirname.find(\".\") != -1):\n",
    "        ALLDIRNAMES.append(\"genomes/\" + dirname)\n",
    "    else:\n",
    "        for filename in os.listdir(\"genomes/\" + dirname):\n",
    "            ALLDIRNAMES.append(\"genomes/\" + dirname + \"/\" + filename)"
   ]
  },
  {
   "cell_type": "code",
   "execution_count": 5,
   "metadata": {},
   "outputs": [
    {
     "name": "stdout",
     "output_type": "stream",
     "text": [
      "['genomes/allgenomes.fna']\n"
     ]
    }
   ],
   "source": [
    "print(ALLDIRNAMES)"
   ]
  },
  {
   "cell_type": "code",
   "execution_count": 6,
   "metadata": {},
   "outputs": [
    {
     "name": "stdout",
     "output_type": "stream",
     "text": [
      "Read 29 objects from FASTA file genomes/allgenomes.fna\n",
      "29\n"
     ]
    }
   ],
   "source": [
    "thing = readFASTA(ALLDIRNAMES[0])\n",
    "print(len(thing))"
   ]
  },
  {
   "cell_type": "markdown",
   "metadata": {},
   "source": [
    "### Clear Directory\n",
    "Delete all translated directories for further testing. **ONLY DO THIS IF YOU KNOW WHAT YOU'RE DOING**"
   ]
  },
  {
   "cell_type": "code",
   "execution_count": 25,
   "metadata": {},
   "outputs": [],
   "source": [
    "# for dirname in ALLDIRNAMES:\n",
    "#     if (dirname[len(dirname) - 3:] == \"faa\"):\n",
    "#         os.remove(dirname)"
   ]
  },
  {
   "cell_type": "markdown",
   "metadata": {},
   "source": [
    "For the fna files, we need to convert them to amino acid sequences (or faa files). We do this using [Emboss Transeq](https://www.ebi.ac.uk/seqdb/confluence/display/JDSAT/EMBOSS+transeq+Help+and+Documentation#EMBOSStranseqHelpandDocumentation-Reference), and save the output amino acid sequences into this genome file"
   ]
  },
  {
   "cell_type": "code",
   "execution_count": 26,
   "metadata": {},
   "outputs": [],
   "source": [
    "from Bio.Seq import Seq, reverse_complement, translate\n",
    "from Bio.Alphabet import IUPAC\n",
    "\n",
    "# takes a three letter codon, and returns the corresponding amino acid or 'X' if unknown\n",
    "def translate_codon(codonString):\n",
    "    if(not len(codonString) == 3):\n",
    "        raise InputError()\n",
    "        \n",
    "    try:\n",
    "        return translate(codonString, to_stop=False, table = 11)\n",
    "    except:\n",
    "        return 'X'\n",
    "\n",
    "## An adapter function for the biopython's translate, takes in a DNA sequence and returns a list of protein sequences\n",
    "def get_orfs(DNAseq):\n",
    "    AAList = []\n",
    "    \n",
    "    codonArr = []\n",
    "    seqLen = len(DNAseq) - (len(DNAseq) % 3)\n",
    "    seq = ''\n",
    "    try:\n",
    "        seq = translate(DNAseq[0:seqLen])\n",
    "    except:\n",
    "        for i in range(0, seqLen, 3):\n",
    "            codonArr.append(translate_codon(DNAseq[i:i + 3]))\n",
    "        seq = ''.join(codonArr)\n",
    "    AAList.append({\n",
    "        \"ORF\": 1,\n",
    "        \"sequence\": seq\n",
    "    })\n",
    "    \n",
    "    codonArr = []\n",
    "    seqLen = len(DNAseq) - ((len(DNAseq) - 1) % 3)\n",
    "    seq = ''\n",
    "    try:\n",
    "        seq = translate(DNAseq[1:seqLen])\n",
    "    except:\n",
    "        for i in range(1, seqLen, 3):\n",
    "            codonArr.append(translate_codon(DNAseq[i:i + 3]))\n",
    "\n",
    "        seq = ''.join(codonArr)\n",
    "    AAList.append({\n",
    "        \"ORF\": 2,\n",
    "        \"sequence\": seq\n",
    "    })\n",
    "    \n",
    "    codonArr = []\n",
    "    seqLen = len(DNAseq) - ((len(DNAseq) - 2) % 3)\n",
    "    seq = ''\n",
    "    try:\n",
    "        seq = translate(DNAseq[2:seqLen])\n",
    "    except:\n",
    "        for i in range(2, seqLen, 3):\n",
    "            codonArr.append(translate_codon(DNAseq[i:i + 3]))\n",
    "\n",
    "        seq = ''.join(codonArr)\n",
    "    AAList.append({\n",
    "        \"ORF\": 3,\n",
    "        \"sequence\": seq\n",
    "    })\n",
    "    \n",
    "    backwards_dna = reverse_complement(DNAseq)\n",
    "    codonArr = []\n",
    "    seqLen = len(backwards_dna) - (len(backwards_dna) % 3)\n",
    "    seq = ''\n",
    "    try:\n",
    "        seq = translate(backwards_dna[0:seqLen])\n",
    "    except:\n",
    "        for i in range(0, seqLen, 3):\n",
    "            codonArr.append(translate_codon(backwards_dna[i:i + 3]))\n",
    "        seq = ''.join(codonArr)\n",
    "    AAList.append({\n",
    "        \"ORF\": -1,\n",
    "        \"sequence\": seq\n",
    "    })\n",
    "    \n",
    "    codonArr = []\n",
    "    seqLen = len(backwards_dna) - ((len(backwards_dna) - 1) % 3)\n",
    "    seq = ''\n",
    "    try:\n",
    "        seq = translate(backwards_dna[1:seqLen])\n",
    "    except:\n",
    "        for i in range(1, seqLen, 3):\n",
    "            codonArr.append(translate_codon(backwards_dna[i:i + 3]))\n",
    "\n",
    "        seq = ''.join(codonArr)\n",
    "    AAList.append({\n",
    "        \"ORF\": -2,\n",
    "        \"sequence\": seq\n",
    "    })\n",
    "    \n",
    "    codonArr = []\n",
    "    seqLen = len(backwards_dna) - ((len(backwards_dna) - 2) % 3)\n",
    "    seq = ''\n",
    "    try:\n",
    "        seq = translate(backwards_dna[2:seqLen])\n",
    "    except:\n",
    "        for i in range(2, seqLen, 3):\n",
    "            codonArr.append(translate_codon(backwards_dna[i:i + 3]))\n",
    "\n",
    "        seq = ''.join(codonArr)\n",
    "    AAList.append({\n",
    "        \"ORF\": -3,\n",
    "        \"sequence\": seq\n",
    "    })\n",
    "    \n",
    "    return AAList   "
   ]
  },
  {
   "cell_type": "code",
   "execution_count": 27,
   "metadata": {},
   "outputs": [
    {
     "data": {
      "text/plain": [
       "[{'ORF': 1, 'sequence': 'MHGS'},\n",
       " {'ORF': 2, 'sequence': 'CMAA'},\n",
       " {'ORF': 3, 'sequence': 'AWQ'},\n",
       " {'ORF': -1, 'sequence': 'CCHA'},\n",
       " {'ORF': -2, 'sequence': 'AAMH'},\n",
       " {'ORF': -3, 'sequence': 'LPC'}]"
      ]
     },
     "execution_count": 27,
     "metadata": {},
     "output_type": "execute_result"
    }
   ],
   "source": [
    "get_orfs(\"ATGCATGGCAGCA\")"
   ]
  },
  {
   "cell_type": "code",
   "execution_count": 28,
   "metadata": {},
   "outputs": [],
   "source": [
    "for dirname in ALLDIRNAMES:\n",
    "    if((dirname[len(dirname) - 3:] == \"fna\") and not (dirname[:len(dirname) - 3] + \"faa\") in ALLDIRNAMES):\n",
    "        print(\"Opening up \" + dirname + \" and converting into peptide sequences...\")\n",
    "        DNAseqs = []\n",
    "        seqDescriptions = []\n",
    "        for fastaobj in readFASTA(dirname):\n",
    "            DNAseqs.append(fastaobj[\"sequence\"])\n",
    "            seqDescriptions.append(fastaobj[\"description\"])\n",
    "            \n",
    "        entries = []\n",
    "        for i in range(0, len(DNAseqs)):\n",
    "            print(\"converting \" + str(len(DNAseqs[i])) + \" base pairs from \" + seqDescriptions[i])\n",
    "            aalist = get_orfs(DNAseqs[i])\n",
    "            print(\"created \" + str(len(aalist)) + \" peptide sequences from \" + seqDescriptions[i])\n",
    "            for e in range(0, len(aalist)):\n",
    "                entries.append({\n",
    "                    \"sequence\": aalist[e][\"sequence\"],\n",
    "                    \"description\": str(seqDescriptions[i] + \" - ORF \" + str(aalist[e][\"ORF\"])) \n",
    "                })\n",
    "        \n",
    "        print(\"writing read peptides into '\" + dirname[len('genomes/'):len(dirname) - 3] + \"faa'\")\n",
    "        with open(dirname[:len(dirname) - 3] + \"faa\", 'w') as outfile:\n",
    "            for ent in entries:\n",
    "                outfile.write(\"> \" + ent[\"description\"] + \"\\n\")\n",
    "                outfile.write(ent[\"sequence\"] + \"\\n\\n\")"
   ]
  },
  {
   "cell_type": "markdown",
   "metadata": {},
   "source": [
    "Now, we append all of the files ending in a \".faa\" translation to an array of files called DIRNAMES"
   ]
  },
  {
   "cell_type": "code",
   "execution_count": 29,
   "metadata": {},
   "outputs": [
    {
     "name": "stdout",
     "output_type": "stream",
     "text": [
      "['genomes/sequence.faa']\n"
     ]
    }
   ],
   "source": [
    "DIRNAMES = []\n",
    "for dirname in os.listdir(\"genomes\"):\n",
    "    if (dirname.find(\".\") != -1):\n",
    "        if(dirname[len(dirname) - 3:] == \"faa\"):\n",
    "            DIRNAMES.append(\"genomes/\" + dirname)\n",
    "    else:\n",
    "        for filename in os.listdir(\"genomes/\" + dirname):\n",
    "            if(filename[len(filename) - 3:] == \"faa\"):\n",
    "                DIRNAMES.append(\"genomes/\" + dirname + \"/\" + filename)\n",
    "    \n",
    "        \n",
    "print(DIRNAMES)"
   ]
  },
  {
   "cell_type": "markdown",
   "metadata": {},
   "source": [
    "### MAST method\n",
    "\n",
    "Define a method that lets us take a sequence and identify B and C proteins from it. Requires the sequence and the directory of the pre-generated MEME motif files as input, and returns a tuple containing the B matches and the C matches."
   ]
  },
  {
   "cell_type": "code",
   "execution_count": 11,
   "metadata": {},
   "outputs": [],
   "source": [
    "def mastSearch(sequence, memeDirB, memeDirC):\n",
    "    Bproteins = []\n",
    "    Cproteins = []\n",
    "    with open(\"tempseq.txt\", \"w\") as file:\n",
    "        file.write(\"> \" + \"temporary\" + \"\\n\")\n",
    "        file.write(sequence)\n",
    "        file.close()\n",
    "\n",
    "    os.system('mast -hit_list ' + memeDirB + ' tempseq.txt > tempoutB.txt')\n",
    "    os.system('mast -hit_list ' + memeDirC + ' tempseq.txt > tempoutC.txt')\n",
    "\n",
    "    with open(\"tempoutB.txt\", \"r\") as file:\n",
    "        inlines = file.readlines()\n",
    "        inlines = inlines[2:len(inlines) - 1]\n",
    "\n",
    "        \n",
    "        for line in inlines:\n",
    "            # remove ending newline character\n",
    "            line = line[:len(line) - 1]\n",
    "            params = line.split(' ')\n",
    "            while('' in params) : \n",
    "                params.remove('') \n",
    "            try:\n",
    "                newB = {\n",
    "                    \"strand\" : int(params[1]),\n",
    "                    \"motif\" : params[2],\n",
    "                    \"start\" : int(params[4]),\n",
    "                    \"end\" : int(params[5]),\n",
    "                    \"score\" : float(params[6]),\n",
    "                    \"p-value\" : float(params[7])\n",
    "                }\n",
    "                Bproteins.append(newB)\n",
    "            except:\n",
    "                print(\"error in parsing line - \" + line)\n",
    "                print(\"params: \" + str(params))\n",
    "        file.close()\n",
    "    with open(\"tempoutC.txt\", \"r\") as file:\n",
    "        inlines = file.readlines()\n",
    "        inlines = inlines[2:len(inlines) - 1]\n",
    "\n",
    "        \n",
    "        for line in inlines:\n",
    "            # remove ending newline character\n",
    "            line = line[:len(line) - 1]\n",
    "            params = line.split()\n",
    "            while('' in params) : \n",
    "                params.remove('') \n",
    "            try:\n",
    "                newC = {\n",
    "                    \"strand\" : int(params[1]),\n",
    "                    \"motif\" : params[2],\n",
    "                    \"start\" : int(params[4]),\n",
    "                    \"end\" : int(params[5]),\n",
    "                    \"score\" : float(params[6]),\n",
    "                    \"p-value\" : float(params[7])\n",
    "                }\n",
    "                Cproteins.append(newC)\n",
    "            except:\n",
    "                print(\"error in parsing line - \" + line)\n",
    "                print(\"params: \" + str(params))\n",
    "        file.close()\n",
    "\n",
    "    os.remove(\"tempseq.txt\")\n",
    "    os.remove(\"tempoutB.txt\")\n",
    "    os.remove(\"tempoutC.txt\")\n",
    "\n",
    "    return (Bproteins, Cproteins)"
   ]
  },
  {
   "cell_type": "markdown",
   "metadata": {},
   "source": [
    "### Pattern Matching\n",
    "Takes in 6 sequences corresponding to 6 ORFs of a given sequence, and then identifies B/C gene clusters within them. Then, use the python regular expression library to identify precursor peptides matching the regular expression pattern at the top of the script. The function returns a list of matched proteins, which have a specific sequence, ORF, nearest B/C cluster, and range within the overall sequence."
   ]
  },
  {
   "cell_type": "code",
   "execution_count": 32,
   "metadata": {},
   "outputs": [],
   "source": [
    "### Some helper functions\n",
    "def isOverlapping(start1, end1, start2, end2):\n",
    "    if (start1 <= start2) and (end1 >= start2):\n",
    "        return True\n",
    "    if(start2 <= start1) and (end2 >= start1):\n",
    "        return True\n",
    "    \n",
    "    \n",
    "    return False\n",
    "\n",
    "def adjustRangeByORF(ORF, length, start, end):\n",
    "    if ORF == 2:\n",
    "        start += 1\n",
    "        end += 1\n",
    "    elif ORF == 3:\n",
    "        start += 1\n",
    "        end += 1\n",
    "    elif ORF == -1:\n",
    "        temp = start\n",
    "        start = length - end\n",
    "        end = length - temp\n",
    "    elif ORF == -2:\n",
    "        temp = start\n",
    "        start = length - end - 1\n",
    "        end = length - temp - 1\n",
    "    elif ORF == -3:\n",
    "        temp = start\n",
    "        start = length - end - 2\n",
    "        end = length - temp - 2\n",
    "    \n",
    "    return [start, end]\n",
    "    "
   ]
  },
  {
   "cell_type": "code",
   "execution_count": 35,
   "metadata": {},
   "outputs": [],
   "source": [
    "def patternMatch(sequenceORFs, pattern, filename):\n",
    "    Aproteins = []\n",
    "    Bproteins = []\n",
    "    Cproteins = []\n",
    "    \n",
    "    \n",
    "    ## generate all of the Bs and Cs, and label them by ORF\n",
    "    ORFs = [1, 2, 3, -1, -2, -3]\n",
    "    ORF = 0\n",
    "    for pair in sequenceORFs:\n",
    "        overallSequence = pair[\"sequence\"]\n",
    "        pair = mastSearch(overallSequence, \"motifs/memeb.txt\", \"motifs/memec.txt\")\n",
    "        \n",
    "        newBs = pair[0]\n",
    "        newCs = pair[1]\n",
    "        \n",
    "        for b in newBs:\n",
    "            b[\"ORF\"] = ORFs[ORF]\n",
    "            prange = adjustRangeByORF(ORFs[ORF], len(overallSequence), b[\"start\"], b[\"end\"])\n",
    "            b[\"start\"] = prange[0]\n",
    "            b[\"end\"] = prange[1]\n",
    "            \n",
    "            \n",
    "        for c in newCs:\n",
    "            c[\"ORF\"] = ORFs[ORF]\n",
    "            prange = adjustRangeByORF(ORFs[ORF], len(overallSequence), c[\"start\"], c[\"end\"])\n",
    "            c[\"start\"] = prange[0]\n",
    "            c[\"end\"] = prange[1]\n",
    "        \n",
    "        Bproteins.extend(newBs)\n",
    "        Cproteins.extend(newCs)\n",
    "        \n",
    "        ORF += 1\n",
    "        \n",
    "    ## create all of the cluster points, and give them a score\n",
    "    ORF = 0\n",
    "    for pair in sequenceORFs:\n",
    "        overallSequence = pair[\"sequence\"]\n",
    "        description = filename[8:len(filename) - 4] + \" - \" + pair[\"description\"]\n",
    "        # find all matches in protein that match\n",
    "        matchIter = re.finditer(pattern, overallSequence)\n",
    "        done_looping = False\n",
    "        while not done_looping:\n",
    "            try:\n",
    "                match = next(matchIter)\n",
    "            except StopIteration:\n",
    "                done_looping = True\n",
    "            else:\n",
    "\n",
    "                # get the correct range based on span\n",
    "                indices = list(match.span())\n",
    "                indices = adjustRangeByORF(ORFs[ORF], len(overallSequence), indices[0], indices[1])\n",
    "\n",
    "                # make the ranking calculation and find closest B and C\n",
    "                rank = 0\n",
    "                start = indices[0]\n",
    "                end = indices[1]\n",
    "\n",
    "                term1 = 0\n",
    "                closest = float(\"inf\")\n",
    "                closestB = None\n",
    "                if len(Cproteins) != 0:\n",
    "                    for prot in Bproteins:\n",
    "                        if isOverlapping(start, end, prot[\"start\"], prot[\"end\"]):\n",
    "                            # print(str(start) + \"-\" + str(end) + \" |B at \" + str(prot[\"start\"]) + \"-\" + str(prot[\"end\"]))\n",
    "                            # print(prot)\n",
    "                            continue\n",
    "                        diffsquared = (prot[\"start\"] - start) ** 2\n",
    "                        if diffsquared < closest:\n",
    "                            closestB = prot\n",
    "                            closest = diffsquared\n",
    "                        term1 += (1.0 / float(diffsquared))\n",
    "                            \n",
    "\n",
    "                term2 = 0\n",
    "                closest = float(\"inf\")\n",
    "                closestC = None\n",
    "                if len(Bproteins) != 0:\n",
    "\n",
    "                    for prot in Cproteins:\n",
    "                        if isOverlapping(start, end, prot[\"start\"], prot[\"end\"]):\n",
    "                            # print(str(start) + \"-\" + str(end) + \" |C at \" + str(prot[\"start\"]) + \"-\" + str(prot[\"end\"]))\n",
    "                            # print(prot)\n",
    "                            continue\n",
    "                        diffsquared = (prot[\"start\"] - start) ** 2\n",
    "\n",
    "                        if diffsquared < closest:\n",
    "                            closestC = prot\n",
    "                            closest = diffsquared\n",
    "                        term2 += (1.0 / float(diffsquared))\n",
    "\n",
    "                rank = term1 * term2\n",
    "                if rank == 0:\n",
    "                    continue\n",
    "                else:\n",
    "                    rank = -1 * math.log(rank, 10)\n",
    "\n",
    "                # append the protein to the list of proteins\n",
    "                Aproteins.append({\n",
    "                    \"description\": description,\n",
    "                    \"sequence\": match.group(0),\n",
    "                    \"searchPattern\": match.re.pattern,\n",
    "                    \"searchRange\": indices,\n",
    "                    \"overallLength\": len(overallSequence),\n",
    "                    \"rank\": rank,\n",
    "                    \"closestB\": closestB,\n",
    "                    \"closestC\": closestC,\n",
    "                    \"ORF\": ORFs[ORF],\n",
    "                    \"genome\": description[:description.index(\"/\")]\n",
    "                    ## \"overallString\": match.string\n",
    "                })\n",
    "                \n",
    "        ORF += 1\n",
    "    return Aproteins"
   ]
  },
  {
   "cell_type": "markdown",
   "metadata": {},
   "source": [
    "Some unit testing..."
   ]
  },
  {
   "cell_type": "code",
   "execution_count": 36,
   "metadata": {},
   "outputs": [
    {
     "name": "stdout",
     "output_type": "stream",
     "text": [
      "Read 6 objects from FASTA file genomes/Streptomyces_leeuwenhoekii_GCA_001013905_1/NZ_LN831788.1.faa\n",
      "The A proteins...\n",
      "[3417, 3486] - 8.350842598439872 - {'strand': 2, 'motif': 'LRARGVYAHLVIGVR', 'start': 3592, 'end': 3606, 'score': 665.84, 'p-value': 5.65e-05, 'ORF': -3} - {'strand': 3, 'motif': 'ARDSSAILVELSGGLDSSIVA', 'start': 3291, 'end': 3311, 'score': 126.08, 'p-value': 3.76e-05, 'ORF': -3} - \n",
      "[3927, 3987] - 9.25293317339028 - {'strand': 2, 'motif': 'LRARGVYAHLVIGVR', 'start': 3809, 'end': 3823, 'score': 544.4, 'p-value': 9.49e-05, 'ORF': 2} - {'strand': 3, 'motif': 'ARDSSAILVELSGGLDSSIVA', 'start': 3291, 'end': 3311, 'score': 126.08, 'p-value': 3.76e-05, 'ORF': -3} - \n",
      "[4833, 4893] - 10.804559997750356 - {'strand': 2, 'motif': 'LRARGVYAHLVIGVR', 'start': 4364, 'end': 4378, 'score': 584.88, 'p-value': 7.99e-05, 'ORF': 2} - {'strand': 3, 'motif': 'ARDSSAILVELSGGLDSSIVA', 'start': 3291, 'end': 3311, 'score': 126.08, 'p-value': 3.76e-05, 'ORF': -3} - \n",
      "[9620, 9686] - 10.909920269872357 - {'strand': 4, 'motif': 'CLPRSIAL', 'start': 10323, 'end': 10330, 'score': 1052.48, 'p-value': 3.14e-05, 'ORF': 1} - {'strand': 2, 'motif': 'LLAQPVVEACLAIPTWDLAEGGQDR', 'start': 8497, 'end': 8521, 'score': 974.08, 'p-value': 6.4e-08, 'ORF': 2} - \n",
      "[13868, 13941] - 10.057670865736075 - {'strand': 4, 'motif': 'CLPRSIAL', 'start': 13516, 'end': 13523, 'score': 902.46, 'p-value': 7e-05, 'ORF': -1} - {'strand': 3, 'motif': 'ARDSSAILVELSGGLDSSIVA', 'start': 13198, 'end': 13218, 'score': 50.64, 'p-value': 4.92e-05, 'ORF': -1} - \n",
      "[14561, 14614] - 9.938943546558415 - {'strand': 4, 'motif': 'CLPRSIAL', 'start': 13516, 'end': 13523, 'score': 902.46, 'p-value': 7e-05, 'ORF': -1} - {'strand': 1, 'motif': 'DALFTGQGGDNVFCQVPSAAPALD', 'start': 14717, 'end': 14740, 'score': 358.08, 'p-value': 8.2e-06, 'ORF': -3} - \n",
      "[19753, 19787] - 8.848916837029131 - {'strand': 4, 'motif': 'CLPRSIAL', 'start': 20156, 'end': 20163, 'score': 960.16, 'p-value': 5.18e-05, 'ORF': -2} - {'strand': 3, 'motif': 'ARDSSAILVELSGGLDSSIVA', 'start': 19683, 'end': 19703, 'score': 757.89, 'p-value': 3.44e-06, 'ORF': -2} - \n",
      "[22083, 22126] - 11.445862159931622 - {'strand': 2, 'motif': 'LRARGVYAHLVIGVR', 'start': 23224, 'end': 23238, 'score': 1020.04, 'p-value': 1.13e-05, 'ORF': -3} - {'strand': 1, 'motif': 'DALFTGQGGDNVFCQVPSAAPALD', 'start': 21092, 'end': 21115, 'score': -240.48, 'p-value': 7.01e-05, 'ORF': 2} - \n",
      "[9722, 9801] - 10.870791594973769 - {'strand': 4, 'motif': 'CLPRSIAL', 'start': 10323, 'end': 10330, 'score': 1052.48, 'p-value': 3.14e-05, 'ORF': 1} - {'strand': 2, 'motif': 'LLAQPVVEACLAIPTWDLAEGGQDR', 'start': 8497, 'end': 8521, 'score': 974.08, 'p-value': 6.4e-08, 'ORF': 2} - \n",
      "[13920, 13966] - 10.176884387306645 - {'strand': 4, 'motif': 'CLPRSIAL', 'start': 13516, 'end': 13523, 'score': 902.46, 'p-value': 7e-05, 'ORF': -1} - {'strand': 3, 'motif': 'ARDSSAILVELSGGLDSSIVA', 'start': 13198, 'end': 13218, 'score': 50.64, 'p-value': 4.92e-05, 'ORF': -1} - \n",
      "[16918, 16977] - 10.856557892143236 - {'strand': 2, 'motif': 'LRARGVYAHLVIGVR', 'start': 17503, 'end': 17517, 'score': 534.28, 'p-value': 9.9e-05, 'ORF': 3} - {'strand': 3, 'motif': 'ARDSSAILVELSGGLDSSIVA', 'start': 15776, 'end': 15796, 'score': 31.78, 'p-value': 5.26e-05, 'ORF': 3} - \n",
      "[19504, 19580] - 9.932907506519834 - {'strand': 4, 'motif': 'CLPRSIAL', 'start': 20156, 'end': 20163, 'score': 960.16, 'p-value': 5.18e-05, 'ORF': -2} - {'strand': 3, 'motif': 'ARDSSAILVELSGGLDSSIVA', 'start': 19683, 'end': 19703, 'score': 757.89, 'p-value': 3.44e-06, 'ORF': -2} - \n",
      "[21396, 21480] - 10.730895594073461 - {'strand': 4, 'motif': 'CLPRSIAL', 'start': 20156, 'end': 20163, 'score': 960.16, 'p-value': 5.18e-05, 'ORF': -2} - {'strand': 1, 'motif': 'DALFTGQGGDNVFCQVPSAAPALD', 'start': 21092, 'end': 21115, 'score': -240.48, 'p-value': 7.01e-05, 'ORF': 2} - \n",
      "[22030, 22085] - 11.43751588753232 - {'strand': 2, 'motif': 'LRARGVYAHLVIGVR', 'start': 23224, 'end': 23238, 'score': 1020.04, 'p-value': 1.13e-05, 'ORF': -3} - {'strand': 1, 'motif': 'DALFTGQGGDNVFCQVPSAAPALD', 'start': 21092, 'end': 21115, 'score': -240.48, 'p-value': 7.01e-05, 'ORF': 2} - \n",
      "[27199, 27278] - 9.999576530786733 - {'strand': 1, 'motif': 'QPFAAHCWVZAGGVVLBDSPE', 'start': 26993, 'end': 27013, 'score': -557.25, 'p-value': 7.84e-05, 'ORF': 3} - {'strand': 2, 'motif': 'LLAQPVVEACLAIPTWDLAEGGQDR', 'start': 27948, 'end': 27972, 'score': -982.88, 'p-value': 7.64e-05, 'ORF': -1} - \n",
      "[3264, 3306] - 9.8944662676333 - {'strand': 2, 'motif': 'LRARGVYAHLVIGVR', 'start': 3592, 'end': 3606, 'score': 665.84, 'p-value': 5.65e-05, 'ORF': -3} - {'strand': 1, 'motif': 'DALFTGQGGDNVFCQVPSAAPALD', 'start': 2924, 'end': 2947, 'score': -302.4, 'p-value': 8.64e-05, 'ORF': 1} - \n",
      "[10667, 10702] - 10.154218717921307 - {'strand': 2, 'motif': 'LRARGVYAHLVIGVR', 'start': 11009, 'end': 11023, 'score': 696.2, 'p-value': 4.95e-05, 'ORF': -2} - {'strand': 2, 'motif': 'LLAQPVVEACLAIPTWDLAEGGQDR', 'start': 11303, 'end': 11327, 'score': -1019.12, 'p-value': 8.56e-05, 'ORF': -1} - \n",
      "[11719, 11783] - 10.56984833029787 - {'strand': 2, 'motif': 'LRARGVYAHLVIGVR', 'start': 11009, 'end': 11023, 'score': 696.2, 'p-value': 4.95e-05, 'ORF': -2} - {'strand': 2, 'motif': 'LLAQPVVEACLAIPTWDLAEGGQDR', 'start': 11303, 'end': 11327, 'score': -1019.12, 'p-value': 8.56e-05, 'ORF': -1} - \n",
      "[16422, 16473] - 9.481696449773636 - {'strand': 4, 'motif': 'CLPRSIAL', 'start': 16310, 'end': 16317, 'score': 902.46, 'p-value': 7e-05, 'ORF': -3} - {'strand': 3, 'motif': 'ARDSSAILVELSGGLDSSIVA', 'start': 15776, 'end': 15796, 'score': 31.78, 'p-value': 5.26e-05, 'ORF': 3} - \n",
      "[17325, 17376] - 10.147498717151883 - {'strand': 2, 'motif': 'LRARGVYAHLVIGVR', 'start': 17503, 'end': 17517, 'score': 534.28, 'p-value': 9.9e-05, 'ORF': 3} - {'strand': 1, 'motif': 'DALFTGQGGDNVFCQVPSAAPALD', 'start': 18684, 'end': 18707, 'score': -157.92, 'p-value': 5.28e-05, 'ORF': 1} - \n",
      "[20496, 20564] - 10.29602029088615 - {'strand': 4, 'motif': 'CLPRSIAL', 'start': 20156, 'end': 20163, 'score': 960.16, 'p-value': 5.18e-05, 'ORF': -2} - {'strand': 1, 'motif': 'DALFTGQGGDNVFCQVPSAAPALD', 'start': 21092, 'end': 21115, 'score': -240.48, 'p-value': 7.01e-05, 'ORF': 2} - \n",
      "[22850, 22886] - 10.928025555398639 - {'strand': 2, 'motif': 'LRARGVYAHLVIGVR', 'start': 23224, 'end': 23238, 'score': 1020.04, 'p-value': 1.13e-05, 'ORF': -3} - {'strand': 1, 'motif': 'DALFTGQGGDNVFCQVPSAAPALD', 'start': 21092, 'end': 21115, 'score': -240.48, 'p-value': 7.01e-05, 'ORF': 2} - \n",
      "[23640, 23685] - 10.553510442933394 - {'strand': 4, 'motif': 'CLPRSIAL', 'start': 23397, 'end': 23404, 'score': 960.16, 'p-value': 5.18e-05, 'ORF': -3} - {'strand': 3, 'motif': 'ARDSSAILVELSGGLDSSIVA', 'start': 25264, 'end': 25284, 'score': 541.0, 'p-value': 8.06e-06, 'ORF': 3} - \n",
      "[26307, 26382] - 10.666094455132122 - {'strand': 1, 'motif': 'QPFAAHCWVZAGGVVLBDSPE', 'start': 26993, 'end': 27013, 'score': -557.25, 'p-value': 7.84e-05, 'ORF': 3} - {'strand': 2, 'motif': 'LLAQPVVEACLAIPTWDLAEGGQDR', 'start': 25482, 'end': 25506, 'score': -656.72, 'p-value': 2.67e-05, 'ORF': -2} - \n",
      "[25959, 25997] - 9.994617772645759 - {'strand': 4, 'motif': 'CLPRSIAL', 'start': 25583, 'end': 25590, 'score': 1098.64, 'p-value': 2.43e-05, 'ORF': 1} - {'strand': 2, 'motif': 'LLAQPVVEACLAIPTWDLAEGGQDR', 'start': 25482, 'end': 25506, 'score': -656.72, 'p-value': 2.67e-05, 'ORF': -2} - \n",
      "[22980, 23052] - 10.618764111868702 - {'strand': 2, 'motif': 'LRARGVYAHLVIGVR', 'start': 23224, 'end': 23238, 'score': 1020.04, 'p-value': 1.13e-05, 'ORF': -3} - {'strand': 1, 'motif': 'DALFTGQGGDNVFCQVPSAAPALD', 'start': 21092, 'end': 21115, 'score': -240.48, 'p-value': 7.01e-05, 'ORF': 2} - \n",
      "[20771, 20846] - 10.418296612714819 - {'strand': 4, 'motif': 'CLPRSIAL', 'start': 20156, 'end': 20163, 'score': 960.16, 'p-value': 5.18e-05, 'ORF': -2} - {'strand': 1, 'motif': 'DALFTGQGGDNVFCQVPSAAPALD', 'start': 21092, 'end': 21115, 'score': -240.48, 'p-value': 7.01e-05, 'ORF': 2} - \n",
      "[16896, 16963] - 10.851330627955184 - {'strand': 4, 'motif': 'CLPRSIAL', 'start': 16310, 'end': 16317, 'score': 902.46, 'p-value': 7e-05, 'ORF': -3} - {'strand': 3, 'motif': 'ARDSSAILVELSGGLDSSIVA', 'start': 15776, 'end': 15796, 'score': 31.78, 'p-value': 5.26e-05, 'ORF': 3} - \n",
      "[6619, 6666] - 10.658573386144834 - {'strand': 2, 'motif': 'LRARGVYAHLVIGVR', 'start': 7380, 'end': 7394, 'score': 1414.72, 'p-value': 1.57e-06, 'ORF': -2} - {'strand': 2, 'motif': 'LLAQPVVEACLAIPTWDLAEGGQDR', 'start': 7136, 'end': 7160, 'score': -874.16, 'p-value': 5.41e-05, 'ORF': -3} - \n",
      "[2264, 2323] - 11.157821747947574 - {'strand': 2, 'motif': 'LRARGVYAHLVIGVR', 'start': 3592, 'end': 3606, 'score': 665.84, 'p-value': 5.65e-05, 'ORF': -3} - {'strand': 1, 'motif': 'DALFTGQGGDNVFCQVPSAAPALD', 'start': 2924, 'end': 2947, 'score': -302.4, 'p-value': 8.64e-05, 'ORF': 1} - \n",
      "[452, 516] - 11.147947532922126 - {'strand': 2, 'motif': 'LRARGVYAHLVIGVR', 'start': 3592, 'end': 3606, 'score': 665.84, 'p-value': 5.65e-05, 'ORF': -3} - {'strand': 3, 'motif': 'ARDSSAILVELSGGLDSSIVA', 'start': 684, 'end': 704, 'score': 267.53, 'p-value': 2.25e-05, 'ORF': 2} - \n",
      "[24874, 24935] - 10.255690091653157 - {'strand': 2, 'motif': 'LRARGVYAHLVIGVR', 'start': 25528, 'end': 25542, 'score': 1434.96, 'p-value': 1.41e-06, 'ORF': 2} - {'strand': 3, 'motif': 'ARDSSAILVELSGGLDSSIVA', 'start': 25264, 'end': 25284, 'score': 541.0, 'p-value': 8.06e-06, 'ORF': 3} - \n",
      "[20143, 20198] - 11.326397866820223 - {'strand': 2, 'motif': 'LRARGVYAHLVIGVR', 'start': 17503, 'end': 17517, 'score': 534.28, 'p-value': 9.9e-05, 'ORF': 3} - {'strand': 3, 'motif': 'ARDSSAILVELSGGLDSSIVA', 'start': 19683, 'end': 19703, 'score': 757.89, 'p-value': 3.44e-06, 'ORF': -2} - \n",
      "[19781, 19841] - 9.077600880977753 - {'strand': 4, 'motif': 'CLPRSIAL', 'start': 20156, 'end': 20163, 'score': 960.16, 'p-value': 5.18e-05, 'ORF': -2} - {'strand': 3, 'motif': 'ARDSSAILVELSGGLDSSIVA', 'start': 19683, 'end': 19703, 'score': 757.89, 'p-value': 3.44e-06, 'ORF': -2} - \n",
      "[14387, 14440] - 10.373572833602477 - {'strand': 4, 'motif': 'CLPRSIAL', 'start': 13516, 'end': 13523, 'score': 902.46, 'p-value': 7e-05, 'ORF': -1} - {'strand': 1, 'motif': 'DALFTGQGGDNVFCQVPSAAPALD', 'start': 14717, 'end': 14740, 'score': 358.08, 'p-value': 8.2e-06, 'ORF': -3} - \n",
      "[11128, 11198] - 8.604334616689172 - {'strand': 2, 'motif': 'LRARGVYAHLVIGVR', 'start': 11009, 'end': 11023, 'score': 696.2, 'p-value': 4.95e-05, 'ORF': -2} - {'strand': 2, 'motif': 'LLAQPVVEACLAIPTWDLAEGGQDR', 'start': 11303, 'end': 11327, 'score': -1019.12, 'p-value': 8.56e-05, 'ORF': -1} - \n",
      "[6850, 6918] - 8.99771438329939 - {'strand': 2, 'motif': 'LRARGVYAHLVIGVR', 'start': 6605, 'end': 6619, 'score': 574.76, 'p-value': 8.35e-05, 'ORF': -3} - {'strand': 1, 'motif': 'DALFTGQGGDNVFCQVPSAAPALD', 'start': 6660, 'end': 6683, 'score': 162.0, 'p-value': 1.69e-05, 'ORF': 1} - \n",
      "[5307, 5374] - 11.13713995032291 - {'strand': 2, 'motif': 'LRARGVYAHLVIGVR', 'start': 4364, 'end': 4378, 'score': 584.88, 'p-value': 7.99e-05, 'ORF': 2} - {'strand': 1, 'motif': 'DALFTGQGGDNVFCQVPSAAPALD', 'start': 6660, 'end': 6683, 'score': 162.0, 'p-value': 1.69e-05, 'ORF': 1} - \n",
      "[2464, 2520] - 10.815948746183112 - {'strand': 2, 'motif': 'LRARGVYAHLVIGVR', 'start': 3592, 'end': 3606, 'score': 665.84, 'p-value': 5.65e-05, 'ORF': -3} - {'strand': 1, 'motif': 'DALFTGQGGDNVFCQVPSAAPALD', 'start': 2924, 'end': 2947, 'score': -302.4, 'p-value': 8.64e-05, 'ORF': 1} - \n",
      "[23802, 23859] - 10.87826128671755 - {'strand': 4, 'motif': 'CLPRSIAL', 'start': 23397, 'end': 23404, 'score': 960.16, 'p-value': 5.18e-05, 'ORF': -3} - {'strand': 3, 'motif': 'ARDSSAILVELSGGLDSSIVA', 'start': 25264, 'end': 25284, 'score': 541.0, 'p-value': 8.06e-06, 'ORF': 3} - \n",
      "[11479, 11533] - 9.678552230657056 - {'strand': 2, 'motif': 'LRARGVYAHLVIGVR', 'start': 11009, 'end': 11023, 'score': 696.2, 'p-value': 4.95e-05, 'ORF': -2} - {'strand': 2, 'motif': 'LLAQPVVEACLAIPTWDLAEGGQDR', 'start': 11303, 'end': 11327, 'score': -1019.12, 'p-value': 8.56e-05, 'ORF': -1} - \n",
      "[7332, 7394] - 9.245850626737663 - {'strand': 2, 'motif': 'LRARGVYAHLVIGVR', 'start': 6605, 'end': 6619, 'score': 574.76, 'p-value': 8.35e-05, 'ORF': -3} - {'strand': 3, 'motif': 'ARDSSAILVELSGGLDSSIVA', 'start': 7440, 'end': 7460, 'score': -5.94, 'p-value': 6e-05, 'ORF': -3} - \n",
      "[6227, 6269] - 10.099095668005061 - {'strand': 2, 'motif': 'LRARGVYAHLVIGVR', 'start': 6605, 'end': 6619, 'score': 574.76, 'p-value': 8.35e-05, 'ORF': -3} - {'strand': 1, 'motif': 'DALFTGQGGDNVFCQVPSAAPALD', 'start': 6660, 'end': 6683, 'score': 162.0, 'p-value': 1.69e-05, 'ORF': 1} - \n",
      "[1889, 1960] - 11.555148018729477 - {'strand': 2, 'motif': 'LRARGVYAHLVIGVR', 'start': 3592, 'end': 3606, 'score': 665.84, 'p-value': 5.65e-05, 'ORF': -3} - {'strand': 1, 'motif': 'DALFTGQGGDNVFCQVPSAAPALD', 'start': 2924, 'end': 2947, 'score': -302.4, 'p-value': 8.64e-05, 'ORF': 1} - \n",
      "[1784, 1859] - 11.622525400306428 - {'strand': 2, 'motif': 'LRARGVYAHLVIGVR', 'start': 3592, 'end': 3606, 'score': 665.84, 'p-value': 5.65e-05, 'ORF': -3} - {'strand': 3, 'motif': 'ARDSSAILVELSGGLDSSIVA', 'start': 684, 'end': 704, 'score': 267.53, 'p-value': 2.25e-05, 'ORF': 2} - \n"
     ]
    }
   ],
   "source": [
    "pair = readFASTA(DIRNAMES[2])\n",
    "A = patternMatch(pair, PATTERN, \"file/thinggenome/file\")\n",
    "    \n",
    "print(\"The A proteins...\")\n",
    "for prot in A:\n",
    "    print(str(prot[\"searchRange\"]) + \" - \" + str(prot[\"rank\"]) + \" - \" + str(prot[\"closestB\"]) + \" - \" + str(prot[\"closestC\"]) + \" - \")"
   ]
  },
  {
   "cell_type": "markdown",
   "metadata": {},
   "source": [
    "### The Search\n",
    "Run the pattern matching method on all of the directoried genomes"
   ]
  },
  {
   "cell_type": "code",
   "execution_count": 37,
   "metadata": {},
   "outputs": [
    {
     "name": "stdout",
     "output_type": "stream",
     "text": [
      "Read 6 objects from FASTA file genomes/Streptomyces_leeuwenhoekii_GCA_001013905_1/NZ_LN831789.1.faa\n",
      "Read 6 objects from FASTA file genomes/Streptomyces_leeuwenhoekii_GCA_001013905_1/NZ_LN831790.1.faa\n",
      "Read 6 objects from FASTA file genomes/Streptomyces_leeuwenhoekii_GCA_001013905_1/NZ_LN831788.1.faa\n",
      "Read 6 objects from FASTA file genomes/Streptomyces_lividans_TK24_GCA_000739105_1/NZ_CP009124.1.faa\n",
      "Read 6 objects from FASTA file genomes/Streptomyces_albus_GCA_000827005_1/NZ_CP010519.1.faa\n",
      "Read 6 objects from FASTA file genomes/Xanthomonas_citri_citri_Aw12879_GCA_000349225_1/NC_020816.1.faa\n",
      "Read 6 objects from FASTA file genomes/Xanthomonas_citri_citri_Aw12879_GCA_000349225_1/NC_020815.1.faa\n",
      "Read 6 objects from FASTA file genomes/Xanthomonas_citri_citri_Aw12879_GCA_000349225_1/NC_020817.1.faa\n",
      "Read 6 objects from FASTA file genomes/Asticcacaulis_excentricus_CB_48_GCA_000175215_2/NC_014818.1.faa\n",
      "Read 6 objects from FASTA file genomes/Asticcacaulis_excentricus_CB_48_GCA_000175215_2/NC_014819.1.faa\n",
      "Read 6 objects from FASTA file genomes/Asticcacaulis_excentricus_CB_48_GCA_000175215_2/NC_014817.1.faa\n",
      "Read 6 objects from FASTA file genomes/Asticcacaulis_excentricus_CB_48_GCA_000175215_2/NC_014816.1.faa\n",
      "Read 6 objects from FASTA file genomes/Frankia_CcI3_GCA_000013345_1/NC_007777.1.faa\n",
      "Read 6 objects from FASTA file genomes/Streptococcus_suis_ST3_GCA_000204625_1/NC_015433.1.faa\n",
      "Read 6 objects from FASTA file genomes/Streptomyces_albus_GCA_001577385_1/NZ_CP014485.1.faa\n",
      "Read 6 objects from FASTA file genomes/Asticcacaulis_benevestitus_DSM_16100_uid199072/NZ_AQWM01000071.faa\n",
      "Read 6 objects from FASTA file genomes/Asticcacaulis_benevestitus_DSM_16100_uid199072/NZ_AQWM01000022.faa\n",
      "Read 6 objects from FASTA file genomes/Asticcacaulis_benevestitus_DSM_16100_uid199072/NZ_AQWM01000042.faa\n",
      "Read 6 objects from FASTA file genomes/Asticcacaulis_benevestitus_DSM_16100_uid199072/NZ_AQWM01000060.faa\n",
      "Read 6 objects from FASTA file genomes/Asticcacaulis_benevestitus_DSM_16100_uid199072/NZ_AQWM01000079.faa\n",
      "Read 6 objects from FASTA file genomes/Asticcacaulis_benevestitus_DSM_16100_uid199072/NZ_AQWM01000062.faa\n",
      "Read 6 objects from FASTA file genomes/Asticcacaulis_benevestitus_DSM_16100_uid199072/NZ_AQWM01000051.faa\n",
      "Read 6 objects from FASTA file genomes/Asticcacaulis_benevestitus_DSM_16100_uid199072/NZ_AQWM01000034.faa\n",
      "Read 6 objects from FASTA file genomes/Asticcacaulis_benevestitus_DSM_16100_uid199072/NZ_AQWM01000067.faa\n",
      "Read 6 objects from FASTA file genomes/Asticcacaulis_benevestitus_DSM_16100_uid199072/NZ_AQWM01000041.faa\n",
      "Read 6 objects from FASTA file genomes/Asticcacaulis_benevestitus_DSM_16100_uid199072/NZ_AQWM01000072.faa\n",
      "Read 6 objects from FASTA file genomes/Asticcacaulis_benevestitus_DSM_16100_uid199072/NZ_AQWM01000039.faa\n",
      "Read 6 objects from FASTA file genomes/Asticcacaulis_benevestitus_DSM_16100_uid199072/NZ_AQWM01000083.faa\n",
      "Read 6 objects from FASTA file genomes/Asticcacaulis_benevestitus_DSM_16100_uid199072/NZ_AQWM01000094.faa\n",
      "Read 6 objects from FASTA file genomes/Asticcacaulis_benevestitus_DSM_16100_uid199072/NZ_AQWM01000014.faa\n",
      "Read 6 objects from FASTA file genomes/Asticcacaulis_benevestitus_DSM_16100_uid199072/NZ_AQWM01000032.faa\n",
      "Read 6 objects from FASTA file genomes/Asticcacaulis_benevestitus_DSM_16100_uid199072/NZ_AQWM01000003.faa\n",
      "Read 6 objects from FASTA file genomes/Asticcacaulis_benevestitus_DSM_16100_uid199072/NZ_AQWM01000026.faa\n",
      "Read 6 objects from FASTA file genomes/Asticcacaulis_benevestitus_DSM_16100_uid199072/NZ_AQWM01000080.faa\n",
      "Read 6 objects from FASTA file genomes/Asticcacaulis_benevestitus_DSM_16100_uid199072/NZ_AQWM01000023.faa\n",
      "Read 6 objects from FASTA file genomes/Asticcacaulis_benevestitus_DSM_16100_uid199072/NZ_AQWM01000065.faa\n",
      "Read 6 objects from FASTA file genomes/Asticcacaulis_benevestitus_DSM_16100_uid199072/NZ_AQWM01000007.faa\n",
      "Read 6 objects from FASTA file genomes/Asticcacaulis_benevestitus_DSM_16100_uid199072/NZ_AQWM01000013.faa\n",
      "Read 6 objects from FASTA file genomes/Asticcacaulis_benevestitus_DSM_16100_uid199072/NZ_AQWM01000048.faa\n",
      "Read 6 objects from FASTA file genomes/Asticcacaulis_benevestitus_DSM_16100_uid199072/NZ_AQWM01000081.faa\n",
      "Read 6 objects from FASTA file genomes/Asticcacaulis_benevestitus_DSM_16100_uid199072/NZ_AQWM01000054.faa\n",
      "Read 6 objects from FASTA file genomes/Asticcacaulis_benevestitus_DSM_16100_uid199072/NZ_AQWM01000100.faa\n",
      "Read 6 objects from FASTA file genomes/Asticcacaulis_benevestitus_DSM_16100_uid199072/NZ_AQWM01000047.faa\n",
      "Read 6 objects from FASTA file genomes/Asticcacaulis_benevestitus_DSM_16100_uid199072/NZ_AQWM01000078.faa\n",
      "Read 6 objects from FASTA file genomes/Asticcacaulis_benevestitus_DSM_16100_uid199072/NZ_AQWM01000005.faa\n",
      "Read 6 objects from FASTA file genomes/Asticcacaulis_benevestitus_DSM_16100_uid199072/NZ_AQWM01000031.faa\n",
      "Read 6 objects from FASTA file genomes/Asticcacaulis_benevestitus_DSM_16100_uid199072/NZ_AQWM01000040.faa\n",
      "Read 6 objects from FASTA file genomes/Asticcacaulis_benevestitus_DSM_16100_uid199072/NZ_AQWM01000028.faa\n",
      "Read 6 objects from FASTA file genomes/Asticcacaulis_benevestitus_DSM_16100_uid199072/NZ_AQWM01000077.faa\n",
      "Read 6 objects from FASTA file genomes/Asticcacaulis_benevestitus_DSM_16100_uid199072/NZ_AQWM01000044.faa\n",
      "Read 6 objects from FASTA file genomes/Asticcacaulis_benevestitus_DSM_16100_uid199072/NZ_AQWM01000084.faa\n",
      "Read 6 objects from FASTA file genomes/Asticcacaulis_benevestitus_DSM_16100_uid199072/NZ_AQWM01000085.faa\n",
      "Read 6 objects from FASTA file genomes/Asticcacaulis_benevestitus_DSM_16100_uid199072/NZ_AQWM01000025.faa\n",
      "Read 6 objects from FASTA file genomes/Asticcacaulis_benevestitus_DSM_16100_uid199072/NZ_AQWM01000049.faa\n",
      "Read 6 objects from FASTA file genomes/Asticcacaulis_benevestitus_DSM_16100_uid199072/NZ_AQWM01000058.faa\n",
      "Read 6 objects from FASTA file genomes/Asticcacaulis_benevestitus_DSM_16100_uid199072/NZ_AQWM01000033.faa\n",
      "Read 6 objects from FASTA file genomes/Asticcacaulis_benevestitus_DSM_16100_uid199072/NZ_AQWM01000008.faa\n",
      "Read 6 objects from FASTA file genomes/Asticcacaulis_benevestitus_DSM_16100_uid199072/NZ_AQWM01000068.faa\n",
      "Read 6 objects from FASTA file genomes/Asticcacaulis_benevestitus_DSM_16100_uid199072/NZ_AQWM01000055.faa\n",
      "Read 6 objects from FASTA file genomes/Asticcacaulis_benevestitus_DSM_16100_uid199072/NZ_AQWM01000019.faa\n",
      "Read 6 objects from FASTA file genomes/Asticcacaulis_benevestitus_DSM_16100_uid199072/NZ_AQWM01000016.faa\n",
      "Read 6 objects from FASTA file genomes/Asticcacaulis_benevestitus_DSM_16100_uid199072/NZ_AQWM01000099.faa\n",
      "Read 6 objects from FASTA file genomes/Asticcacaulis_benevestitus_DSM_16100_uid199072/NZ_AQWM01000074.faa\n",
      "Read 6 objects from FASTA file genomes/Asticcacaulis_benevestitus_DSM_16100_uid199072/NZ_AQWM01000037.faa\n",
      "Read 6 objects from FASTA file genomes/Asticcacaulis_benevestitus_DSM_16100_uid199072/NZ_AQWM01000012.faa\n",
      "Read 6 objects from FASTA file genomes/Asticcacaulis_benevestitus_DSM_16100_uid199072/NZ_AQWM01000096.faa\n",
      "Read 6 objects from FASTA file genomes/Asticcacaulis_benevestitus_DSM_16100_uid199072/NZ_AQWM01000052.faa\n",
      "Read 6 objects from FASTA file genomes/Asticcacaulis_benevestitus_DSM_16100_uid199072/NZ_AQWM01000053.faa\n",
      "Read 6 objects from FASTA file genomes/Asticcacaulis_benevestitus_DSM_16100_uid199072/NZ_AQWM01000063.faa\n",
      "Read 6 objects from FASTA file genomes/Asticcacaulis_benevestitus_DSM_16100_uid199072/NZ_AQWM01000024.faa\n",
      "Read 6 objects from FASTA file genomes/Asticcacaulis_benevestitus_DSM_16100_uid199072/NZ_AQWM01000090.faa\n",
      "Read 6 objects from FASTA file genomes/Asticcacaulis_benevestitus_DSM_16100_uid199072/NZ_AQWM01000092.faa\n",
      "Read 6 objects from FASTA file genomes/Asticcacaulis_benevestitus_DSM_16100_uid199072/NZ_AQWM01000093.faa\n",
      "Read 6 objects from FASTA file genomes/Asticcacaulis_benevestitus_DSM_16100_uid199072/NZ_AQWM01000059.faa\n",
      "Read 6 objects from FASTA file genomes/Asticcacaulis_benevestitus_DSM_16100_uid199072/NZ_AQWM01000004.faa\n",
      "Read 6 objects from FASTA file genomes/Asticcacaulis_benevestitus_DSM_16100_uid199072/NZ_AQWM01000061.faa\n",
      "Read 6 objects from FASTA file genomes/Asticcacaulis_benevestitus_DSM_16100_uid199072/NZ_AQWM01000020.faa\n",
      "Read 6 objects from FASTA file genomes/Asticcacaulis_benevestitus_DSM_16100_uid199072/NZ_AQWM01000086.faa\n",
      "Read 6 objects from FASTA file genomes/Asticcacaulis_benevestitus_DSM_16100_uid199072/NZ_AQWM01000010.faa\n"
     ]
    },
    {
     "name": "stdout",
     "output_type": "stream",
     "text": [
      "Read 6 objects from FASTA file genomes/Asticcacaulis_benevestitus_DSM_16100_uid199072/NZ_AQWM01000064.faa\n",
      "Read 6 objects from FASTA file genomes/Asticcacaulis_benevestitus_DSM_16100_uid199072/NZ_AQWM01000015.faa\n",
      "Read 6 objects from FASTA file genomes/Asticcacaulis_benevestitus_DSM_16100_uid199072/NZ_AQWM01000070.faa\n",
      "Read 6 objects from FASTA file genomes/Asticcacaulis_benevestitus_DSM_16100_uid199072/NZ_AQWM01000097.faa\n",
      "Read 6 objects from FASTA file genomes/Asticcacaulis_benevestitus_DSM_16100_uid199072/NZ_AQWM01000075.faa\n",
      "Read 6 objects from FASTA file genomes/Asticcacaulis_benevestitus_DSM_16100_uid199072/NZ_AQWM01000091.faa\n",
      "Read 6 objects from FASTA file genomes/Asticcacaulis_benevestitus_DSM_16100_uid199072/NZ_AQWM01000095.faa\n",
      "Read 6 objects from FASTA file genomes/Asticcacaulis_benevestitus_DSM_16100_uid199072/NZ_AQWM01000088.faa\n",
      "Read 6 objects from FASTA file genomes/Asticcacaulis_benevestitus_DSM_16100_uid199072/NZ_AQWM01000066.faa\n",
      "Read 6 objects from FASTA file genomes/Asticcacaulis_benevestitus_DSM_16100_uid199072/NZ_AQWM01000098.faa\n",
      "Read 6 objects from FASTA file genomes/Asticcacaulis_benevestitus_DSM_16100_uid199072/NZ_AQWM01000011.faa\n",
      "Read 6 objects from FASTA file genomes/Asticcacaulis_benevestitus_DSM_16100_uid199072/NZ_AQWM01000002.faa\n",
      "Read 6 objects from FASTA file genomes/Asticcacaulis_benevestitus_DSM_16100_uid199072/NZ_AQWM01000006.faa\n",
      "Read 6 objects from FASTA file genomes/Asticcacaulis_benevestitus_DSM_16100_uid199072/NZ_AQWM01000056.faa\n",
      "Read 6 objects from FASTA file genomes/Asticcacaulis_benevestitus_DSM_16100_uid199072/NZ_AQWM01000043.faa\n",
      "Read 6 objects from FASTA file genomes/Asticcacaulis_benevestitus_DSM_16100_uid199072/NZ_AQWM01000036.faa\n",
      "Read 6 objects from FASTA file genomes/Asticcacaulis_benevestitus_DSM_16100_uid199072/NZ_AQWM01000050.faa\n",
      "Read 6 objects from FASTA file genomes/Asticcacaulis_benevestitus_DSM_16100_uid199072/NZ_AQWM01000030.faa\n",
      "Read 6 objects from FASTA file genomes/Asticcacaulis_benevestitus_DSM_16100_uid199072/NZ_AQWM01000069.faa\n",
      "Read 6 objects from FASTA file genomes/Asticcacaulis_benevestitus_DSM_16100_uid199072/NZ_AQWM01000076.faa\n",
      "Read 6 objects from FASTA file genomes/Asticcacaulis_benevestitus_DSM_16100_uid199072/NZ_AQWM01000087.faa\n",
      "Read 6 objects from FASTA file genomes/Asticcacaulis_benevestitus_DSM_16100_uid199072/NZ_AQWM01000035.faa\n",
      "Read 6 objects from FASTA file genomes/Asticcacaulis_benevestitus_DSM_16100_uid199072/NZ_AQWM01000029.faa\n",
      "Read 6 objects from FASTA file genomes/Asticcacaulis_benevestitus_DSM_16100_uid199072/NZ_AQWM01000018.faa\n",
      "Read 6 objects from FASTA file genomes/Asticcacaulis_benevestitus_DSM_16100_uid199072/NZ_AQWM01000089.faa\n",
      "Read 6 objects from FASTA file genomes/Asticcacaulis_benevestitus_DSM_16100_uid199072/NZ_AQWM01000057.faa\n",
      "Read 6 objects from FASTA file genomes/Asticcacaulis_benevestitus_DSM_16100_uid199072/NZ_AQWM01000021.faa\n",
      "Read 6 objects from FASTA file genomes/Asticcacaulis_benevestitus_DSM_16100_uid199072/NZ_AQWM01000038.faa\n",
      "Read 6 objects from FASTA file genomes/Asticcacaulis_benevestitus_DSM_16100_uid199072/NZ_AQWM01000009.faa\n",
      "Read 6 objects from FASTA file genomes/Asticcacaulis_benevestitus_DSM_16100_uid199072/NZ_AQWM01000001.faa\n",
      "Read 6 objects from FASTA file genomes/Asticcacaulis_benevestitus_DSM_16100_uid199072/NZ_AQWM01000017.faa\n",
      "Read 6 objects from FASTA file genomes/Asticcacaulis_benevestitus_DSM_16100_uid199072/NZ_AQWM01000073.faa\n",
      "Read 6 objects from FASTA file genomes/Asticcacaulis_benevestitus_DSM_16100_uid199072/NZ_AQWM01000082.faa\n",
      "Read 6 objects from FASTA file genomes/Asticcacaulis_benevestitus_DSM_16100_uid199072/NZ_AQWM01000045.faa\n",
      "Read 6 objects from FASTA file genomes/Asticcacaulis_benevestitus_DSM_16100_uid199072/NZ_AQWM01000046.faa\n",
      "Read 6 objects from FASTA file genomes/Asticcacaulis_benevestitus_DSM_16100_uid199072/NZ_AQWM01000027.faa\n",
      "Read 6 objects from FASTA file genomes/Streptomyces_albus_J1074_GCA_000359525_1/NC_020990.1.faa\n",
      "Found 24740 that satisfy the pattern: M[A-Z]{15,45}T[A-Z][A-Z]{6,8}[DE][A-Z]{5,30}\\*\n"
     ]
    }
   ],
   "source": [
    "matchedProteins = []\n",
    "for filename in DIRNAMES:\n",
    "    readSequences = readFASTA(filename)\n",
    "    if(not len(readSequences) == 6):\n",
    "        print(\"Error: sequence in file \" + filename + \" does not have 6 sequences for 6 ORFs\")\n",
    "        print(\"Instead, it has \" + str(len(readSequences)))\n",
    "        raise RuntimeError\n",
    "    matchedProteins.extend(patternMatch(readSequences, PATTERN, filename))\n",
    "    \n",
    "\n",
    "print(\"Found \" + str(len(matchedProteins)) + \" that satisfy the pattern: \" + PATTERN)\n",
    "# for match in matchedProteins:\n",
    "#     print(match[\"sequence\"] + \", found in range \" + str(match[\"searchRange\"]))\n",
    "#     print(\"description: \" + match[\"description\"])\n",
    "\n"
   ]
  },
  {
   "cell_type": "code",
   "execution_count": 38,
   "metadata": {},
   "outputs": [
    {
     "data": {
      "text/plain": [
       "{'description': 'Streptomyces_leeuwenhoekii_GCA_001013905_1\\uf028/NZ_LN831790.1 -  gi|824057350|ref|NZ_LN831790.1| Streptomyces leeuwenhoekii genome assembly sleC34, chromosome : chromosome - ORF 1',\n",
       " 'sequence': 'MSPCTKSRRGWPSSRLSGFPAYVSLSSTVIRGAPGASEASSART*',\n",
       " 'searchPattern': 'M[A-Z]{15,45}T[A-Z][A-Z]{6,8}[DE][A-Z]{5,30}\\\\*',\n",
       " 'searchRange': [190961, 191006],\n",
       " 'overallLength': 2634631,\n",
       " 'rank': 11.562712028666043,\n",
       " 'closestB': {'strand': 4,\n",
       "  'motif': 'CLPRSIAL',\n",
       "  'start': 189626,\n",
       "  'end': 189633,\n",
       "  'score': 1029.4,\n",
       "  'p-value': 3.57e-05,\n",
       "  'ORF': 2},\n",
       " 'closestC': {'strand': 3,\n",
       "  'motif': 'ARDSSAILVELSGGLDSSIVA',\n",
       "  'start': 191811,\n",
       "  'end': 191831,\n",
       "  'score': 427.84,\n",
       "  'p-value': 1.24e-05,\n",
       "  'ORF': -3},\n",
       " 'ORF': 1,\n",
       " 'genome': 'Streptomyces_leeuwenhoekii_GCA_001013905_1\\uf028'}"
      ]
     },
     "execution_count": 38,
     "metadata": {},
     "output_type": "execute_result"
    }
   ],
   "source": [
    "matchedProteins[100]"
   ]
  },
  {
   "cell_type": "code",
   "execution_count": 39,
   "metadata": {},
   "outputs": [],
   "source": [
    "with open('matches.json', 'w') as outfile:\n",
    "    json.dump(matchedProteins, outfile)"
   ]
  },
  {
   "cell_type": "code",
   "execution_count": 30,
   "metadata": {},
   "outputs": [],
   "source": [
    "lassopeptides = []\n",
    "with open('matches.json', 'r') as storedfile:\n",
    "    lassopeptides = json.loads(storedfile.read())\n"
   ]
  },
  {
   "cell_type": "code",
   "execution_count": 31,
   "metadata": {},
   "outputs": [
    {
     "name": "stdout",
     "output_type": "stream",
     "text": [
      "Read 1 objects from FASTA file genomes/sequence.fna\n"
     ]
    }
   ],
   "source": [
    "things = readFASTA(ALLDIRNAMES[1])"
   ]
  },
  {
   "cell_type": "code",
   "execution_count": 32,
   "metadata": {},
   "outputs": [
    {
     "data": {
      "text/plain": [
       "'ATGAAAGGAGAGTTCGAAATGCATACCCCCATTATTTCGGAAACGGTCCAACCGAAGACCGCTGGCCTCATCGTTCTGGGCAAGGCTTCAGCTGAGACCCGCGGTCTCAGCCAGGGTGTCGAGCCCGATATCGGCCAGACCTACTTCGAAGAGTCTCGCATCAACCAGGACTGA'"
      ]
     },
     "execution_count": 32,
     "metadata": {},
     "output_type": "execute_result"
    }
   ],
   "source": [
    "things[0][\"sequence\"][2414220:2414394]"
   ]
  },
  {
   "cell_type": "code",
   "execution_count": 33,
   "metadata": {},
   "outputs": [
    {
     "name": "stdout",
     "output_type": "stream",
     "text": [
      "Writing output to 'matches.csv'\n"
     ]
    }
   ],
   "source": [
    "import pandas as pd\n",
    "print(\"Writing output to 'matches.csv'\")\n",
    "pd.read_json(\"matches.json\").to_csv(\"matches.csv\")"
   ]
  },
  {
   "cell_type": "code",
   "execution_count": 34,
   "metadata": {},
   "outputs": [
    {
     "name": "stdout",
     "output_type": "stream",
     "text": [
      "1476\n"
     ]
    }
   ],
   "source": [
    "validpeptides = []\n",
    "for peptide in lassopeptides:\n",
    "    if(peptide[\"closestB\"] != None):\n",
    "        validpeptides.append(peptide)\n",
    "    \n",
    "\n",
    "print(len(validpeptides))"
   ]
  },
  {
   "cell_type": "code",
   "execution_count": 36,
   "metadata": {},
   "outputs": [
    {
     "data": {
      "text/plain": [
       "{'description': ' NC_014816.1 Asticcacaulis excentricus CB 48 chromosome 1, complete sequence - ORF 1',\n",
       " 'sequence': 'MCTPSGRWPIDRSPVSRTKLCASIPRKCGDRIETRSVTRRQEAENNPDKGRADDRCDNRNR*',\n",
       " 'searchPattern': 'M[A-Z]{15,45}T[A-Z][A-Z]{6,8}[DE][A-Z]{5,30}\\\\*',\n",
       " 'searchRange': [49872, 50058],\n",
       " 'overallLength': 2588220,\n",
       " 'rank': 12.457335690894645,\n",
       " 'closestB': {'strand': 2,\n",
       "  'motif': 'LRARGVYAHLVIGVR',\n",
       "  'start': 47791,\n",
       "  'end': 47833,\n",
       "  'score': 797.4,\n",
       "  'p-value': 3.16e-05,\n",
       "  'ORF': -3},\n",
       " 'closestBs': [{'strand': 2,\n",
       "   'motif': 'LRARGVYAHLVIGVR',\n",
       "   'start': 47791,\n",
       "   'end': 47833,\n",
       "   'score': 797.4,\n",
       "   'p-value': 3.16e-05,\n",
       "   'ORF': -3},\n",
       "  {'strand': 4,\n",
       "   'motif': 'CLPRSIAL',\n",
       "   'start': 53239,\n",
       "   'end': 53260,\n",
       "   'score': 1271.74,\n",
       "   'p-value': 8.76e-06,\n",
       "   'ORF': 2},\n",
       "  {'strand': 4,\n",
       "   'motif': 'CLPRSIAL',\n",
       "   'start': 46255,\n",
       "   'end': 46276,\n",
       "   'score': 971.7,\n",
       "   'p-value': 4.87e-05,\n",
       "   'ORF': -3},\n",
       "  {'strand': 2,\n",
       "   'motif': 'LRARGVYAHLVIGVR',\n",
       "   'start': 42999,\n",
       "   'end': 43041,\n",
       "   'score': 584.88,\n",
       "   'p-value': 7.99e-05,\n",
       "   'ORF': 1},\n",
       "  {'strand': 2,\n",
       "   'motif': 'LRARGVYAHLVIGVR',\n",
       "   'start': 57492,\n",
       "   'end': 57534,\n",
       "   'score': 625.36,\n",
       "   'p-value': 6.72e-05,\n",
       "   'ORF': 1},\n",
       "  {'strand': 4,\n",
       "   'motif': 'CLPRSIAL',\n",
       "   'start': 41283,\n",
       "   'end': 41304,\n",
       "   'score': 1087.1,\n",
       "   'p-value': 2.59e-05,\n",
       "   'ORF': -1},\n",
       "  {'strand': 3,\n",
       "   'motif': 'PGLHYCVVDSGVVFLDLAADRYFGL',\n",
       "   'start': 39526,\n",
       "   'end': 39598,\n",
       "   'score': 257.24,\n",
       "   'p-value': 1.43e-05,\n",
       "   'ORF': 2},\n",
       "  {'strand': 2,\n",
       "   'motif': 'LRARGVYAHLVIGVR',\n",
       "   'start': 34896,\n",
       "   'end': 34938,\n",
       "   'score': 615.24,\n",
       "   'p-value': 7.02e-05,\n",
       "   'ORF': 1},\n",
       "  {'strand': 2,\n",
       "   'motif': 'LRARGVYAHLVIGVR',\n",
       "   'start': 34758,\n",
       "   'end': 34800,\n",
       "   'score': 645.6,\n",
       "   'p-value': 6.16e-05,\n",
       "   'ORF': 1},\n",
       "  {'strand': 2,\n",
       "   'motif': 'LRARGVYAHLVIGVR',\n",
       "   'start': 66056,\n",
       "   'end': 66098,\n",
       "   'score': 534.28,\n",
       "   'p-value': 9.9e-05,\n",
       "   'ORF': -2}],\n",
       " 'closestC': {'strand': 2,\n",
       "  'motif': 'LLAQPVVEACLAIPTWDLAEGGQDR',\n",
       "  'start': 47498,\n",
       "  'end': 47570,\n",
       "  'score': -874.16,\n",
       "  'p-value': 5.41e-05,\n",
       "  'ORF': -2},\n",
       " 'closestCs': [{'strand': 2,\n",
       "   'motif': 'LLAQPVVEACLAIPTWDLAEGGQDR',\n",
       "   'start': 47498,\n",
       "   'end': 47570,\n",
       "   'score': -874.16,\n",
       "   'p-value': 5.41e-05,\n",
       "   'ORF': -2},\n",
       "  {'strand': 3,\n",
       "   'motif': 'ARDSSAILVELSGGLDSSIVA',\n",
       "   'start': 47389,\n",
       "   'end': 47449,\n",
       "   'score': 701.31,\n",
       "   'p-value': 4.31e-06,\n",
       "   'ORF': 2},\n",
       "  {'strand': 2,\n",
       "   'motif': 'LLAQPVVEACLAIPTWDLAEGGQDR',\n",
       "   'start': 53473,\n",
       "   'end': 53545,\n",
       "   'score': -850.0,\n",
       "   'p-value': 5.01e-05,\n",
       "   'ORF': 3},\n",
       "  {'strand': 1,\n",
       "   'motif': 'DALFTGQGGDNVFCQVPSAAPALD',\n",
       "   'start': 45346,\n",
       "   'end': 45415,\n",
       "   'score': -44.4,\n",
       "   'p-value': 3.55e-05,\n",
       "   'ORF': 3},\n",
       "  {'strand': 3,\n",
       "   'motif': 'ARDSSAILVELSGGLDSSIVA',\n",
       "   'start': 45252,\n",
       "   'end': 45312,\n",
       "   'score': 559.86,\n",
       "   'p-value': 7.49e-06,\n",
       "   'ORF': -1},\n",
       "  {'strand': 3,\n",
       "   'motif': 'ARDSSAILVELSGGLDSSIVA',\n",
       "   'start': 43881,\n",
       "   'end': 43941,\n",
       "   'score': -81.38,\n",
       "   'p-value': 7.8e-05,\n",
       "   'ORF': -1},\n",
       "  {'strand': 1,\n",
       "   'motif': 'DALFTGQGGDNVFCQVPSAAPALD',\n",
       "   'start': 56272,\n",
       "   'end': 56341,\n",
       "   'score': 667.68,\n",
       "   'p-value': 2.49e-06,\n",
       "   'ORF': 2},\n",
       "  {'strand': 3,\n",
       "   'motif': 'ARDSSAILVELSGGLDSSIVA',\n",
       "   'start': 43153,\n",
       "   'end': 43213,\n",
       "   'score': -100.24,\n",
       "   'p-value': 8.33e-05,\n",
       "   'ORF': -3},\n",
       "  {'strand': 3,\n",
       "   'motif': 'ARDSSAILVELSGGLDSSIVA',\n",
       "   'start': 57450,\n",
       "   'end': 57510,\n",
       "   'score': 69.5,\n",
       "   'p-value': 4.6e-05,\n",
       "   'ORF': 1},\n",
       "  {'strand': 3,\n",
       "   'motif': 'ARDSSAILVELSGGLDSSIVA',\n",
       "   'start': 60088,\n",
       "   'end': 60148,\n",
       "   'score': 305.25,\n",
       "   'p-value': 1.96e-05,\n",
       "   'ORF': -3}],\n",
       " 'ORF': 1,\n",
       " 'genome': 'Asticcacaulisexcentricus',\n",
       " 'index': 'NC_014816.1'}"
      ]
     },
     "execution_count": 36,
     "metadata": {},
     "output_type": "execute_result"
    }
   ],
   "source": [
    "validpeptides[8]"
   ]
  },
  {
   "cell_type": "markdown",
   "metadata": {},
   "source": [
    "Sort by rank..."
   ]
  },
  {
   "cell_type": "code",
   "execution_count": 37,
   "metadata": {},
   "outputs": [],
   "source": [
    "def getRank(precursor):\n",
    "    return precursor[\"rank\"]\n",
    "\n",
    "validpeptides.sort(key=getRank)"
   ]
  },
  {
   "cell_type": "code",
   "execution_count": 38,
   "metadata": {},
   "outputs": [
    {
     "ename": "ModuleNotFoundError",
     "evalue": "No module named 'matplotlib'",
     "output_type": "error",
     "traceback": [
      "\u001b[1;31m---------------------------------------------------------------------------\u001b[0m",
      "\u001b[1;31mModuleNotFoundError\u001b[0m                       Traceback (most recent call last)",
      "\u001b[1;32m<ipython-input-38-0854664f6735>\u001b[0m in \u001b[0;36m<module>\u001b[1;34m\u001b[0m\n\u001b[1;32m----> 1\u001b[1;33m \u001b[1;32mimport\u001b[0m \u001b[0mmatplotlib\u001b[0m\u001b[1;33m.\u001b[0m\u001b[0mpyplot\u001b[0m \u001b[1;32mas\u001b[0m \u001b[0mplt\u001b[0m\u001b[1;33m\u001b[0m\u001b[1;33m\u001b[0m\u001b[0m\n\u001b[0m\u001b[0;32m      2\u001b[0m \u001b[0mrankList\u001b[0m \u001b[1;33m=\u001b[0m \u001b[1;33m[\u001b[0m\u001b[1;33m]\u001b[0m\u001b[1;33m\u001b[0m\u001b[1;33m\u001b[0m\u001b[0m\n\u001b[0;32m      3\u001b[0m \u001b[1;32mfor\u001b[0m \u001b[0mpep\u001b[0m \u001b[1;32min\u001b[0m \u001b[0mvalidpeptides\u001b[0m\u001b[1;33m:\u001b[0m\u001b[1;33m\u001b[0m\u001b[1;33m\u001b[0m\u001b[0m\n\u001b[0;32m      4\u001b[0m     \u001b[0mrankList\u001b[0m\u001b[1;33m.\u001b[0m\u001b[0mappend\u001b[0m\u001b[1;33m(\u001b[0m\u001b[0mgetRank\u001b[0m\u001b[1;33m(\u001b[0m\u001b[0mpep\u001b[0m\u001b[1;33m)\u001b[0m\u001b[1;33m)\u001b[0m\u001b[1;33m\u001b[0m\u001b[1;33m\u001b[0m\u001b[0m\n\u001b[0;32m      5\u001b[0m \u001b[1;33m\u001b[0m\u001b[0m\n",
      "\u001b[1;31mModuleNotFoundError\u001b[0m: No module named 'matplotlib'"
     ]
    }
   ],
   "source": [
    "import matplotlib.pyplot as plt\n",
    "rankList = []\n",
    "for pep in validpeptides:\n",
    "    rankList.append(getRank(pep))\n",
    "    \n",
    "plt.plot(rankList)\n",
    "plt.show()"
   ]
  },
  {
   "cell_type": "code",
   "execution_count": 47,
   "metadata": {},
   "outputs": [
    {
     "data": {
      "text/plain": [
       "{'description': 'Asticcacaulis_benevestitus_DSM_16100_uid199072/NZ_AQWM01000023 -  gi|484226782|ref|NZ_AQWM01000023.1| Asticcacaulis benevestitus DSM 16100 = ATCC BAA-896 strain DSM 16100 B060DRAFT_scaffold_22.23_C, whole genome shotgun sequence - ORF 2',\n",
       " 'sequence': 'MAKPAPVACGIPPPAAAPSSSERTCSSKIQNLTERNSSW*',\n",
       " 'searchPattern': 'M[A-Z]{15,45}T[A-Z][A-Z]{6,8}[DE][A-Z]{5,30}\\\\*',\n",
       " 'searchRange': [3398, 3438],\n",
       " 'overallLength': 20838,\n",
       " 'rank': 12.220249405489058,\n",
       " 'closestB': {'strand': 4,\n",
       "  'motif': 'CLPRSIAL',\n",
       "  'start': 1397,\n",
       "  'end': 1404,\n",
       "  'score': 867.84,\n",
       "  'p-value': 8.38e-05,\n",
       "  'ORF': 2},\n",
       " 'closestC': {'strand': 1,\n",
       "  'motif': 'DALFTGQGGDNVFCQVPSAAPALD',\n",
       "  'start': 1685,\n",
       "  'end': 1708,\n",
       "  'score': -312.72,\n",
       "  'p-value': 8.95e-05,\n",
       "  'ORF': 3},\n",
       " 'ORF': 2,\n",
       " 'genome': 'Asticcacaulis_benevestitus_DSM_16100_uid199072'}"
      ]
     },
     "execution_count": 47,
     "metadata": {},
     "output_type": "execute_result"
    }
   ],
   "source": [
    "validpeptides[0]"
   ]
  },
  {
   "cell_type": "markdown",
   "metadata": {},
   "source": [
    "### Some visualization\n",
    "Reference: https://matplotlib.org/examples/ticks_and_spines/tick-locators.html"
   ]
  },
  {
   "cell_type": "code",
   "execution_count": 48,
   "metadata": {},
   "outputs": [
    {
     "data": {
      "image/png": "[encoded data removed]",
      "text/plain": [
       "<Figure size 576x432 with 1 Axes>"
      ]
     },
     "metadata": {
      "needs_background": "light"
     },
     "output_type": "display_data"
    }
   ],
   "source": [
    "import numpy as np\n",
    "import matplotlib.pyplot as plt\n",
    "import matplotlib.ticker as ticker\n",
    "\n",
    "peptide = validpeptides[len(validpeptides) - 1]\n",
    "length = peptide[\"overallLength\"]\n",
    "\n",
    "# Setup a plot such that only the bottom spine is shown\n",
    "def setup(ax):\n",
    "    ax.spines['right'].set_color('none')\n",
    "    ax.spines['left'].set_color('none')\n",
    "    ax.yaxis.set_major_locator(ticker.NullLocator())\n",
    "    ax.spines['top'].set_color('none')\n",
    "    ax.xaxis.set_ticks_position('bottom')\n",
    "    ax.tick_params(which='major', width=1.00)\n",
    "    ax.tick_params(which='major', length=5)\n",
    "    ax.tick_params(which='minor', width=0.75)\n",
    "    ax.tick_params(which='minor', length=2.5)\n",
    "    ax.set_xlim(0, length)\n",
    "    ax.set_ylim(0, 1)\n",
    "    ax.patch.set_alpha(0.0)\n",
    "    \n",
    "plt.figure(figsize=(8, 6))\n",
    "n = 8\n",
    "\n",
    "    \n",
    "# Multiple Locator\n",
    "ax = plt.subplot(n, 1, 2)\n",
    "setup(ax)\n",
    "ax.xaxis.set_major_locator(ticker.MultipleLocator(length / 8))\n",
    "ax.xaxis.set_minor_locator(ticker.MultipleLocator(length / 16))\n",
    "ax.text(0.0, 0.1, peptide[\"sequence\"], fontsize=14,\n",
    "        transform=ax.transAxes)\n",
    "\n",
    "# Push the top of the top axes outside the figure because we only show the\n",
    "# bottom spine.\n",
    "plt.subplots_adjust(left=0.05, right=0.95, bottom=4, top=6)\n",
    "\n",
    "plt.scatter(peptide[\"searchRange\"][0], 0, c=\"red\")\n",
    "plt.scatter(peptide[\"searchRange\"][1], 0, c=\"red\")\n",
    "plt.scatter(peptide[\"closestB\"][\"start\"], 0, c=\"blue\")\n",
    "plt.scatter(peptide[\"closestB\"][\"end\"], 0, c=\"blue\")\n",
    "plt.scatter(peptide[\"closestC\"][\"start\"], 0, c=\"green\")\n",
    "plt.scatter(peptide[\"closestC\"][\"end\"], 0, c=\"green\")\n",
    "\n",
    "plt.show()"
   ]
  },
  {
   "cell_type": "code",
   "execution_count": null,
   "metadata": {},
   "outputs": [],
   "source": []
  },
  {
   "cell_type": "code",
   "execution_count": null,
   "metadata": {},
   "outputs": [],
   "source": []
  }
 ],
 "metadata": {
  "kernelspec": {
   "display_name": "Python 3",
   "language": "python",
   "name": "python3"
  },
  "language_info": {
   "codemirror_mode": {
    "name": "ipython",
    "version": 3
   },
   "file_extension": ".py",
   "mimetype": "text/x-python",
   "name": "python",
   "nbconvert_exporter": "python",
   "pygments_lexer": "ipython3",
   "version": "3.7.2"
  }
 },
 "nbformat": 4,
 "nbformat_minor": 2
}
