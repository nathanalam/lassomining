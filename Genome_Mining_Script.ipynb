{
 "cells": [
  {
   "cell_type": "markdown",
   "metadata": {},
   "source": [
    "# Genome Mining Script\n",
    "##### Original Author: Chun Yin Larry So | Python Interpretation: Nathan Alam\n",
    "[Github repository](https://github.com/nathanalam/genomemining)\n",
    "\n",
    "The purpose of this notebook is to provide scripts for reading bacterial genomes in search of regular expressions which seem to match a String corresponding to a candidate coding for a Lasso peptide.\n",
    "\n",
    "## Links to relevant publications:\n",
    "- [Genome mining for lasso peptides: past, present, and future](https://link.springer.com/article/10.1007/s10295-019-02197-z)\n",
    "- [Prospecting Genomes for Lasso Peptides](https://www.ncbi.nlm.nih.gov/pubmed/24142336)"
   ]
  },
  {
   "cell_type": "markdown",
   "metadata": {},
   "source": [
    "### Comments from Perl Script\n",
    "- In this version each time MAST needs to be run on a putative maturation enzyme in a particular genome, a lookup in the database is performed to check if this protein has been analyzed by MAST before and if it has then use the values from before\n",
    "- In this version traseq will be used instead of getorf for finding precursors\n",
    "- getorf is still used for finding neighbors\n",
    "- Like v4 except that multiple proteins of the same sequence don't cause wrong locations of maturation enzymes to be reported\n",
    "- Another change is that the pattern needs to be adjusted to [MVL] instead of ^ in the beginning\n",
    "- This version fixes the problem of having a useless %AME hash and also of erasing sequences from %AME_scores\n",
    "- Precursor pattern is output into the log file\n",
    "- ORF searching behavior is changed from stop-to-stop to [MVL]-to-stop\n",
    "- Clusters of precursors are saved in clusters.txt\n",
    "- **Warning**: transeq doesn't label the -1, -2, -3 frames sequentially. Sometimes it is -1, -3, -2, sometimes some other combination. This means the precursor locations on the reverse strand are off by one sometimes\n",
    "- Take note that rank_hits expects 4 motifs for the B enzyme and 3 motifs for the C enzyme. Adjust accordingly."
   ]
  },
  {
   "cell_type": "code",
   "execution_count": 1,
   "metadata": {},
   "outputs": [],
   "source": [
    "import re\n",
    "import sys\n",
    "import os\n",
    "import json\n",
    "import requests"
   ]
  },
  {
   "cell_type": "markdown",
   "metadata": {},
   "source": [
    "### THE Pattern\n",
    "\n",
    "This is the pattern that we're using to identify lasso proteins. TODO - Use Machine Learning to adjust the pattern to maximize the number of valid lasso proteins."
   ]
  },
  {
   "cell_type": "code",
   "execution_count": 2,
   "metadata": {},
   "outputs": [],
   "source": [
    "PATTERN = 'M[A-Z]{15,45}T[A-Z][A-Z]{6,8}[DE][A-Z]{5,30}\\*'\n",
    "# PATTERN = 'CC.CGCCC...TGGC.'\n",
    "# PATTERN = '.*'"
   ]
  },
  {
   "cell_type": "markdown",
   "metadata": {},
   "source": [
    "### FASTA Function\n",
    "\n",
    "Define a function that takes as input the relative path of a FASTA formatted text file, return an object that contains a list of sequence objects. Each sequence object has a description field [\"description\"] and a sequence field [\"sequence\"].\n",
    "\n",
    "From http://www.csbio.sjtu.edu.cn/bioinf/virus-multi/example.htm, specification of a FASTA formatted file:\n",
    "- The first line of each query protein input format must begin with a greater-than (\">\") symbol in the first column. The word following the \">\" symbol is the identifier and description of the sequence, but both are optional.\n",
    "- The sequence (in single-character code) begins in a different line and ends if another line starting with a \">\" appears, which indicates the start of another query protein."
   ]
  },
  {
   "cell_type": "code",
   "execution_count": 3,
   "metadata": {},
   "outputs": [],
   "source": [
    "def readFASTA(name, cleanspace = 0):\n",
    "    descriptions = []\n",
    "    sequences = []\n",
    "    sequenceList = []\n",
    "    tempSequences = []     \n",
    "        \n",
    "    with open(name) as file:\n",
    "        count = -1\n",
    "        for line in file:\n",
    "            \n",
    "            if(line[0] == '>'):\n",
    "                # if begins with a >, then a description\n",
    "                descriptions.append(line[1:].replace('\\n', ''))\n",
    "                count += 1\n",
    "                # skip the first time\n",
    "                if count > 0 :\n",
    "                    # combine the tempSequences into a single string and\n",
    "                    # add it to sequences\n",
    "                    newSequence = ' '.join(tempSequences)\n",
    "                    # now remove all of the whitespaces\n",
    "                    newSequence = newSequence.replace(' ', '')\n",
    "                    newSequence = newSequence.replace('\\n', '')\n",
    "                    \n",
    "                    sequences.append(newSequence)\n",
    "                    # refresh the tempSequence list\n",
    "                    tempSequences = []\n",
    "                    \n",
    "                    sequenceList.append({\n",
    "                        \"description\": descriptions[count - 1],\n",
    "                        \"sequence\": sequences[count - 1]\n",
    "                    })\n",
    "            else:\n",
    "                tempSequences.append(line)\n",
    "                \n",
    "        # combine the tempSequences into a single string and\n",
    "        # add it to sequences\n",
    "        newSequence = ' '.join(tempSequences)\n",
    "        # now remove all of the whitespaces\n",
    "        newSequence = newSequence.replace(' ', '')\n",
    "        newSequence = newSequence.replace('\\n', '')\n",
    "\n",
    "        sequences.append(newSequence)\n",
    "        # refresh the tempSequence list\n",
    "        tempSequences = []\n",
    "        \n",
    "        sequenceList.append({\n",
    "            \"description\": descriptions[count],\n",
    "            \"sequence\": sequences[count]\n",
    "        })\n",
    "                \n",
    "                \n",
    "    if len(descriptions) != len(sequences):\n",
    "        print(\"ERROR: Number of descriptions does not match number of sequences\")\n",
    "        print(\"Number of descriptions: \" + str(len(descriptions)))\n",
    "        print(\"Number of sequences: \" + str(len(sequences)))\n",
    "        sys.exit(1);\n",
    "        \n",
    "    print(\"Read \" + str(count + 1) + \" objects from FASTA file \" + name)\n",
    "        \n",
    "    return sequenceList\n",
    "        \n"
   ]
  },
  {
   "cell_type": "markdown",
   "metadata": {},
   "source": [
    "### Obtain Amino acid sequence directories"
   ]
  },
  {
   "cell_type": "markdown",
   "metadata": {},
   "source": [
    "Begin by getting a list of all of the genomes available in the genomes folder alongside this script."
   ]
  },
  {
   "cell_type": "code",
   "execution_count": 4,
   "metadata": {},
   "outputs": [],
   "source": [
    "ALLDIRNAMES = []\n",
    "for dirname in os.listdir(\"genomes\"):\n",
    "    ## if a regular file, just add to directory\n",
    "    if (dirname.find(\".\") != -1):\n",
    "        ALLDIRNAMES.append(\"genomes/\" + dirname)\n",
    "    else:\n",
    "        for filename in os.listdir(\"genomes/\" + dirname):\n",
    "            ALLDIRNAMES.append(\"genomes/\" + dirname + \"/\" + filename)"
   ]
  },
  {
   "cell_type": "code",
   "execution_count": 5,
   "metadata": {},
   "outputs": [
    {
     "name": "stdout",
     "output_type": "stream",
     "text": [
      "['genomes/Asticcacaulis_benevestitus_DSM_16100_uid199072/.DS_Store', 'genomes/Asticcacaulis_benevestitus_DSM_16100_uid199072/NZ_AQWM01000001.faa', 'genomes/Asticcacaulis_benevestitus_DSM_16100_uid199072/NZ_AQWM01000001.fna', 'genomes/Asticcacaulis_benevestitus_DSM_16100_uid199072/NZ_AQWM01000002.faa', 'genomes/Asticcacaulis_benevestitus_DSM_16100_uid199072/NZ_AQWM01000002.fna', 'genomes/Asticcacaulis_benevestitus_DSM_16100_uid199072/NZ_AQWM01000003.faa', 'genomes/Asticcacaulis_benevestitus_DSM_16100_uid199072/NZ_AQWM01000003.fna', 'genomes/Asticcacaulis_benevestitus_DSM_16100_uid199072/NZ_AQWM01000004.faa', 'genomes/Asticcacaulis_benevestitus_DSM_16100_uid199072/NZ_AQWM01000004.fna', 'genomes/Asticcacaulis_benevestitus_DSM_16100_uid199072/NZ_AQWM01000005.faa', 'genomes/Asticcacaulis_benevestitus_DSM_16100_uid199072/NZ_AQWM01000005.fna', 'genomes/Asticcacaulis_benevestitus_DSM_16100_uid199072/NZ_AQWM01000006.faa', 'genomes/Asticcacaulis_benevestitus_DSM_16100_uid199072/NZ_AQWM01000006.fna', 'genomes/Asticcacaulis_benevestitus_DSM_16100_uid199072/NZ_AQWM01000007.faa', 'genomes/Asticcacaulis_benevestitus_DSM_16100_uid199072/NZ_AQWM01000007.fna', 'genomes/Asticcacaulis_benevestitus_DSM_16100_uid199072/NZ_AQWM01000008.faa', 'genomes/Asticcacaulis_benevestitus_DSM_16100_uid199072/NZ_AQWM01000008.fna', 'genomes/Asticcacaulis_benevestitus_DSM_16100_uid199072/NZ_AQWM01000009.faa', 'genomes/Asticcacaulis_benevestitus_DSM_16100_uid199072/NZ_AQWM01000009.fna', 'genomes/Asticcacaulis_benevestitus_DSM_16100_uid199072/NZ_AQWM01000010.faa', 'genomes/Asticcacaulis_benevestitus_DSM_16100_uid199072/NZ_AQWM01000010.fna', 'genomes/Asticcacaulis_benevestitus_DSM_16100_uid199072/NZ_AQWM01000011.faa', 'genomes/Asticcacaulis_benevestitus_DSM_16100_uid199072/NZ_AQWM01000011.fna', 'genomes/Asticcacaulis_benevestitus_DSM_16100_uid199072/NZ_AQWM01000012.faa', 'genomes/Asticcacaulis_benevestitus_DSM_16100_uid199072/NZ_AQWM01000012.fna', 'genomes/Asticcacaulis_benevestitus_DSM_16100_uid199072/NZ_AQWM01000013.faa', 'genomes/Asticcacaulis_benevestitus_DSM_16100_uid199072/NZ_AQWM01000013.fna', 'genomes/Asticcacaulis_benevestitus_DSM_16100_uid199072/NZ_AQWM01000014.faa', 'genomes/Asticcacaulis_benevestitus_DSM_16100_uid199072/NZ_AQWM01000014.fna', 'genomes/Asticcacaulis_benevestitus_DSM_16100_uid199072/NZ_AQWM01000015.faa', 'genomes/Asticcacaulis_benevestitus_DSM_16100_uid199072/NZ_AQWM01000015.fna', 'genomes/Asticcacaulis_benevestitus_DSM_16100_uid199072/NZ_AQWM01000016.faa', 'genomes/Asticcacaulis_benevestitus_DSM_16100_uid199072/NZ_AQWM01000016.fna', 'genomes/Asticcacaulis_benevestitus_DSM_16100_uid199072/NZ_AQWM01000017.faa', 'genomes/Asticcacaulis_benevestitus_DSM_16100_uid199072/NZ_AQWM01000017.fna', 'genomes/Asticcacaulis_benevestitus_DSM_16100_uid199072/NZ_AQWM01000018.faa', 'genomes/Asticcacaulis_benevestitus_DSM_16100_uid199072/NZ_AQWM01000018.fna', 'genomes/Asticcacaulis_benevestitus_DSM_16100_uid199072/NZ_AQWM01000019.faa', 'genomes/Asticcacaulis_benevestitus_DSM_16100_uid199072/NZ_AQWM01000019.fna', 'genomes/Asticcacaulis_benevestitus_DSM_16100_uid199072/NZ_AQWM01000020.faa', 'genomes/Asticcacaulis_benevestitus_DSM_16100_uid199072/NZ_AQWM01000020.fna', 'genomes/Asticcacaulis_benevestitus_DSM_16100_uid199072/NZ_AQWM01000021.faa', 'genomes/Asticcacaulis_benevestitus_DSM_16100_uid199072/NZ_AQWM01000021.fna', 'genomes/Asticcacaulis_benevestitus_DSM_16100_uid199072/NZ_AQWM01000022.faa', 'genomes/Asticcacaulis_benevestitus_DSM_16100_uid199072/NZ_AQWM01000022.fna', 'genomes/Asticcacaulis_benevestitus_DSM_16100_uid199072/NZ_AQWM01000023.faa', 'genomes/Asticcacaulis_benevestitus_DSM_16100_uid199072/NZ_AQWM01000023.fna', 'genomes/Asticcacaulis_benevestitus_DSM_16100_uid199072/NZ_AQWM01000024.faa', 'genomes/Asticcacaulis_benevestitus_DSM_16100_uid199072/NZ_AQWM01000024.fna', 'genomes/Asticcacaulis_benevestitus_DSM_16100_uid199072/NZ_AQWM01000025.faa', 'genomes/Asticcacaulis_benevestitus_DSM_16100_uid199072/NZ_AQWM01000025.fna', 'genomes/Asticcacaulis_benevestitus_DSM_16100_uid199072/NZ_AQWM01000026.faa', 'genomes/Asticcacaulis_benevestitus_DSM_16100_uid199072/NZ_AQWM01000026.fna', 'genomes/Asticcacaulis_benevestitus_DSM_16100_uid199072/NZ_AQWM01000027.faa', 'genomes/Asticcacaulis_benevestitus_DSM_16100_uid199072/NZ_AQWM01000027.fna', 'genomes/Asticcacaulis_benevestitus_DSM_16100_uid199072/NZ_AQWM01000028.faa', 'genomes/Asticcacaulis_benevestitus_DSM_16100_uid199072/NZ_AQWM01000028.fna', 'genomes/Asticcacaulis_benevestitus_DSM_16100_uid199072/NZ_AQWM01000029.faa', 'genomes/Asticcacaulis_benevestitus_DSM_16100_uid199072/NZ_AQWM01000029.fna', 'genomes/Asticcacaulis_benevestitus_DSM_16100_uid199072/NZ_AQWM01000030.faa', 'genomes/Asticcacaulis_benevestitus_DSM_16100_uid199072/NZ_AQWM01000030.fna', 'genomes/Asticcacaulis_benevestitus_DSM_16100_uid199072/NZ_AQWM01000031.faa', 'genomes/Asticcacaulis_benevestitus_DSM_16100_uid199072/NZ_AQWM01000031.fna', 'genomes/Asticcacaulis_benevestitus_DSM_16100_uid199072/NZ_AQWM01000032.faa', 'genomes/Asticcacaulis_benevestitus_DSM_16100_uid199072/NZ_AQWM01000032.fna', 'genomes/Asticcacaulis_benevestitus_DSM_16100_uid199072/NZ_AQWM01000033.faa', 'genomes/Asticcacaulis_benevestitus_DSM_16100_uid199072/NZ_AQWM01000033.fna', 'genomes/Asticcacaulis_benevestitus_DSM_16100_uid199072/NZ_AQWM01000034.faa', 'genomes/Asticcacaulis_benevestitus_DSM_16100_uid199072/NZ_AQWM01000034.fna', 'genomes/Asticcacaulis_benevestitus_DSM_16100_uid199072/NZ_AQWM01000035.faa', 'genomes/Asticcacaulis_benevestitus_DSM_16100_uid199072/NZ_AQWM01000035.fna', 'genomes/Asticcacaulis_benevestitus_DSM_16100_uid199072/NZ_AQWM01000036.faa', 'genomes/Asticcacaulis_benevestitus_DSM_16100_uid199072/NZ_AQWM01000036.fna', 'genomes/Asticcacaulis_benevestitus_DSM_16100_uid199072/NZ_AQWM01000037.faa', 'genomes/Asticcacaulis_benevestitus_DSM_16100_uid199072/NZ_AQWM01000037.fna', 'genomes/Asticcacaulis_benevestitus_DSM_16100_uid199072/NZ_AQWM01000038.faa', 'genomes/Asticcacaulis_benevestitus_DSM_16100_uid199072/NZ_AQWM01000038.fna', 'genomes/Asticcacaulis_benevestitus_DSM_16100_uid199072/NZ_AQWM01000039.faa', 'genomes/Asticcacaulis_benevestitus_DSM_16100_uid199072/NZ_AQWM01000039.fna', 'genomes/Asticcacaulis_benevestitus_DSM_16100_uid199072/NZ_AQWM01000040.faa', 'genomes/Asticcacaulis_benevestitus_DSM_16100_uid199072/NZ_AQWM01000040.fna', 'genomes/Asticcacaulis_benevestitus_DSM_16100_uid199072/NZ_AQWM01000041.faa', 'genomes/Asticcacaulis_benevestitus_DSM_16100_uid199072/NZ_AQWM01000041.fna', 'genomes/Asticcacaulis_benevestitus_DSM_16100_uid199072/NZ_AQWM01000042.faa', 'genomes/Asticcacaulis_benevestitus_DSM_16100_uid199072/NZ_AQWM01000042.fna', 'genomes/Asticcacaulis_benevestitus_DSM_16100_uid199072/NZ_AQWM01000043.faa', 'genomes/Asticcacaulis_benevestitus_DSM_16100_uid199072/NZ_AQWM01000043.fna', 'genomes/Asticcacaulis_benevestitus_DSM_16100_uid199072/NZ_AQWM01000044.faa', 'genomes/Asticcacaulis_benevestitus_DSM_16100_uid199072/NZ_AQWM01000044.fna', 'genomes/Asticcacaulis_benevestitus_DSM_16100_uid199072/NZ_AQWM01000045.faa', 'genomes/Asticcacaulis_benevestitus_DSM_16100_uid199072/NZ_AQWM01000045.fna', 'genomes/Asticcacaulis_benevestitus_DSM_16100_uid199072/NZ_AQWM01000046.faa', 'genomes/Asticcacaulis_benevestitus_DSM_16100_uid199072/NZ_AQWM01000046.fna', 'genomes/Asticcacaulis_benevestitus_DSM_16100_uid199072/NZ_AQWM01000047.faa', 'genomes/Asticcacaulis_benevestitus_DSM_16100_uid199072/NZ_AQWM01000047.fna', 'genomes/Asticcacaulis_benevestitus_DSM_16100_uid199072/NZ_AQWM01000048.faa', 'genomes/Asticcacaulis_benevestitus_DSM_16100_uid199072/NZ_AQWM01000048.fna', 'genomes/Asticcacaulis_benevestitus_DSM_16100_uid199072/NZ_AQWM01000049.faa', 'genomes/Asticcacaulis_benevestitus_DSM_16100_uid199072/NZ_AQWM01000049.fna', 'genomes/Asticcacaulis_benevestitus_DSM_16100_uid199072/NZ_AQWM01000050.faa', 'genomes/Asticcacaulis_benevestitus_DSM_16100_uid199072/NZ_AQWM01000050.fna', 'genomes/Asticcacaulis_benevestitus_DSM_16100_uid199072/NZ_AQWM01000051.faa', 'genomes/Asticcacaulis_benevestitus_DSM_16100_uid199072/NZ_AQWM01000051.fna', 'genomes/Asticcacaulis_benevestitus_DSM_16100_uid199072/NZ_AQWM01000052.faa', 'genomes/Asticcacaulis_benevestitus_DSM_16100_uid199072/NZ_AQWM01000052.fna', 'genomes/Asticcacaulis_benevestitus_DSM_16100_uid199072/NZ_AQWM01000053.faa', 'genomes/Asticcacaulis_benevestitus_DSM_16100_uid199072/NZ_AQWM01000053.fna', 'genomes/Asticcacaulis_benevestitus_DSM_16100_uid199072/NZ_AQWM01000054.faa', 'genomes/Asticcacaulis_benevestitus_DSM_16100_uid199072/NZ_AQWM01000054.fna', 'genomes/Asticcacaulis_benevestitus_DSM_16100_uid199072/NZ_AQWM01000055.faa', 'genomes/Asticcacaulis_benevestitus_DSM_16100_uid199072/NZ_AQWM01000055.fna', 'genomes/Asticcacaulis_benevestitus_DSM_16100_uid199072/NZ_AQWM01000056.faa', 'genomes/Asticcacaulis_benevestitus_DSM_16100_uid199072/NZ_AQWM01000056.fna', 'genomes/Asticcacaulis_benevestitus_DSM_16100_uid199072/NZ_AQWM01000057.faa', 'genomes/Asticcacaulis_benevestitus_DSM_16100_uid199072/NZ_AQWM01000057.fna', 'genomes/Asticcacaulis_benevestitus_DSM_16100_uid199072/NZ_AQWM01000058.faa', 'genomes/Asticcacaulis_benevestitus_DSM_16100_uid199072/NZ_AQWM01000058.fna', 'genomes/Asticcacaulis_benevestitus_DSM_16100_uid199072/NZ_AQWM01000059.faa', 'genomes/Asticcacaulis_benevestitus_DSM_16100_uid199072/NZ_AQWM01000059.fna', 'genomes/Asticcacaulis_benevestitus_DSM_16100_uid199072/NZ_AQWM01000060.faa', 'genomes/Asticcacaulis_benevestitus_DSM_16100_uid199072/NZ_AQWM01000060.fna', 'genomes/Asticcacaulis_benevestitus_DSM_16100_uid199072/NZ_AQWM01000061.faa', 'genomes/Asticcacaulis_benevestitus_DSM_16100_uid199072/NZ_AQWM01000061.fna', 'genomes/Asticcacaulis_benevestitus_DSM_16100_uid199072/NZ_AQWM01000062.faa', 'genomes/Asticcacaulis_benevestitus_DSM_16100_uid199072/NZ_AQWM01000062.fna', 'genomes/Asticcacaulis_benevestitus_DSM_16100_uid199072/NZ_AQWM01000063.faa', 'genomes/Asticcacaulis_benevestitus_DSM_16100_uid199072/NZ_AQWM01000063.fna', 'genomes/Asticcacaulis_benevestitus_DSM_16100_uid199072/NZ_AQWM01000064.faa', 'genomes/Asticcacaulis_benevestitus_DSM_16100_uid199072/NZ_AQWM01000064.fna', 'genomes/Asticcacaulis_benevestitus_DSM_16100_uid199072/NZ_AQWM01000065.faa', 'genomes/Asticcacaulis_benevestitus_DSM_16100_uid199072/NZ_AQWM01000065.fna', 'genomes/Asticcacaulis_benevestitus_DSM_16100_uid199072/NZ_AQWM01000066.faa', 'genomes/Asticcacaulis_benevestitus_DSM_16100_uid199072/NZ_AQWM01000066.fna', 'genomes/Asticcacaulis_benevestitus_DSM_16100_uid199072/NZ_AQWM01000067.faa', 'genomes/Asticcacaulis_benevestitus_DSM_16100_uid199072/NZ_AQWM01000067.fna', 'genomes/Asticcacaulis_benevestitus_DSM_16100_uid199072/NZ_AQWM01000068.faa', 'genomes/Asticcacaulis_benevestitus_DSM_16100_uid199072/NZ_AQWM01000068.fna', 'genomes/Asticcacaulis_benevestitus_DSM_16100_uid199072/NZ_AQWM01000069.faa', 'genomes/Asticcacaulis_benevestitus_DSM_16100_uid199072/NZ_AQWM01000069.fna', 'genomes/Asticcacaulis_benevestitus_DSM_16100_uid199072/NZ_AQWM01000070.faa', 'genomes/Asticcacaulis_benevestitus_DSM_16100_uid199072/NZ_AQWM01000070.fna', 'genomes/Asticcacaulis_benevestitus_DSM_16100_uid199072/NZ_AQWM01000071.faa', 'genomes/Asticcacaulis_benevestitus_DSM_16100_uid199072/NZ_AQWM01000071.fna', 'genomes/Asticcacaulis_benevestitus_DSM_16100_uid199072/NZ_AQWM01000072.faa', 'genomes/Asticcacaulis_benevestitus_DSM_16100_uid199072/NZ_AQWM01000072.fna', 'genomes/Asticcacaulis_benevestitus_DSM_16100_uid199072/NZ_AQWM01000073.faa', 'genomes/Asticcacaulis_benevestitus_DSM_16100_uid199072/NZ_AQWM01000073.fna', 'genomes/Asticcacaulis_benevestitus_DSM_16100_uid199072/NZ_AQWM01000074.faa', 'genomes/Asticcacaulis_benevestitus_DSM_16100_uid199072/NZ_AQWM01000074.fna', 'genomes/Asticcacaulis_benevestitus_DSM_16100_uid199072/NZ_AQWM01000075.faa', 'genomes/Asticcacaulis_benevestitus_DSM_16100_uid199072/NZ_AQWM01000075.fna', 'genomes/Asticcacaulis_benevestitus_DSM_16100_uid199072/NZ_AQWM01000076.faa', 'genomes/Asticcacaulis_benevestitus_DSM_16100_uid199072/NZ_AQWM01000076.fna', 'genomes/Asticcacaulis_benevestitus_DSM_16100_uid199072/NZ_AQWM01000077.faa', 'genomes/Asticcacaulis_benevestitus_DSM_16100_uid199072/NZ_AQWM01000077.fna', 'genomes/Asticcacaulis_benevestitus_DSM_16100_uid199072/NZ_AQWM01000078.faa', 'genomes/Asticcacaulis_benevestitus_DSM_16100_uid199072/NZ_AQWM01000078.fna', 'genomes/Asticcacaulis_benevestitus_DSM_16100_uid199072/NZ_AQWM01000079.faa', 'genomes/Asticcacaulis_benevestitus_DSM_16100_uid199072/NZ_AQWM01000079.fna', 'genomes/Asticcacaulis_benevestitus_DSM_16100_uid199072/NZ_AQWM01000080.faa', 'genomes/Asticcacaulis_benevestitus_DSM_16100_uid199072/NZ_AQWM01000080.fna', 'genomes/Asticcacaulis_benevestitus_DSM_16100_uid199072/NZ_AQWM01000081.faa', 'genomes/Asticcacaulis_benevestitus_DSM_16100_uid199072/NZ_AQWM01000081.fna', 'genomes/Asticcacaulis_benevestitus_DSM_16100_uid199072/NZ_AQWM01000082.faa', 'genomes/Asticcacaulis_benevestitus_DSM_16100_uid199072/NZ_AQWM01000082.fna', 'genomes/Asticcacaulis_benevestitus_DSM_16100_uid199072/NZ_AQWM01000083.faa', 'genomes/Asticcacaulis_benevestitus_DSM_16100_uid199072/NZ_AQWM01000083.fna', 'genomes/Asticcacaulis_benevestitus_DSM_16100_uid199072/NZ_AQWM01000084.faa', 'genomes/Asticcacaulis_benevestitus_DSM_16100_uid199072/NZ_AQWM01000084.fna', 'genomes/Asticcacaulis_benevestitus_DSM_16100_uid199072/NZ_AQWM01000085.faa', 'genomes/Asticcacaulis_benevestitus_DSM_16100_uid199072/NZ_AQWM01000085.fna', 'genomes/Asticcacaulis_benevestitus_DSM_16100_uid199072/NZ_AQWM01000086.faa', 'genomes/Asticcacaulis_benevestitus_DSM_16100_uid199072/NZ_AQWM01000086.fna', 'genomes/Asticcacaulis_benevestitus_DSM_16100_uid199072/NZ_AQWM01000087.faa', 'genomes/Asticcacaulis_benevestitus_DSM_16100_uid199072/NZ_AQWM01000087.fna', 'genomes/Asticcacaulis_benevestitus_DSM_16100_uid199072/NZ_AQWM01000088.faa', 'genomes/Asticcacaulis_benevestitus_DSM_16100_uid199072/NZ_AQWM01000088.fna', 'genomes/Asticcacaulis_benevestitus_DSM_16100_uid199072/NZ_AQWM01000089.faa', 'genomes/Asticcacaulis_benevestitus_DSM_16100_uid199072/NZ_AQWM01000089.fna', 'genomes/Asticcacaulis_benevestitus_DSM_16100_uid199072/NZ_AQWM01000090.faa', 'genomes/Asticcacaulis_benevestitus_DSM_16100_uid199072/NZ_AQWM01000090.fna', 'genomes/Asticcacaulis_benevestitus_DSM_16100_uid199072/NZ_AQWM01000091.faa', 'genomes/Asticcacaulis_benevestitus_DSM_16100_uid199072/NZ_AQWM01000091.fna', 'genomes/Asticcacaulis_benevestitus_DSM_16100_uid199072/NZ_AQWM01000092.faa', 'genomes/Asticcacaulis_benevestitus_DSM_16100_uid199072/NZ_AQWM01000092.fna', 'genomes/Asticcacaulis_benevestitus_DSM_16100_uid199072/NZ_AQWM01000093.faa', 'genomes/Asticcacaulis_benevestitus_DSM_16100_uid199072/NZ_AQWM01000093.fna', 'genomes/Asticcacaulis_benevestitus_DSM_16100_uid199072/NZ_AQWM01000094.faa', 'genomes/Asticcacaulis_benevestitus_DSM_16100_uid199072/NZ_AQWM01000094.fna', 'genomes/Asticcacaulis_benevestitus_DSM_16100_uid199072/NZ_AQWM01000095.faa', 'genomes/Asticcacaulis_benevestitus_DSM_16100_uid199072/NZ_AQWM01000095.fna', 'genomes/Asticcacaulis_benevestitus_DSM_16100_uid199072/NZ_AQWM01000096.faa', 'genomes/Asticcacaulis_benevestitus_DSM_16100_uid199072/NZ_AQWM01000096.fna', 'genomes/Asticcacaulis_benevestitus_DSM_16100_uid199072/NZ_AQWM01000097.faa', 'genomes/Asticcacaulis_benevestitus_DSM_16100_uid199072/NZ_AQWM01000097.fna', 'genomes/Asticcacaulis_benevestitus_DSM_16100_uid199072/NZ_AQWM01000098.faa', 'genomes/Asticcacaulis_benevestitus_DSM_16100_uid199072/NZ_AQWM01000098.fna', 'genomes/Asticcacaulis_benevestitus_DSM_16100_uid199072/NZ_AQWM01000099.faa', 'genomes/Asticcacaulis_benevestitus_DSM_16100_uid199072/NZ_AQWM01000099.fna', 'genomes/Asticcacaulis_benevestitus_DSM_16100_uid199072/NZ_AQWM01000100.faa', 'genomes/Asticcacaulis_benevestitus_DSM_16100_uid199072/NZ_AQWM01000100.fna', 'genomes/Asticcacaulis_excentricus_CB_48_GCA_000175215_2\\uf028/NC_014816.1.faa', 'genomes/Asticcacaulis_excentricus_CB_48_GCA_000175215_2\\uf028/NC_014816.1.fna', 'genomes/Asticcacaulis_excentricus_CB_48_GCA_000175215_2\\uf028/NC_014817.1.faa', 'genomes/Asticcacaulis_excentricus_CB_48_GCA_000175215_2\\uf028/NC_014817.1.fna', 'genomes/Asticcacaulis_excentricus_CB_48_GCA_000175215_2\\uf028/NC_014818.1.faa', 'genomes/Asticcacaulis_excentricus_CB_48_GCA_000175215_2\\uf028/NC_014818.1.fna', 'genomes/Asticcacaulis_excentricus_CB_48_GCA_000175215_2\\uf028/NC_014819.1.faa', 'genomes/Asticcacaulis_excentricus_CB_48_GCA_000175215_2\\uf028/NC_014819.1.fna', 'genomes/Frankia_CcI3_GCA_000013345_1\\uf028/NC_007777.1.faa', 'genomes/Frankia_CcI3_GCA_000013345_1\\uf028/NC_007777.1.fna', 'genomes/Streptococcus_suis_ST3_GCA_000204625_1\\uf028/NC_015433.1.faa', 'genomes/Streptococcus_suis_ST3_GCA_000204625_1\\uf028/NC_015433.1.fna', 'genomes/Streptomyces_albus_GCA_000827005_1\\uf028/NZ_CP010519.1.faa', 'genomes/Streptomyces_albus_GCA_000827005_1\\uf028/NZ_CP010519.1.fna', 'genomes/Streptomyces_albus_GCA_001577385_1\\uf028/NZ_CP014485.1.faa', 'genomes/Streptomyces_albus_GCA_001577385_1\\uf028/NZ_CP014485.1.fna', 'genomes/Streptomyces_albus_J1074_GCA_000359525_1\\uf028/NC_020990.1.faa', 'genomes/Streptomyces_albus_J1074_GCA_000359525_1\\uf028/NC_020990.1.fna', 'genomes/Streptomyces_leeuwenhoekii_GCA_001013905_1\\uf028/NZ_LN831788.1.faa', 'genomes/Streptomyces_leeuwenhoekii_GCA_001013905_1\\uf028/NZ_LN831788.1.fna', 'genomes/Streptomyces_leeuwenhoekii_GCA_001013905_1\\uf028/NZ_LN831789.1.faa', 'genomes/Streptomyces_leeuwenhoekii_GCA_001013905_1\\uf028/NZ_LN831789.1.fna', 'genomes/Streptomyces_leeuwenhoekii_GCA_001013905_1\\uf028/NZ_LN831790.1.faa', 'genomes/Streptomyces_leeuwenhoekii_GCA_001013905_1\\uf028/NZ_LN831790.1.fna', 'genomes/Streptomyces_lividans_TK24_GCA_000739105_1\\uf028/NZ_CP009124.1.faa', 'genomes/Streptomyces_lividans_TK24_GCA_000739105_1\\uf028/NZ_CP009124.1.fna', 'genomes/Xanthomonas_citri_citri_Aw12879_GCA_000349225_1\\uf028/NC_020815.1.faa', 'genomes/Xanthomonas_citri_citri_Aw12879_GCA_000349225_1\\uf028/NC_020815.1.fna', 'genomes/Xanthomonas_citri_citri_Aw12879_GCA_000349225_1\\uf028/NC_020816.1.faa', 'genomes/Xanthomonas_citri_citri_Aw12879_GCA_000349225_1\\uf028/NC_020816.1.fna', 'genomes/Xanthomonas_citri_citri_Aw12879_GCA_000349225_1\\uf028/NC_020817.1.faa', 'genomes/Xanthomonas_citri_citri_Aw12879_GCA_000349225_1\\uf028/NC_020817.1.fna']\n"
     ]
    }
   ],
   "source": [
    "print(ALLDIRNAMES)"
   ]
  },
  {
   "cell_type": "markdown",
   "metadata": {},
   "source": [
    "For the fna files, we need to convert them to amino acid sequences (or faa files). We do this using [Emboss Transeq](https://www.ebi.ac.uk/seqdb/confluence/display/JDSAT/EMBOSS+transeq+Help+and+Documentation#EMBOSStranseqHelpandDocumentation-Reference), and save the output amino acid sequences into this genome file"
   ]
  },
  {
   "cell_type": "code",
   "execution_count": 6,
   "metadata": {},
   "outputs": [],
   "source": [
    "from Bio.Seq import Seq, reverse_complement\n",
    "from Bio.Alphabet import IUPAC\n",
    "\n",
    "## An adapter function for the biopython's translate, takes in a DNA sequence and returns a list of protein sequences\n",
    "def get_orfs(DNAseq):\n",
    "    AAList = []\n",
    "    \n",
    "    coding_dna = Seq(DNAseq, IUPAC.ambiguous_dna)\n",
    "    try:\n",
    "        AAList.append({\n",
    "            \"ORF\": 1,\n",
    "            \"sequence\": str(coding_dna.translate(to_stop=False, table = 11))\n",
    "        })\n",
    "    except:\n",
    "        print(\"There was an issue translating ORF \" + str(1))\n",
    "    try:\n",
    "        AAList.append({\n",
    "            \"ORF\": 2,\n",
    "            \"sequence\": str(coding_dna[1:].translate(to_stop=False, table = 11))\n",
    "        })\n",
    "    except:\n",
    "        print(\"There was an issue translating ORF \" + str(2))\n",
    "    try:\n",
    "        AAList.append({\n",
    "            \"ORF\": 3,\n",
    "            \"sequence\": str(coding_dna[2:].translate(to_stop=False, table = 11))\n",
    "        })\n",
    "    except:\n",
    "        print(\"There was an issue translating ORF \" + str(3))\n",
    "    \n",
    "    backwards_dna = reverse_complement(Seq(DNAseq[::-1], IUPAC.unambiguous_dna))\n",
    "    try:\n",
    "        AAList.append({\n",
    "            \"ORF\": -1,\n",
    "            \"sequence\": str(backwards_dna.translate(to_stop=False, table = 11))\n",
    "        })\n",
    "    except:\n",
    "        print(\"There was an issue translating ORF \" + str(-1))\n",
    "    try:\n",
    "        AAList.append({\n",
    "            \"ORF\": -2,\n",
    "            \"sequence\": str(backwards_dna[1:].translate(to_stop=False, table = 11))\n",
    "        })\n",
    "    except:\n",
    "        print(\"There was an issue translating ORF \" + str(-2))\n",
    "    try:\n",
    "        AAList.append({\n",
    "            \"ORF\": -3,\n",
    "            \"sequence\": str(backwards_dna[2:].translate(to_stop=False, table = 11))\n",
    "        })\n",
    "    except:\n",
    "        print(\"There was an issue translating ORF \" + str(-3))\n",
    "    \n",
    "    return AAList\n",
    "    \n",
    "#     AAList = [\"\", \"\", \"\", \"\", \"\", \"\"]\n",
    "#     codon = \"\"\n",
    "#     for e in range(0, 6):\n",
    "#         AAList[e] = 'A' * int(len(DNAseq) / 3)\n",
    "    "
   ]
  },
  {
   "cell_type": "code",
   "execution_count": 7,
   "metadata": {},
   "outputs": [],
   "source": [
    "for dirname in ALLDIRNAMES:\n",
    "    if((dirname[len(dirname) - 3:] == \"fna\") and not (dirname[:len(dirname) - 3] + \"faa\") in ALLDIRNAMES):\n",
    "        print(\"Opening up \" + dirname + \" and converting into peptide sequences...\")\n",
    "        DNAseqs = []\n",
    "        seqDescriptions = []\n",
    "        for fastaobj in readFASTA(dirname):\n",
    "            DNAseqs.append(fastaobj[\"sequence\"])\n",
    "            seqDescriptions.append(fastaobj[\"description\"])\n",
    "            \n",
    "        entries = []\n",
    "        for i in range(0, len(DNAseqs)):\n",
    "            print(\"converting \" + str(len(DNAseqs[i])) + \" base pairs from \" + seqDescriptions[i])\n",
    "            aalist = get_orfs(DNAseqs[i])\n",
    "            print(\"created \" + str(len(aalist)) + \" peptide sequences from \" + seqDescriptions[i])\n",
    "            for e in range(0, len(aalist)):\n",
    "                entries.append({\n",
    "                    \"sequence\": aalist[e][\"sequence\"],\n",
    "                    \"description\": str(seqDescriptions[i] + \" - ORF \" + str(aalist[e][\"ORF\"])) \n",
    "                })\n",
    "        \n",
    "        print(\"writing read peptides into '\" + dirname[len('genomes/'):len(dirname) - 3] + \"faa'\")\n",
    "        with open(dirname[:len(dirname) - 3] + \"faa\", 'w') as outfile:\n",
    "            for ent in entries:\n",
    "                outfile.write(\"> \" + ent[\"description\"] + \"\\n\")\n",
    "                outfile.write(ent[\"sequence\"] + \"\\n\\n\")"
   ]
  },
  {
   "cell_type": "markdown",
   "metadata": {},
   "source": [
    "Now, we append all of the files ending in a \".faa\" translation to an array of files called DIRNAMES"
   ]
  },
  {
   "cell_type": "code",
   "execution_count": 8,
   "metadata": {},
   "outputs": [
    {
     "name": "stdout",
     "output_type": "stream",
     "text": [
      "['genomes/Asticcacaulis_benevestitus_DSM_16100_uid199072/NZ_AQWM01000001.faa', 'genomes/Asticcacaulis_benevestitus_DSM_16100_uid199072/NZ_AQWM01000002.faa', 'genomes/Asticcacaulis_benevestitus_DSM_16100_uid199072/NZ_AQWM01000003.faa', 'genomes/Asticcacaulis_benevestitus_DSM_16100_uid199072/NZ_AQWM01000004.faa', 'genomes/Asticcacaulis_benevestitus_DSM_16100_uid199072/NZ_AQWM01000005.faa', 'genomes/Asticcacaulis_benevestitus_DSM_16100_uid199072/NZ_AQWM01000006.faa', 'genomes/Asticcacaulis_benevestitus_DSM_16100_uid199072/NZ_AQWM01000007.faa', 'genomes/Asticcacaulis_benevestitus_DSM_16100_uid199072/NZ_AQWM01000008.faa', 'genomes/Asticcacaulis_benevestitus_DSM_16100_uid199072/NZ_AQWM01000009.faa', 'genomes/Asticcacaulis_benevestitus_DSM_16100_uid199072/NZ_AQWM01000010.faa', 'genomes/Asticcacaulis_benevestitus_DSM_16100_uid199072/NZ_AQWM01000011.faa', 'genomes/Asticcacaulis_benevestitus_DSM_16100_uid199072/NZ_AQWM01000012.faa', 'genomes/Asticcacaulis_benevestitus_DSM_16100_uid199072/NZ_AQWM01000013.faa', 'genomes/Asticcacaulis_benevestitus_DSM_16100_uid199072/NZ_AQWM01000014.faa', 'genomes/Asticcacaulis_benevestitus_DSM_16100_uid199072/NZ_AQWM01000015.faa', 'genomes/Asticcacaulis_benevestitus_DSM_16100_uid199072/NZ_AQWM01000016.faa', 'genomes/Asticcacaulis_benevestitus_DSM_16100_uid199072/NZ_AQWM01000017.faa', 'genomes/Asticcacaulis_benevestitus_DSM_16100_uid199072/NZ_AQWM01000018.faa', 'genomes/Asticcacaulis_benevestitus_DSM_16100_uid199072/NZ_AQWM01000019.faa', 'genomes/Asticcacaulis_benevestitus_DSM_16100_uid199072/NZ_AQWM01000020.faa', 'genomes/Asticcacaulis_benevestitus_DSM_16100_uid199072/NZ_AQWM01000021.faa', 'genomes/Asticcacaulis_benevestitus_DSM_16100_uid199072/NZ_AQWM01000022.faa', 'genomes/Asticcacaulis_benevestitus_DSM_16100_uid199072/NZ_AQWM01000023.faa', 'genomes/Asticcacaulis_benevestitus_DSM_16100_uid199072/NZ_AQWM01000024.faa', 'genomes/Asticcacaulis_benevestitus_DSM_16100_uid199072/NZ_AQWM01000025.faa', 'genomes/Asticcacaulis_benevestitus_DSM_16100_uid199072/NZ_AQWM01000026.faa', 'genomes/Asticcacaulis_benevestitus_DSM_16100_uid199072/NZ_AQWM01000027.faa', 'genomes/Asticcacaulis_benevestitus_DSM_16100_uid199072/NZ_AQWM01000028.faa', 'genomes/Asticcacaulis_benevestitus_DSM_16100_uid199072/NZ_AQWM01000029.faa', 'genomes/Asticcacaulis_benevestitus_DSM_16100_uid199072/NZ_AQWM01000030.faa', 'genomes/Asticcacaulis_benevestitus_DSM_16100_uid199072/NZ_AQWM01000031.faa', 'genomes/Asticcacaulis_benevestitus_DSM_16100_uid199072/NZ_AQWM01000032.faa', 'genomes/Asticcacaulis_benevestitus_DSM_16100_uid199072/NZ_AQWM01000033.faa', 'genomes/Asticcacaulis_benevestitus_DSM_16100_uid199072/NZ_AQWM01000034.faa', 'genomes/Asticcacaulis_benevestitus_DSM_16100_uid199072/NZ_AQWM01000035.faa', 'genomes/Asticcacaulis_benevestitus_DSM_16100_uid199072/NZ_AQWM01000036.faa', 'genomes/Asticcacaulis_benevestitus_DSM_16100_uid199072/NZ_AQWM01000037.faa', 'genomes/Asticcacaulis_benevestitus_DSM_16100_uid199072/NZ_AQWM01000038.faa', 'genomes/Asticcacaulis_benevestitus_DSM_16100_uid199072/NZ_AQWM01000039.faa', 'genomes/Asticcacaulis_benevestitus_DSM_16100_uid199072/NZ_AQWM01000040.faa', 'genomes/Asticcacaulis_benevestitus_DSM_16100_uid199072/NZ_AQWM01000041.faa', 'genomes/Asticcacaulis_benevestitus_DSM_16100_uid199072/NZ_AQWM01000042.faa', 'genomes/Asticcacaulis_benevestitus_DSM_16100_uid199072/NZ_AQWM01000043.faa', 'genomes/Asticcacaulis_benevestitus_DSM_16100_uid199072/NZ_AQWM01000044.faa', 'genomes/Asticcacaulis_benevestitus_DSM_16100_uid199072/NZ_AQWM01000045.faa', 'genomes/Asticcacaulis_benevestitus_DSM_16100_uid199072/NZ_AQWM01000046.faa', 'genomes/Asticcacaulis_benevestitus_DSM_16100_uid199072/NZ_AQWM01000047.faa', 'genomes/Asticcacaulis_benevestitus_DSM_16100_uid199072/NZ_AQWM01000048.faa', 'genomes/Asticcacaulis_benevestitus_DSM_16100_uid199072/NZ_AQWM01000049.faa', 'genomes/Asticcacaulis_benevestitus_DSM_16100_uid199072/NZ_AQWM01000050.faa', 'genomes/Asticcacaulis_benevestitus_DSM_16100_uid199072/NZ_AQWM01000051.faa', 'genomes/Asticcacaulis_benevestitus_DSM_16100_uid199072/NZ_AQWM01000052.faa', 'genomes/Asticcacaulis_benevestitus_DSM_16100_uid199072/NZ_AQWM01000053.faa', 'genomes/Asticcacaulis_benevestitus_DSM_16100_uid199072/NZ_AQWM01000054.faa', 'genomes/Asticcacaulis_benevestitus_DSM_16100_uid199072/NZ_AQWM01000055.faa', 'genomes/Asticcacaulis_benevestitus_DSM_16100_uid199072/NZ_AQWM01000056.faa', 'genomes/Asticcacaulis_benevestitus_DSM_16100_uid199072/NZ_AQWM01000057.faa', 'genomes/Asticcacaulis_benevestitus_DSM_16100_uid199072/NZ_AQWM01000058.faa', 'genomes/Asticcacaulis_benevestitus_DSM_16100_uid199072/NZ_AQWM01000059.faa', 'genomes/Asticcacaulis_benevestitus_DSM_16100_uid199072/NZ_AQWM01000060.faa', 'genomes/Asticcacaulis_benevestitus_DSM_16100_uid199072/NZ_AQWM01000061.faa', 'genomes/Asticcacaulis_benevestitus_DSM_16100_uid199072/NZ_AQWM01000062.faa', 'genomes/Asticcacaulis_benevestitus_DSM_16100_uid199072/NZ_AQWM01000063.faa', 'genomes/Asticcacaulis_benevestitus_DSM_16100_uid199072/NZ_AQWM01000064.faa', 'genomes/Asticcacaulis_benevestitus_DSM_16100_uid199072/NZ_AQWM01000065.faa', 'genomes/Asticcacaulis_benevestitus_DSM_16100_uid199072/NZ_AQWM01000066.faa', 'genomes/Asticcacaulis_benevestitus_DSM_16100_uid199072/NZ_AQWM01000067.faa', 'genomes/Asticcacaulis_benevestitus_DSM_16100_uid199072/NZ_AQWM01000068.faa', 'genomes/Asticcacaulis_benevestitus_DSM_16100_uid199072/NZ_AQWM01000069.faa', 'genomes/Asticcacaulis_benevestitus_DSM_16100_uid199072/NZ_AQWM01000070.faa', 'genomes/Asticcacaulis_benevestitus_DSM_16100_uid199072/NZ_AQWM01000071.faa', 'genomes/Asticcacaulis_benevestitus_DSM_16100_uid199072/NZ_AQWM01000072.faa', 'genomes/Asticcacaulis_benevestitus_DSM_16100_uid199072/NZ_AQWM01000073.faa', 'genomes/Asticcacaulis_benevestitus_DSM_16100_uid199072/NZ_AQWM01000074.faa', 'genomes/Asticcacaulis_benevestitus_DSM_16100_uid199072/NZ_AQWM01000075.faa', 'genomes/Asticcacaulis_benevestitus_DSM_16100_uid199072/NZ_AQWM01000076.faa', 'genomes/Asticcacaulis_benevestitus_DSM_16100_uid199072/NZ_AQWM01000077.faa', 'genomes/Asticcacaulis_benevestitus_DSM_16100_uid199072/NZ_AQWM01000078.faa', 'genomes/Asticcacaulis_benevestitus_DSM_16100_uid199072/NZ_AQWM01000079.faa', 'genomes/Asticcacaulis_benevestitus_DSM_16100_uid199072/NZ_AQWM01000080.faa', 'genomes/Asticcacaulis_benevestitus_DSM_16100_uid199072/NZ_AQWM01000081.faa', 'genomes/Asticcacaulis_benevestitus_DSM_16100_uid199072/NZ_AQWM01000082.faa', 'genomes/Asticcacaulis_benevestitus_DSM_16100_uid199072/NZ_AQWM01000083.faa', 'genomes/Asticcacaulis_benevestitus_DSM_16100_uid199072/NZ_AQWM01000084.faa', 'genomes/Asticcacaulis_benevestitus_DSM_16100_uid199072/NZ_AQWM01000085.faa', 'genomes/Asticcacaulis_benevestitus_DSM_16100_uid199072/NZ_AQWM01000086.faa', 'genomes/Asticcacaulis_benevestitus_DSM_16100_uid199072/NZ_AQWM01000087.faa', 'genomes/Asticcacaulis_benevestitus_DSM_16100_uid199072/NZ_AQWM01000088.faa', 'genomes/Asticcacaulis_benevestitus_DSM_16100_uid199072/NZ_AQWM01000089.faa', 'genomes/Asticcacaulis_benevestitus_DSM_16100_uid199072/NZ_AQWM01000090.faa', 'genomes/Asticcacaulis_benevestitus_DSM_16100_uid199072/NZ_AQWM01000091.faa', 'genomes/Asticcacaulis_benevestitus_DSM_16100_uid199072/NZ_AQWM01000092.faa', 'genomes/Asticcacaulis_benevestitus_DSM_16100_uid199072/NZ_AQWM01000093.faa', 'genomes/Asticcacaulis_benevestitus_DSM_16100_uid199072/NZ_AQWM01000094.faa', 'genomes/Asticcacaulis_benevestitus_DSM_16100_uid199072/NZ_AQWM01000095.faa', 'genomes/Asticcacaulis_benevestitus_DSM_16100_uid199072/NZ_AQWM01000096.faa', 'genomes/Asticcacaulis_benevestitus_DSM_16100_uid199072/NZ_AQWM01000097.faa', 'genomes/Asticcacaulis_benevestitus_DSM_16100_uid199072/NZ_AQWM01000098.faa', 'genomes/Asticcacaulis_benevestitus_DSM_16100_uid199072/NZ_AQWM01000099.faa', 'genomes/Asticcacaulis_benevestitus_DSM_16100_uid199072/NZ_AQWM01000100.faa', 'genomes/Asticcacaulis_excentricus_CB_48_GCA_000175215_2\\uf028/NC_014816.1.faa', 'genomes/Asticcacaulis_excentricus_CB_48_GCA_000175215_2\\uf028/NC_014817.1.faa', 'genomes/Asticcacaulis_excentricus_CB_48_GCA_000175215_2\\uf028/NC_014818.1.faa', 'genomes/Asticcacaulis_excentricus_CB_48_GCA_000175215_2\\uf028/NC_014819.1.faa', 'genomes/Frankia_CcI3_GCA_000013345_1\\uf028/NC_007777.1.faa', 'genomes/Streptococcus_suis_ST3_GCA_000204625_1\\uf028/NC_015433.1.faa', 'genomes/Streptomyces_albus_GCA_000827005_1\\uf028/NZ_CP010519.1.faa', 'genomes/Streptomyces_albus_GCA_001577385_1\\uf028/NZ_CP014485.1.faa', 'genomes/Streptomyces_albus_J1074_GCA_000359525_1\\uf028/NC_020990.1.faa', 'genomes/Streptomyces_leeuwenhoekii_GCA_001013905_1\\uf028/NZ_LN831788.1.faa', 'genomes/Streptomyces_leeuwenhoekii_GCA_001013905_1\\uf028/NZ_LN831789.1.faa', 'genomes/Streptomyces_leeuwenhoekii_GCA_001013905_1\\uf028/NZ_LN831790.1.faa', 'genomes/Streptomyces_lividans_TK24_GCA_000739105_1\\uf028/NZ_CP009124.1.faa', 'genomes/Xanthomonas_citri_citri_Aw12879_GCA_000349225_1\\uf028/NC_020815.1.faa', 'genomes/Xanthomonas_citri_citri_Aw12879_GCA_000349225_1\\uf028/NC_020816.1.faa', 'genomes/Xanthomonas_citri_citri_Aw12879_GCA_000349225_1\\uf028/NC_020817.1.faa']\n"
     ]
    }
   ],
   "source": [
    "DIRNAMES = []\n",
    "for dirname in os.listdir(\"genomes\"):\n",
    "    if (dirname.find(\".\") != -1):\n",
    "        if(dirname[len(dirname) - 3:] == \"faa\"):\n",
    "            DIRNAMES.append(\"genomes/\" + dirname)\n",
    "    else:\n",
    "        for filename in os.listdir(\"genomes/\" + dirname):\n",
    "            if(filename[len(filename) - 3:] == \"faa\"):\n",
    "                DIRNAMES.append(\"genomes/\" + dirname + \"/\" + filename)\n",
    "    \n",
    "        \n",
    "print(DIRNAMES)"
   ]
  },
  {
   "cell_type": "markdown",
   "metadata": {},
   "source": [
    "### Pattern Matching\n",
    "Uses the python regular expression library to determine whether proteins match the pattern sequence. This function takes in an overall sequence of amino acids and determines whether the sequence passes the pattern regular expression. The function returns a list of matched proteins, which have a specific sequence, and stores the overall sequence and the associated description."
   ]
  },
  {
   "cell_type": "code",
   "execution_count": 10,
   "metadata": {},
   "outputs": [],
   "source": [
    "def patternMatch(overallSequence, pattern, description):\n",
    "    matchedProteinList = []\n",
    "    \n",
    "    # find all matches in protein that match\n",
    "    matchIter = re.finditer(pattern, overallSequence)\n",
    "    done_looping = False\n",
    "    while not done_looping:\n",
    "        try:\n",
    "            match = next(matchIter)\n",
    "        except StopIteration:\n",
    "            done_looping = True\n",
    "        else:\n",
    "            # get the correct range based on span\n",
    "            indices = list(match.span())\n",
    "            ORF = int(description[len(description) - 2:])\n",
    "            if ORF == 2:\n",
    "                indices[0] += 1\n",
    "                indices[1] += 1\n",
    "            elif ORF == 3:\n",
    "                indices[0] += 1\n",
    "                indices[1] += 1\n",
    "            elif ORF == -1:\n",
    "                indices[0] = len(overallSequence) - indices[0]\n",
    "                indices[1] = len(overallSequence) - indices[1]\n",
    "            elif ORF == -2:\n",
    "                indices[0] = len(overallSequence) - indices[0] - 1\n",
    "                indices[1] = len(overallSequence) - indices[1] - 1\n",
    "            elif ORF == -3:\n",
    "                indices[0] = len(overallSequence) - indices[0] - 2\n",
    "                indices[1] = len(overallSequence) - indices[1] - 2\n",
    "            matchedProteinList.append({\n",
    "                \"description\": description,\n",
    "                \"sequence\": match.group(0),\n",
    "                \"searchPattern\": match.re.pattern,\n",
    "                \"searchRange\": indices,\n",
    "                \"overallLength\": len(overallSequence),\n",
    "                \"genome\": description[:description.index(\"/\")]\n",
    "                ## \"overallString\": match.string\n",
    "            })\n",
    "    return matchedProteinList"
   ]
  },
  {
   "cell_type": "code",
   "execution_count": 11,
   "metadata": {},
   "outputs": [
    {
     "name": "stdout",
     "output_type": "stream",
     "text": [
      "Read 3 objects from FASTA file genomes/Asticcacaulis_benevestitus_DSM_16100_uid199072/NZ_AQWM01000001.faa\n",
      "Read 6 objects from FASTA file genomes/Asticcacaulis_benevestitus_DSM_16100_uid199072/NZ_AQWM01000002.faa\n",
      "Read 6 objects from FASTA file genomes/Asticcacaulis_benevestitus_DSM_16100_uid199072/NZ_AQWM01000003.faa\n",
      "Read 3 objects from FASTA file genomes/Asticcacaulis_benevestitus_DSM_16100_uid199072/NZ_AQWM01000004.faa\n",
      "Read 6 objects from FASTA file genomes/Asticcacaulis_benevestitus_DSM_16100_uid199072/NZ_AQWM01000005.faa\n",
      "Read 6 objects from FASTA file genomes/Asticcacaulis_benevestitus_DSM_16100_uid199072/NZ_AQWM01000006.faa\n",
      "Read 3 objects from FASTA file genomes/Asticcacaulis_benevestitus_DSM_16100_uid199072/NZ_AQWM01000007.faa\n",
      "Read 6 objects from FASTA file genomes/Asticcacaulis_benevestitus_DSM_16100_uid199072/NZ_AQWM01000008.faa\n",
      "Read 6 objects from FASTA file genomes/Asticcacaulis_benevestitus_DSM_16100_uid199072/NZ_AQWM01000009.faa\n",
      "Read 6 objects from FASTA file genomes/Asticcacaulis_benevestitus_DSM_16100_uid199072/NZ_AQWM01000010.faa\n",
      "Read 3 objects from FASTA file genomes/Asticcacaulis_benevestitus_DSM_16100_uid199072/NZ_AQWM01000011.faa\n",
      "Read 6 objects from FASTA file genomes/Asticcacaulis_benevestitus_DSM_16100_uid199072/NZ_AQWM01000012.faa\n",
      "Read 6 objects from FASTA file genomes/Asticcacaulis_benevestitus_DSM_16100_uid199072/NZ_AQWM01000013.faa\n",
      "Read 3 objects from FASTA file genomes/Asticcacaulis_benevestitus_DSM_16100_uid199072/NZ_AQWM01000014.faa\n",
      "Read 6 objects from FASTA file genomes/Asticcacaulis_benevestitus_DSM_16100_uid199072/NZ_AQWM01000015.faa\n",
      "Read 3 objects from FASTA file genomes/Asticcacaulis_benevestitus_DSM_16100_uid199072/NZ_AQWM01000016.faa\n",
      "Read 3 objects from FASTA file genomes/Asticcacaulis_benevestitus_DSM_16100_uid199072/NZ_AQWM01000017.faa\n",
      "Read 6 objects from FASTA file genomes/Asticcacaulis_benevestitus_DSM_16100_uid199072/NZ_AQWM01000018.faa\n",
      "Read 3 objects from FASTA file genomes/Asticcacaulis_benevestitus_DSM_16100_uid199072/NZ_AQWM01000019.faa\n",
      "Read 6 objects from FASTA file genomes/Asticcacaulis_benevestitus_DSM_16100_uid199072/NZ_AQWM01000020.faa\n",
      "Read 6 objects from FASTA file genomes/Asticcacaulis_benevestitus_DSM_16100_uid199072/NZ_AQWM01000021.faa\n",
      "Read 6 objects from FASTA file genomes/Asticcacaulis_benevestitus_DSM_16100_uid199072/NZ_AQWM01000022.faa\n",
      "Read 6 objects from FASTA file genomes/Asticcacaulis_benevestitus_DSM_16100_uid199072/NZ_AQWM01000023.faa\n",
      "Read 3 objects from FASTA file genomes/Asticcacaulis_benevestitus_DSM_16100_uid199072/NZ_AQWM01000024.faa\n",
      "Read 3 objects from FASTA file genomes/Asticcacaulis_benevestitus_DSM_16100_uid199072/NZ_AQWM01000025.faa\n",
      "Read 6 objects from FASTA file genomes/Asticcacaulis_benevestitus_DSM_16100_uid199072/NZ_AQWM01000026.faa\n",
      "Read 6 objects from FASTA file genomes/Asticcacaulis_benevestitus_DSM_16100_uid199072/NZ_AQWM01000027.faa\n",
      "Read 6 objects from FASTA file genomes/Asticcacaulis_benevestitus_DSM_16100_uid199072/NZ_AQWM01000028.faa\n",
      "Read 6 objects from FASTA file genomes/Asticcacaulis_benevestitus_DSM_16100_uid199072/NZ_AQWM01000029.faa\n",
      "Read 3 objects from FASTA file genomes/Asticcacaulis_benevestitus_DSM_16100_uid199072/NZ_AQWM01000030.faa\n",
      "Read 6 objects from FASTA file genomes/Asticcacaulis_benevestitus_DSM_16100_uid199072/NZ_AQWM01000031.faa\n",
      "Read 3 objects from FASTA file genomes/Asticcacaulis_benevestitus_DSM_16100_uid199072/NZ_AQWM01000032.faa\n",
      "Read 3 objects from FASTA file genomes/Asticcacaulis_benevestitus_DSM_16100_uid199072/NZ_AQWM01000033.faa\n",
      "Read 6 objects from FASTA file genomes/Asticcacaulis_benevestitus_DSM_16100_uid199072/NZ_AQWM01000034.faa\n",
      "Read 6 objects from FASTA file genomes/Asticcacaulis_benevestitus_DSM_16100_uid199072/NZ_AQWM01000035.faa\n",
      "Read 3 objects from FASTA file genomes/Asticcacaulis_benevestitus_DSM_16100_uid199072/NZ_AQWM01000036.faa\n",
      "Read 6 objects from FASTA file genomes/Asticcacaulis_benevestitus_DSM_16100_uid199072/NZ_AQWM01000037.faa\n",
      "Read 6 objects from FASTA file genomes/Asticcacaulis_benevestitus_DSM_16100_uid199072/NZ_AQWM01000038.faa\n",
      "Read 3 objects from FASTA file genomes/Asticcacaulis_benevestitus_DSM_16100_uid199072/NZ_AQWM01000039.faa\n",
      "Read 3 objects from FASTA file genomes/Asticcacaulis_benevestitus_DSM_16100_uid199072/NZ_AQWM01000040.faa\n",
      "Read 6 objects from FASTA file genomes/Asticcacaulis_benevestitus_DSM_16100_uid199072/NZ_AQWM01000041.faa\n",
      "Read 3 objects from FASTA file genomes/Asticcacaulis_benevestitus_DSM_16100_uid199072/NZ_AQWM01000042.faa\n",
      "Read 6 objects from FASTA file genomes/Asticcacaulis_benevestitus_DSM_16100_uid199072/NZ_AQWM01000043.faa\n",
      "Read 6 objects from FASTA file genomes/Asticcacaulis_benevestitus_DSM_16100_uid199072/NZ_AQWM01000044.faa\n",
      "Read 6 objects from FASTA file genomes/Asticcacaulis_benevestitus_DSM_16100_uid199072/NZ_AQWM01000045.faa\n",
      "Read 6 objects from FASTA file genomes/Asticcacaulis_benevestitus_DSM_16100_uid199072/NZ_AQWM01000046.faa\n",
      "Read 6 objects from FASTA file genomes/Asticcacaulis_benevestitus_DSM_16100_uid199072/NZ_AQWM01000047.faa\n",
      "Read 3 objects from FASTA file genomes/Asticcacaulis_benevestitus_DSM_16100_uid199072/NZ_AQWM01000048.faa\n",
      "Read 6 objects from FASTA file genomes/Asticcacaulis_benevestitus_DSM_16100_uid199072/NZ_AQWM01000049.faa\n",
      "Read 6 objects from FASTA file genomes/Asticcacaulis_benevestitus_DSM_16100_uid199072/NZ_AQWM01000050.faa\n",
      "Read 6 objects from FASTA file genomes/Asticcacaulis_benevestitus_DSM_16100_uid199072/NZ_AQWM01000051.faa\n",
      "Read 6 objects from FASTA file genomes/Asticcacaulis_benevestitus_DSM_16100_uid199072/NZ_AQWM01000052.faa\n",
      "Read 6 objects from FASTA file genomes/Asticcacaulis_benevestitus_DSM_16100_uid199072/NZ_AQWM01000053.faa\n",
      "Read 6 objects from FASTA file genomes/Asticcacaulis_benevestitus_DSM_16100_uid199072/NZ_AQWM01000054.faa\n",
      "Read 6 objects from FASTA file genomes/Asticcacaulis_benevestitus_DSM_16100_uid199072/NZ_AQWM01000055.faa\n",
      "Read 6 objects from FASTA file genomes/Asticcacaulis_benevestitus_DSM_16100_uid199072/NZ_AQWM01000056.faa\n",
      "Read 3 objects from FASTA file genomes/Asticcacaulis_benevestitus_DSM_16100_uid199072/NZ_AQWM01000057.faa\n",
      "Read 3 objects from FASTA file genomes/Asticcacaulis_benevestitus_DSM_16100_uid199072/NZ_AQWM01000058.faa\n",
      "Read 6 objects from FASTA file genomes/Asticcacaulis_benevestitus_DSM_16100_uid199072/NZ_AQWM01000059.faa\n",
      "Read 3 objects from FASTA file genomes/Asticcacaulis_benevestitus_DSM_16100_uid199072/NZ_AQWM01000060.faa\n",
      "Read 3 objects from FASTA file genomes/Asticcacaulis_benevestitus_DSM_16100_uid199072/NZ_AQWM01000061.faa\n",
      "Read 6 objects from FASTA file genomes/Asticcacaulis_benevestitus_DSM_16100_uid199072/NZ_AQWM01000062.faa\n",
      "Read 3 objects from FASTA file genomes/Asticcacaulis_benevestitus_DSM_16100_uid199072/NZ_AQWM01000063.faa\n",
      "Read 3 objects from FASTA file genomes/Asticcacaulis_benevestitus_DSM_16100_uid199072/NZ_AQWM01000064.faa\n",
      "Read 6 objects from FASTA file genomes/Asticcacaulis_benevestitus_DSM_16100_uid199072/NZ_AQWM01000065.faa\n",
      "Read 6 objects from FASTA file genomes/Asticcacaulis_benevestitus_DSM_16100_uid199072/NZ_AQWM01000066.faa\n",
      "Read 6 objects from FASTA file genomes/Asticcacaulis_benevestitus_DSM_16100_uid199072/NZ_AQWM01000067.faa\n",
      "Read 6 objects from FASTA file genomes/Asticcacaulis_benevestitus_DSM_16100_uid199072/NZ_AQWM01000068.faa\n",
      "Read 6 objects from FASTA file genomes/Asticcacaulis_benevestitus_DSM_16100_uid199072/NZ_AQWM01000069.faa\n",
      "Read 6 objects from FASTA file genomes/Asticcacaulis_benevestitus_DSM_16100_uid199072/NZ_AQWM01000070.faa\n",
      "Read 6 objects from FASTA file genomes/Asticcacaulis_benevestitus_DSM_16100_uid199072/NZ_AQWM01000071.faa\n",
      "Read 3 objects from FASTA file genomes/Asticcacaulis_benevestitus_DSM_16100_uid199072/NZ_AQWM01000072.faa\n",
      "Read 6 objects from FASTA file genomes/Asticcacaulis_benevestitus_DSM_16100_uid199072/NZ_AQWM01000073.faa\n",
      "Read 6 objects from FASTA file genomes/Asticcacaulis_benevestitus_DSM_16100_uid199072/NZ_AQWM01000074.faa\n",
      "Read 6 objects from FASTA file genomes/Asticcacaulis_benevestitus_DSM_16100_uid199072/NZ_AQWM01000075.faa\n",
      "Read 6 objects from FASTA file genomes/Asticcacaulis_benevestitus_DSM_16100_uid199072/NZ_AQWM01000076.faa\n",
      "Read 6 objects from FASTA file genomes/Asticcacaulis_benevestitus_DSM_16100_uid199072/NZ_AQWM01000077.faa\n",
      "Read 3 objects from FASTA file genomes/Asticcacaulis_benevestitus_DSM_16100_uid199072/NZ_AQWM01000078.faa\n",
      "Read 6 objects from FASTA file genomes/Asticcacaulis_benevestitus_DSM_16100_uid199072/NZ_AQWM01000079.faa\n",
      "Read 6 objects from FASTA file genomes/Asticcacaulis_benevestitus_DSM_16100_uid199072/NZ_AQWM01000080.faa\n",
      "Read 6 objects from FASTA file genomes/Asticcacaulis_benevestitus_DSM_16100_uid199072/NZ_AQWM01000081.faa\n",
      "Read 6 objects from FASTA file genomes/Asticcacaulis_benevestitus_DSM_16100_uid199072/NZ_AQWM01000082.faa\n",
      "Read 6 objects from FASTA file genomes/Asticcacaulis_benevestitus_DSM_16100_uid199072/NZ_AQWM01000083.faa\n",
      "Read 6 objects from FASTA file genomes/Asticcacaulis_benevestitus_DSM_16100_uid199072/NZ_AQWM01000084.faa\n",
      "Read 6 objects from FASTA file genomes/Asticcacaulis_benevestitus_DSM_16100_uid199072/NZ_AQWM01000085.faa\n",
      "Read 6 objects from FASTA file genomes/Asticcacaulis_benevestitus_DSM_16100_uid199072/NZ_AQWM01000086.faa\n",
      "Read 6 objects from FASTA file genomes/Asticcacaulis_benevestitus_DSM_16100_uid199072/NZ_AQWM01000087.faa\n",
      "Read 6 objects from FASTA file genomes/Asticcacaulis_benevestitus_DSM_16100_uid199072/NZ_AQWM01000088.faa\n",
      "Read 6 objects from FASTA file genomes/Asticcacaulis_benevestitus_DSM_16100_uid199072/NZ_AQWM01000089.faa\n",
      "Read 6 objects from FASTA file genomes/Asticcacaulis_benevestitus_DSM_16100_uid199072/NZ_AQWM01000090.faa\n",
      "Read 6 objects from FASTA file genomes/Asticcacaulis_benevestitus_DSM_16100_uid199072/NZ_AQWM01000091.faa\n",
      "Read 6 objects from FASTA file genomes/Asticcacaulis_benevestitus_DSM_16100_uid199072/NZ_AQWM01000092.faa\n",
      "Read 6 objects from FASTA file genomes/Asticcacaulis_benevestitus_DSM_16100_uid199072/NZ_AQWM01000093.faa\n",
      "Read 6 objects from FASTA file genomes/Asticcacaulis_benevestitus_DSM_16100_uid199072/NZ_AQWM01000094.faa\n",
      "Read 6 objects from FASTA file genomes/Asticcacaulis_benevestitus_DSM_16100_uid199072/NZ_AQWM01000095.faa\n",
      "Read 6 objects from FASTA file genomes/Asticcacaulis_benevestitus_DSM_16100_uid199072/NZ_AQWM01000096.faa\n",
      "Read 6 objects from FASTA file genomes/Asticcacaulis_benevestitus_DSM_16100_uid199072/NZ_AQWM01000097.faa\n",
      "Read 6 objects from FASTA file genomes/Asticcacaulis_benevestitus_DSM_16100_uid199072/NZ_AQWM01000098.faa\n",
      "Read 6 objects from FASTA file genomes/Asticcacaulis_benevestitus_DSM_16100_uid199072/NZ_AQWM01000099.faa\n",
      "Read 6 objects from FASTA file genomes/Asticcacaulis_benevestitus_DSM_16100_uid199072/NZ_AQWM01000100.faa\n"
     ]
    },
    {
     "name": "stdout",
     "output_type": "stream",
     "text": [
      "Read 6 objects from FASTA file genomes/Asticcacaulis_excentricus_CB_48_GCA_000175215_2/NC_014816.1.faa\n",
      "Read 6 objects from FASTA file genomes/Asticcacaulis_excentricus_CB_48_GCA_000175215_2/NC_014817.1.faa\n",
      "Read 6 objects from FASTA file genomes/Asticcacaulis_excentricus_CB_48_GCA_000175215_2/NC_014818.1.faa\n",
      "Read 6 objects from FASTA file genomes/Asticcacaulis_excentricus_CB_48_GCA_000175215_2/NC_014819.1.faa\n",
      "Read 6 objects from FASTA file genomes/Frankia_CcI3_GCA_000013345_1/NC_007777.1.faa\n",
      "Read 6 objects from FASTA file genomes/Streptococcus_suis_ST3_GCA_000204625_1/NC_015433.1.faa\n",
      "Read 6 objects from FASTA file genomes/Streptomyces_albus_GCA_000827005_1/NZ_CP010519.1.faa\n",
      "Read 6 objects from FASTA file genomes/Streptomyces_albus_GCA_001577385_1/NZ_CP014485.1.faa\n",
      "Read 6 objects from FASTA file genomes/Streptomyces_albus_J1074_GCA_000359525_1/NC_020990.1.faa\n",
      "Read 6 objects from FASTA file genomes/Streptomyces_leeuwenhoekii_GCA_001013905_1/NZ_LN831788.1.faa\n",
      "Read 6 objects from FASTA file genomes/Streptomyces_leeuwenhoekii_GCA_001013905_1/NZ_LN831789.1.faa\n",
      "Read 6 objects from FASTA file genomes/Streptomyces_leeuwenhoekii_GCA_001013905_1/NZ_LN831790.1.faa\n",
      "Read 6 objects from FASTA file genomes/Streptomyces_lividans_TK24_GCA_000739105_1/NZ_CP009124.1.faa\n",
      "Read 6 objects from FASTA file genomes/Xanthomonas_citri_citri_Aw12879_GCA_000349225_1/NC_020815.1.faa\n",
      "Read 6 objects from FASTA file genomes/Xanthomonas_citri_citri_Aw12879_GCA_000349225_1/NC_020816.1.faa\n",
      "Read 6 objects from FASTA file genomes/Xanthomonas_citri_citri_Aw12879_GCA_000349225_1/NC_020817.1.faa\n",
      "Found 19159 that satisfy the pattern: M[A-Z]{15,45}T[A-Z][A-Z]{6,8}[DE][A-Z]{5,30}\\*\n"
     ]
    }
   ],
   "source": [
    "matchedProteins = []\n",
    "for filename in DIRNAMES:\n",
    "    readSequences = readFASTA(filename)\n",
    "    for seq in readSequences:\n",
    "        matchedProteins.extend(patternMatch(seq[\"sequence\"], PATTERN, filename[8:len(filename) - 4] + \" - \" + seq[\"description\"]))\n",
    "    \n",
    "\n",
    "print(\"Found \" + str(len(matchedProteins)) + \" that satisfy the pattern: \" + PATTERN)\n",
    "# for match in matchedProteins:\n",
    "#     print(match[\"sequence\"] + \", found in range \" + str(match[\"searchRange\"]))\n",
    "#     print(\"description: \" + match[\"description\"])\n",
    "\n"
   ]
  },
  {
   "cell_type": "code",
   "execution_count": 15,
   "metadata": {},
   "outputs": [
    {
     "data": {
      "text/plain": [
       "{'description': 'Asticcacaulis_benevestitus_DSM_16100_uid199072/NZ_AQWM01000002 -  gi|484226718|ref|NZ_AQWM01000002.1| Asticcacaulis benevestitus DSM 16100 = ATCC BAA-896 strain DSM 16100 B060DRAFT_scaffold_1.2_C, whole genome shotgun sequence - ORF 1',\n",
       " 'sequence': 'MAVGDQILLRLFAEMGDAGEKLIGQRLLLQRTARGIEPGVEVHAVEDVLIAEEGETLVVEHEIEA*',\n",
       " 'searchPattern': 'M[A-Z]{15,45}T[A-Z][A-Z]{6,8}[DE][A-Z]{5,30}\\\\*',\n",
       " 'searchRange': [63959, 64025],\n",
       " 'overallLength': 150553,\n",
       " 'genome': 'Asticcacaulis_benevestitus_DSM_16100_uid199072'}"
      ]
     },
     "execution_count": 15,
     "metadata": {},
     "output_type": "execute_result"
    }
   ],
   "source": [
    "matchedProteins[240]"
   ]
  },
  {
   "cell_type": "code",
   "execution_count": 16,
   "metadata": {},
   "outputs": [],
   "source": [
    "with open('matches.json', 'w') as outfile:\n",
    "    json.dump(matchedProteins, outfile)"
   ]
  },
  {
   "cell_type": "code",
   "execution_count": 17,
   "metadata": {},
   "outputs": [],
   "source": [
    "lassopeptides = []\n",
    "with open('matches.json', 'r') as storedfile:\n",
    "    lassopeptides = json.loads(storedfile.read())\n"
   ]
  },
  {
   "cell_type": "code",
   "execution_count": null,
   "metadata": {},
   "outputs": [],
   "source": []
  }
 ],
 "metadata": {
  "kernelspec": {
   "display_name": "Python 3",
   "language": "python",
   "name": "python3"
  },
  "language_info": {
   "codemirror_mode": {
    "name": "ipython",
    "version": 3
   },
   "file_extension": ".py",
   "mimetype": "text/x-python",
   "name": "python",
   "nbconvert_exporter": "python",
   "pygments_lexer": "ipython3",
   "version": "3.7.2"
  }
 },
 "nbformat": 4,
 "nbformat_minor": 2
}
