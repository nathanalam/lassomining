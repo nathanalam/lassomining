{
 "cells": [
  {
   "cell_type": "markdown",
   "metadata": {},
   "source": [
    "# Genome Mining Script\n",
    "##### Original Author: Chun Yin Larry So | Python Interpretation: Nathan Alam\n",
    "[Github repository](https://github.com/nathanalam/genomemining)\n",
    "\n",
    "The purpose of this notebook is to provide scripts for reading bacterial genomes in search of regular expressions which seem to match a String corresponding to a candidate coding for a Lasso peptide.\n",
    "\n",
    "## Links to relevant publications:\n",
    "- [Genome mining for lasso peptides: past, present, and future](https://link.springer.com/article/10.1007/s10295-019-02197-z)\n",
    "- [Prospecting Genomes for Lasso Peptides](https://www.ncbi.nlm.nih.gov/pubmed/24142336)"
   ]
  },
  {
   "cell_type": "markdown",
   "metadata": {},
   "source": [
    "### Comments from Perl Script\n",
    "- In this version each time MAST needs to be run on a putative maturation enzyme in a particular genome, a lookup in the database is performed to check if this protein has been analyzed by MAST before and if it has then use the values from before\n",
    "- In this version traseq will be used instead of getorf for finding precursors\n",
    "- getorf is still used for finding neighbors\n",
    "- Like v4 except that multiple proteins of the same sequence don't cause wrong locations of maturation enzymes to be reported\n",
    "- Another change is that the pattern needs to be adjusted to [MVL] instead of ^ in the beginning\n",
    "- This version fixes the problem of having a useless %AME hash and also of erasing sequences from %AME_scores\n",
    "- Precursor pattern is output into the log file\n",
    "- ORF searching behavior is changed from stop-to-stop to [MVL]-to-stop\n",
    "- Clusters of precursors are saved in clusters.txt\n",
    "- **Warning**: transeq doesn't label the -1, -2, -3 frames sequentially. Sometimes it is -1, -3, -2, sometimes some other combination. This means the precursor locations on the reverse strand are off by one sometimes\n",
    "- Take note that rank_hits expects 4 motifs for the B enzyme and 3 motifs for the C enzyme. Adjust accordingly."
   ]
  },
  {
   "cell_type": "code",
   "execution_count": 56,
   "metadata": {},
   "outputs": [],
   "source": [
    "import re\n",
    "import sys"
   ]
  },
  {
   "cell_type": "markdown",
   "metadata": {},
   "source": [
    "### THE Pattern\n",
    "\n",
    "This is the pattern that we're using to identify lasso proteins. TODO - Use Machine Learning to adjust the pattern to maximize the number of valid lasso proteins."
   ]
  },
  {
   "cell_type": "code",
   "execution_count": 57,
   "metadata": {},
   "outputs": [],
   "source": [
    "PATTERN = '^M.{15,45}T..{6,8}[DE].{5,30}$'\n",
    "# PATTERN = 'CC.CGCCC...TGGC.'\n",
    "# PATTERN = '.*'"
   ]
  },
  {
   "cell_type": "markdown",
   "metadata": {},
   "source": [
    "### Other defined parameters"
   ]
  },
  {
   "cell_type": "code",
   "execution_count": 62,
   "metadata": {},
   "outputs": [],
   "source": [
    "DIRNAME = \"btha.faa\""
   ]
  },
  {
   "cell_type": "markdown",
   "metadata": {},
   "source": [
    "### FASTA Function\n",
    "\n",
    "Define a function that takes as input the relative path of a FASTA formatted text file, return an object that contains a list of sequence objects. Each sequence object has a description field [\"description\"] and a sequence field [\"sequence\"].\n",
    "\n",
    "From http://www.csbio.sjtu.edu.cn/bioinf/virus-multi/example.htm, specification of a FASTA formatted file:\n",
    "- The first line of each query protein input format must begin with a greater-than (\">\") symbol in the first column. The word following the \">\" symbol is the identifier and description of the sequence, but both are optional.\n",
    "- The sequence (in single-character code) begins in a different line and ends if another line starting with a \">\" appears, which indicates the start of another query protein."
   ]
  },
  {
   "cell_type": "code",
   "execution_count": 59,
   "metadata": {},
   "outputs": [],
   "source": [
    "def readFASTA(name, cleanspace = 0):\n",
    "    descriptions = []\n",
    "    sequences = []\n",
    "    sequenceList = []\n",
    "    tempSequences = []     \n",
    "        \n",
    "    with open(name) as file:\n",
    "        count = -1\n",
    "        for line in file:\n",
    "            \n",
    "            if(line[0] == '>'):\n",
    "                # if begins with a >, then a description\n",
    "                descriptions.append(line[1:].replace('\\n', ''))\n",
    "                count += 1\n",
    "                # skip the first time\n",
    "                if count > 0 :\n",
    "                    # combine the tempSequences into a single string and\n",
    "                    # add it to sequences\n",
    "                    newSequence = ' '.join(tempSequences)\n",
    "                    # now remove all of the whitespaces\n",
    "                    newSequence = newSequence.replace(' ', '')\n",
    "                    newSequence = newSequence.replace('\\n', '')\n",
    "                    \n",
    "                    sequences.append(newSequence)\n",
    "                    # refresh the tempSequence list\n",
    "                    tempSequences = []\n",
    "                    \n",
    "                    sequenceList.append({\n",
    "                        \"description\": descriptions[count - 1],\n",
    "                        \"sequence\": sequences[count - 1]\n",
    "                    })\n",
    "            else:\n",
    "                tempSequences.append(line)\n",
    "                \n",
    "        # combine the tempSequences into a single string and\n",
    "        # add it to sequences\n",
    "        newSequence = ' '.join(tempSequences)\n",
    "        # now remove all of the whitespaces\n",
    "        newSequence = newSequence.replace(' ', '')\n",
    "        newSequence = newSequence.replace('\\n', '')\n",
    "\n",
    "        sequences.append(newSequence)\n",
    "        # refresh the tempSequence list\n",
    "        tempSequences = []\n",
    "        \n",
    "        sequenceList.append({\n",
    "            \"description\": descriptions[count],\n",
    "            \"sequence\": sequences[count]\n",
    "        })\n",
    "                \n",
    "                \n",
    "    if len(descriptions) != len(sequences):\n",
    "        print(\"ERROR: Number of descriptions does not match number of sequences\")\n",
    "        print(\"Number of descriptions: \" + str(len(descriptions)))\n",
    "        print(\"Number of sequences: \" + str(len(sequences)))\n",
    "        sys.exit(1);\n",
    "        \n",
    "    print(\"Read \" + str(count + 1) + \" objects from FASTA file \" + name)\n",
    "        \n",
    "    return sequenceList\n",
    "        \n"
   ]
  },
  {
   "cell_type": "markdown",
   "metadata": {},
   "source": [
    "### Pattern Matching\n",
    "Uses the python regular expression library to determine whether proteins match the pattern sequence. This function takes in a list of proteins (defined as objects that have a [\"description\"] and a [\"sequence\"]) and determines whether [\"sequence\"] passes the pattern regular expression. The matched proteins have an additional parameter [\"matched_sequences\"], which is a list of substrings satisfying the pattern."
   ]
  },
  {
   "cell_type": "code",
   "execution_count": 76,
   "metadata": {},
   "outputs": [],
   "source": [
    "def patternMatch(sequenceList, pattern):\n",
    "    matchedProteinList = []\n",
    "    for sequence in sequenceList:\n",
    "        # find all matches in protein that match\n",
    "        matchIter = re.finditer(pattern, sequence['sequence'])\n",
    "        done_looping = False\n",
    "        while not done_looping:\n",
    "            try:\n",
    "                match = next(matchIter)\n",
    "            except StopIteration:\n",
    "                done_looping = True\n",
    "            else:\n",
    "                matchedProteinList.append({\n",
    "                    \"description\": sequence[\"description\"],\n",
    "                    \"sequence\": match.group(0),\n",
    "                    \"searchPattern\": match.re.pattern,\n",
    "                    \"searchRange\": match.span(),\n",
    "                    \"overallString\": match.string\n",
    "                })\n",
    "    return matchedProteinList"
   ]
  },
  {
   "cell_type": "code",
   "execution_count": 80,
   "metadata": {},
   "outputs": [
    {
     "name": "stdout",
     "output_type": "stream",
     "text": [
      "Read 5632 objects from FASTA file btha.faa\n",
      "Found 53 that satisfy the pattern: ^M.{15,45}T..{6,8}[DE].{5,30}$\n",
      "BTH_II0032 ref|YP_438234.1|gi|83717645| hypothetical protein\n",
      "BTH_II0080 ref|YP_438282.1|gi|83716515| transposase subunit\n",
      "BTH_II0269 ref|YP_438471.1|gi|83716429| transposase\n",
      "BTH_II0308 ref|YP_438509.1|gi|83718268| hypothetical protein\n",
      "BTH_II0363 ref|YP_438563.1|gi|83717971| hypothetical protein\n",
      "BTH_II0411 ref|YP_438611.1|gi|83716237| beta-lactoglobulin I\n",
      "BTH_II0716 ref|YP_438913.1|gi|83716227| transposase\n",
      "BTH_II0759 ref|YP_438956.1|gi|83716593| hypothetical protein\n",
      "BTH_II1001 ref|YP_439198.1|gi|83716560| 30S ribosomal protein S21\n",
      "BTH_II1002 ref|YP_439199.1|gi|83717433| cold-shock domain-contain protein\n",
      "BTH_II1022 ref|YP_439219.1|gi|83716679| gp50\n",
      "BTH_II1089 ref|YP_439286.1|gi|83718274| hypothetical protein\n",
      "BTH_II1370 ref|YP_439566.1|gi|83717146| cystathionine beta-synthase\n",
      "BTH_II1430 ref|YP_439626.1|gi|83718350| hypothetical protein\n",
      "BTH_II1483 ref|YP_439679.1|gi|83718222| hypothetical protein\n",
      "BTH_II1682 ref|YP_439876.1|gi|83717958| hypothetical protein\n",
      "BTH_II1811 ref|YP_440005.1|gi|83716404| hypothetical protein\n",
      "BTH_II1972 ref|YP_440166.1|gi|83716307| hypothetical protein\n",
      "BTH_II2114 ref|YP_440302.1|gi|83716482| putative 4-oxalocrotonate tautomerase\n",
      "BTH_II2138 ref|YP_440326.1|gi|83718152| hypothetical protein\n",
      "BTH_II2192 ref|YP_440380.1|gi|83716084| hypothetical protein\n",
      "BTH_II2222 ref|YP_440410.1|gi|83716036| hypothetical protein\n",
      "BTH_II2251 ref|YP_440439.1|gi|83717024| hypothetical protein\n",
      "BTH_II2257 ref|YP_440445.1|gi|83718261| glyoxalase family protein superfamily\n",
      "BTH_I0182 ref|YP_440740.1|gi|83720070| hypothetical protein\n",
      "BTH_I0215 ref|YP_440773.1|gi|83719978| hypothetical protein\n",
      "BTH_I0259 ref|YP_440817.1|gi|83719502| glyoxalase family protein\n",
      "BTH_I0270 ref|YP_440828.1|gi|83718983| lipoprotein\n",
      "BTH_I0296 ref|YP_440854.1|gi|83718470| hypothetical protein\n",
      "BTH_I0630 ref|YP_441187.1|gi|83719087| hypothetical protein\n",
      "BTH_I0779 ref|YP_441335.1|gi|83720063| 50S ribosomal protein L33\n",
      "BTH_I0911 ref|YP_441467.1|gi|83719589| hypothetical protein\n",
      "BTH_I0923 ref|YP_441479.1|gi|83720298| hypothetical protein\n",
      "BTH_I1305 ref|YP_441852.1|gi|83719577| hypothetical protein\n",
      "BTH_I1460 ref|YP_442006.1|gi|83718531| rubredoxin\n",
      "BTH_I1594 ref|YP_442133.1|gi|83720914| cold-shock domain-contain protein\n",
      "BTH_I1607 ref|YP_442145.1|gi|83718426| hypothetical protein\n",
      "BTH_I1661 ref|YP_442198.1|gi|83718427| 30S ribosomal protein S16\n",
      "BTH_I1683 ref|YP_442220.1|gi|83721651| hypothetical protein\n",
      "BTH_I1720 ref|YP_442255.1|gi|83719572| acyl carrier protein\n",
      "BTH_I1915 ref|YP_442445.1|gi|83720680| prophage CP4-57 regulatory protein\n",
      "BTH_I1972 ref|YP_442501.1|gi|83720679| hypothetical protein\n",
      "BTH_I2285 ref|YP_442806.1|gi|83718637| Cro/CI family transcription regulator\n",
      "BTH_I2310 ref|YP_442831.1|gi|83718730| cyd operon protein YbgT\n",
      "BTH_I2368 ref|YP_442889.1|gi|83718565| hypothetical protein\n",
      "BTH_I2375 ref|YP_442896.1|gi|83719329| hypothetical protein\n",
      "BTH_I2498 ref|YP_443018.1|gi|83719125| molybdenum-pterin binding protein\n",
      "BTH_I2546 ref|YP_443063.1|gi|83721334| pilin\n",
      "BTH_I2711 ref|YP_443226.1|gi|83720302| hypothetical protein\n",
      "BTH_I2756 ref|YP_443269.1|gi|83719704| lipoprotein\n",
      "BTH_I2936 ref|YP_443443.1|gi|83720047| cold-shock domain-contain protein\n",
      "BTH_I3060 ref|YP_443564.1|gi|83720915| 50S ribosomal protein L29\n",
      "BTH_I2437a ref|YP_004089624.1|gi|315506969| lasso peptide precursor\n"
     ]
    }
   ],
   "source": [
    "matchedProteins = patternMatch(readFASTA(DIRNAME), PATTERN)\n",
    "\n",
    "print(\"Found \" + str(len(matchedProteins)) + \" that satisfy the pattern: \" + PATTERN)\n",
    "# for match in matchedProteins:\n",
    "#     print(match[\"sequence\"] + \", found in range \" + str(match[\"searchRange\"]))\n",
    "#     print(\"description: \" + match[\"description\"])\n",
    "\n",
    "for match in matchedProteins:\n",
    "    print(match[\"description\"])"
   ]
  },
  {
   "cell_type": "code",
   "execution_count": null,
   "metadata": {},
   "outputs": [],
   "source": []
  }
 ],
 "metadata": {
  "kernelspec": {
   "display_name": "Python 3",
   "language": "python",
   "name": "python3"
  },
  "language_info": {
   "codemirror_mode": {
    "name": "ipython",
    "version": 3
   },
   "file_extension": ".py",
   "mimetype": "text/x-python",
   "name": "python",
   "nbconvert_exporter": "python",
   "pygments_lexer": "ipython3",
   "version": "3.7.2"
  }
 },
 "nbformat": 4,
 "nbformat_minor": 2
}
