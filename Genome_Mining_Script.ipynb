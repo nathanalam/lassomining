{
 "cells": [
  {
   "cell_type": "markdown",
   "metadata": {},
   "source": [
    "# Genome Mining Script\n",
    "##### Original Author: Chun Yin Larry So | Python Interpretation: Nathan Alam\n",
    "[Github repository](https://github.com/nathanalam/genomemining)\n",
    "\n",
    "The purpose of this notebook is to provide scripts for reading bacterial genomes in search of regular expressions which seem to match a String corresponding to a candidate coding for a Lasso peptide.\n",
    "\n",
    "## Links to relevant publications:\n",
    "- [Genome mining for lasso peptides: past, present, and future](https://link.springer.com/article/10.1007/s10295-019-02197-z)\n",
    "- [Prospecting Genomes for Lasso Peptides](https://www.ncbi.nlm.nih.gov/pubmed/24142336)"
   ]
  },
  {
   "cell_type": "markdown",
   "metadata": {},
   "source": [
    "### Comments from Perl Script\n",
    "- In this version each time MAST needs to be run on a putative maturation enzyme in a particular genome, a lookup in the database is performed to check if this protein has been analyzed by MAST before and if it has then use the values from before\n",
    "- In this version traseq will be used instead of getorf for finding precursors\n",
    "- getorf is still used for finding neighbors\n",
    "- Like v4 except that multiple proteins of the same sequence don't cause wrong locations of maturation enzymes to be reported\n",
    "- Another change is that the pattern needs to be adjusted to [MVL] instead of ^ in the beginning\n",
    "- This version fixes the problem of having a useless %AME hash and also of erasing sequences from %AME_scores\n",
    "- Precursor pattern is output into the log file\n",
    "- ORF searching behavior is changed from stop-to-stop to [MVL]-to-stop\n",
    "- Clusters of precursors are saved in clusters.txt\n",
    "- **Warning**: transeq doesn't label the -1, -2, -3 frames sequentially. Sometimes it is -1, -3, -2, sometimes some other combination. This means the precursor locations on the reverse strand are off by one sometimes\n",
    "- Take note that rank_hits expects 4 motifs for the B enzyme and 3 motifs for the C enzyme. Adjust accordingly."
   ]
  },
  {
   "cell_type": "code",
   "execution_count": 1,
   "metadata": {},
   "outputs": [],
   "source": [
    "import re\n",
    "import sys"
   ]
  },
  {
   "cell_type": "markdown",
   "metadata": {},
   "source": [
    "### THE Pattern\n",
    "\n",
    "This is the pattern that we're using to identify lasso proteins. TODO - Use Machine Learning to adjust the pattern to maximize the number of valid lasso proteins."
   ]
  },
  {
   "cell_type": "code",
   "execution_count": 2,
   "metadata": {},
   "outputs": [],
   "source": [
    "# PATTERN = '^M.{15,45}T..{6,8}[DE].{5,30}$'\n",
    "PATTERN = '.*'"
   ]
  },
  {
   "cell_type": "markdown",
   "metadata": {},
   "source": [
    "### Other defined parameters"
   ]
  },
  {
   "cell_type": "code",
   "execution_count": 3,
   "metadata": {},
   "outputs": [],
   "source": [
    "DIRNAME = \"test.txt\""
   ]
  },
  {
   "cell_type": "markdown",
   "metadata": {},
   "source": [
    "### FASTA Function\n",
    "\n",
    "Define a function that takes as input the relative path of a FASTA formatted text file, return an object that contains a list of protein object. Each protein object has a description field [\"description\"] and a sequence field [\"sequence\"].\n",
    "\n",
    "From http://www.csbio.sjtu.edu.cn/bioinf/virus-multi/example.htm, specification of a FASTA formatted file:\n",
    "- The first line of each query protein input format must begin with a greater-than (\">\") symbol in the first column. The word following the \">\" symbol is the identifier and description of the sequence, but both are optional.\n",
    "- The sequence (in single-character code) begins in a different line and ends if another line starting with a \">\" appears, which indicates the start of another query protein."
   ]
  },
  {
   "cell_type": "code",
   "execution_count": 4,
   "metadata": {},
   "outputs": [],
   "source": [
    "def readFASTA(name, cleanspace = 0):\n",
    "    descriptions = []\n",
    "    sequences = []\n",
    "    proteinList = []\n",
    "    tempSequences = []     \n",
    "        \n",
    "    with open(name) as file:\n",
    "        count = -1\n",
    "        for line in file:\n",
    "            \n",
    "            if(line[0] == '>'):\n",
    "                # if begins with a >, then a description\n",
    "                descriptions.append(line[1:].replace('\\n', ''))\n",
    "                count += 1\n",
    "                # skip the first time\n",
    "                if count > 0 :\n",
    "                    # combine the tempSequences into a single string and\n",
    "                    # add it to sequences\n",
    "                    newSequence = ' '.join(tempSequences)\n",
    "                    # now remove all of the whitespaces\n",
    "                    newSequence = newSequence.replace(' ', '')\n",
    "                    newSequence = newSequence.replace('\\n', '')\n",
    "                    \n",
    "                    sequences.append(newSequence)\n",
    "                    # refresh the tempSequence list\n",
    "                    tempSequences = []\n",
    "                    \n",
    "                    proteinList.append({\n",
    "                        \"description\": descriptions[count - 1],\n",
    "                        \"sequence\": sequences[count - 1]\n",
    "                    })\n",
    "            else:\n",
    "                tempSequences.append(line)\n",
    "                \n",
    "        # combine the tempSequences into a single string and\n",
    "        # add it to sequences\n",
    "        newSequence = ' '.join(tempSequences)\n",
    "        # now remove all of the whitespaces\n",
    "        newSequence = newSequence.replace(' ', '')\n",
    "        newSequence = newSequence.replace('\\n', '')\n",
    "\n",
    "        sequences.append(newSequence)\n",
    "        # refresh the tempSequence list\n",
    "        tempSequences = []\n",
    "        \n",
    "        proteinList.append({\n",
    "            \"description\": descriptions[count],\n",
    "            \"sequence\": sequences[count]\n",
    "        })\n",
    "                \n",
    "                \n",
    "    if len(descriptions) != len(sequences):\n",
    "        print(\"ERROR: Number of descriptions does not match number of sequences\")\n",
    "        print(\"Number of descriptions: \" + str(len(descriptions)))\n",
    "        print(\"Number of sequences: \" + str(len(sequences)))\n",
    "        sys.exit(1);\n",
    "        \n",
    "    print(\"Read \" + str(count + 1) + \" objects from FASTA file \" + name)\n",
    "        \n",
    "    return proteinList\n",
    "        \n"
   ]
  },
  {
   "cell_type": "markdown",
   "metadata": {},
   "source": [
    "### Pattern Matching\n",
    "Uses the python regular expression library to determine whether proteins match the pattern sequence. This function takes in a list of proteins (defined as objects that have a [\"description\"] and a [\"sequence\"]) and determines whether [\"sequence\"] passes the pattern regular expression. The matched proteins have an additional parameter [\"matched_sequences\"], which is a list of substrings satisfying the pattern."
   ]
  },
  {
   "cell_type": "code",
   "execution_count": 5,
   "metadata": {},
   "outputs": [],
   "source": [
    "def patternMatch(proteinList):\n",
    "    matchedProteinList = []\n",
    "    for protein in proteinList:\n",
    "        # find all matches in protein that match\n",
    "        matches = re.findall(PATTERN, protein['sequence'])\n",
    "        if(len(matches) > 0):\n",
    "            matchedProteinList.append({\n",
    "                \"description\": protein[\"description\"],\n",
    "                \"sequence\": protein[\"sequence\"],\n",
    "                \"matched_sequences\": matches\n",
    "            })\n",
    "    return matchedProteinList"
   ]
  },
  {
   "cell_type": "code",
   "execution_count": 6,
   "metadata": {},
   "outputs": [
    {
     "name": "stdout",
     "output_type": "stream",
     "text": [
      "Read 6 objects from FASTA file test.txt\n",
      "Found 6 that satisfy the pattern:\n",
      "brotein: gives you protein\n",
      "reedtein: makes u smarticle\n",
      "query protein 1; example of multiple subcellular locations\n",
      "query protein 2; example of single subcellular location\n",
      "HSBGPG Human gene for bone gla protein (BGP)\n",
      "HSGLTH1 Human theta 1-globin gene\n"
     ]
    }
   ],
   "source": [
    "matchedProteins = patternMatch(readFASTA(DIRNAME))\n",
    "\n",
    "print(\"Found \" + str(len(matchedProteins)) + \" that satisfy the pattern:\")\n",
    "for match in matchedProteins:\n",
    "    print(match['description'])"
   ]
  },
  {
   "cell_type": "code",
   "execution_count": null,
   "metadata": {},
   "outputs": [],
   "source": []
  }
 ],
 "metadata": {
  "kernelspec": {
   "display_name": "Python 3",
   "language": "python",
   "name": "python3"
  },
  "language_info": {
   "codemirror_mode": {
    "name": "ipython",
    "version": 3
   },
   "file_extension": ".py",
   "mimetype": "text/x-python",
   "name": "python",
   "nbconvert_exporter": "python",
   "pygments_lexer": "ipython3",
   "version": "3.7.2"
  }
 },
 "nbformat": 4,
 "nbformat_minor": 2
}
