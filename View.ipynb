{
 "cells": [
  {
   "cell_type": "markdown",
   "metadata": {},
   "source": [
    "# Pooled Motif Run Analysis\n",
    "### Nathan Alam 6/15/20\n",
    "\n",
    "Ran on the following genomes:"
   ]
  },
  {
   "cell_type": "code",
   "execution_count": 1,
   "metadata": {},
   "outputs": [],
   "source": [
    "import os\n",
    "import json\n",
    "import sqlite3\n",
    "import re"
   ]
  },
  {
   "cell_type": "code",
   "execution_count": 2,
   "metadata": {},
   "outputs": [],
   "source": [
    "theStuff = \"\"\n",
    "with open(\"pooledMotifs.json\") as file:\n",
    "    theStuff = json.load(file)"
   ]
  },
  {
   "cell_type": "code",
   "execution_count": 3,
   "metadata": {},
   "outputs": [
    {
     "name": "stdout",
     "output_type": "stream",
     "text": [
      "Total peptides found: 21414\n",
      "Pattern used: M[A-Z]{15,45}T[A-Z][A-Z]{6,8}[DE][A-Z]{5,30}\\*\n",
      "Cutoff rank: 10.0\n",
      "Time elapsed: 43.44405295014381 hours\n",
      "Genomes mined: 15256\n",
      "Average time per genome: 10.25161186552948 seconds\n"
     ]
    }
   ],
   "source": [
    "print(\"Total peptides found: \" + str(theStuff[\"peptides\"]))\n",
    "print(\"Pattern used: \" + str(theStuff[\"pattern\"]))\n",
    "print(\"Cutoff rank: \" + str(theStuff[\"cutoff\"]))\n",
    "print(\"Time elapsed: \" + str(theStuff[\"totalTime\"] / 3600) + \" hours\")\n",
    "print(\"Genomes mined: \" + str(len(theStuff[\"input\"])))\n",
    "print(\"Average time per genome: \" + str(theStuff[\"totalTime\"] / len(theStuff[\"input\"])) + \" seconds\")"
   ]
  },
  {
   "cell_type": "code",
   "execution_count": 4,
   "metadata": {},
   "outputs": [],
   "source": [
    "# regular expression function for regular expression search\n",
    "def regexp(expr, item):\n",
    "    reg = re.compile(expr)\n",
    "    return reg.search(item) is not None"
   ]
  },
  {
   "cell_type": "code",
   "execution_count": 5,
   "metadata": {},
   "outputs": [],
   "source": [
    "conn = sqlite3.connect('matches.db')\n",
    "conn.create_function(\"REGEXP\", 2, regexp)\n",
    "c = conn.cursor()\n",
    "\n",
    "selectionStringGenomes = \"SELECT DISTINCT genome FROM lassopeptides WHERE runname is 'pooledMotifs'\"\n",
    "distinctGenomes = []\n",
    "for row in c.execute(selectionStringGenomes):\n",
    "    distinctGenomes.append(row[0])\n",
    "\n",
    "c.close()"
   ]
  },
  {
   "cell_type": "code",
   "execution_count": 6,
   "metadata": {},
   "outputs": [
    {
     "name": "stdout",
     "output_type": "stream",
     "text": [
      "Number of genomes with lasso peptides: 109\n"
     ]
    }
   ],
   "source": [
    "print(\"Number of genomes with lasso peptides: \" + str(len(distinctGenomes)))"
   ]
  },
  {
   "cell_type": "code",
   "execution_count": 7,
   "metadata": {},
   "outputs": [],
   "source": [
    "conn = sqlite3.connect('matches.db')\n",
    "conn.create_function(\"REGEXP\", 2, regexp)\n",
    "c = conn.cursor()\n",
    "\n",
    "selectionStringGenomes = \"SELECT DISTINCT sequence, rank, genome FROM lassopeptides WHERE runname is 'pooledMotifs'\"\n",
    "peptides = []\n",
    "for row in c.execute(selectionStringGenomes):\n",
    "    peptides.append({\n",
    "        \"sequence\": row[0],\n",
    "        \"rank\": row[1],\n",
    "        \"genome\": row[2],\n",
    "    })\n",
    "c.close()"
   ]
  },
  {
   "cell_type": "code",
   "execution_count": 8,
   "metadata": {},
   "outputs": [
    {
     "name": "stdout",
     "output_type": "stream",
     "text": [
      "DISTINCT lasso peptide hits: 19579\n"
     ]
    }
   ],
   "source": [
    "print(\"DISTINCT lasso peptide hits: \" + str(len(peptides)))"
   ]
  },
  {
   "cell_type": "code",
   "execution_count": 35,
   "metadata": {},
   "outputs": [],
   "source": [
    "genomeDict = {}\n",
    "genomeArr = []\n",
    "for genome in distinctGenomes:\n",
    "    peptideArr = []\n",
    "    runningSum = 0\n",
    "    for peptide in peptides:\n",
    "        if(peptide[\"genome\"] == genome):\n",
    "            peptideArr.append(peptide)\n",
    "            runningSum += peptide[\"rank\"]\n",
    "    genomeArr.append({\n",
    "            \"genome\": genome,\n",
    "            \"average\" : (1.0 * runningSum) / len(peptideArr),\n",
    "            \"count\": len(peptideArr)\n",
    "        }\n",
    "    )\n",
    "    genomeDict.update({\n",
    "        genome: peptideArr\n",
    "    })"
   ]
  },
  {
   "cell_type": "code",
   "execution_count": 36,
   "metadata": {},
   "outputs": [],
   "source": [
    "genomeArr.sort(reverse=True, key=lambda i: i['average'])"
   ]
  },
  {
   "cell_type": "code",
   "execution_count": 37,
   "metadata": {},
   "outputs": [],
   "source": [
    "for gen in genomeDict.keys():\n",
    "    genomeDict[gen].sort(reverse=True, key=lambda i: i[\"rank\"])"
   ]
  },
  {
   "cell_type": "code",
   "execution_count": 39,
   "metadata": {},
   "outputs": [],
   "source": [
    "for gen in genomeDict.keys():\n",
    "    rankList = []\n",
    "    peptideList = []\n",
    "    for peptide in genomeDict[gen]:\n",
    "        rankList.append(peptide[\"rank\"])\n",
    "        peptideList.append(peptide[\"sequence\"])\n",
    "    genomeDict.update({\n",
    "        gen: {\n",
    "            \"ranks\": rankList,\n",
    "            \"peptides\": peptideList\n",
    "        }\n",
    "    })"
   ]
  },
  {
   "cell_type": "code",
   "execution_count": 40,
   "metadata": {},
   "outputs": [
    {
     "data": {
      "text/plain": [
       "[<matplotlib.lines.Line2D at 0x7f293e737828>]"
      ]
     },
     "execution_count": 40,
     "metadata": {},
     "output_type": "execute_result"
    },
    {
     "data": {
      "image/png": "[encoded data removed]",
      "text/plain": [
       "<Figure size 432x288 with 1 Axes>"
      ]
     },
     "metadata": {
      "needs_background": "light"
     },
     "output_type": "display_data"
    }
   ],
   "source": [
    "y = genomeDict[genomeArr[1][\"genome\"]][\"ranks\"]\n",
    "x = range(0, len(y))\n",
    "\n",
    "import matplotlib.pyplot as plt\n",
    "plt.plot(y)"
   ]
  },
  {
   "cell_type": "code",
   "execution_count": 41,
   "metadata": {},
   "outputs": [],
   "source": [
    "with open(\"allGenomes.txt\", 'w') as file:\n",
    "    file.write(json.dumps(theStuff[\"input\"]))"
   ]
  },
  {
   "cell_type": "code",
   "execution_count": 42,
   "metadata": {},
   "outputs": [],
   "source": [
    "with open(\"genomeHits.txt\", 'w') as file:\n",
    "    file.write(json.dumps(genomeArr))"
   ]
  },
  {
   "cell_type": "code",
   "execution_count": 43,
   "metadata": {},
   "outputs": [],
   "source": [
    "import pandas as pd"
   ]
  },
  {
   "cell_type": "code",
   "execution_count": 46,
   "metadata": {},
   "outputs": [],
   "source": [
    "precsv = pd.DataFrame.from_dict(genomeDict)"
   ]
  },
  {
   "cell_type": "code",
   "execution_count": 48,
   "metadata": {},
   "outputs": [],
   "source": [
    "precsv.to_csv(\"peptides.csv\")"
   ]
  },
  {
   "cell_type": "code",
   "execution_count": null,
   "metadata": {},
   "outputs": [],
   "source": []
  },
  {
   "cell_type": "code",
   "execution_count": null,
   "metadata": {},
   "outputs": [],
   "source": []
  }
 ],
 "metadata": {
  "kernelspec": {
   "display_name": "Python 3",
   "language": "python",
   "name": "python3"
  },
  "language_info": {
   "codemirror_mode": {
    "name": "ipython",
    "version": 3
   },
   "file_extension": ".py",
   "mimetype": "text/x-python",
   "name": "python",
   "nbconvert_exporter": "python",
   "pygments_lexer": "ipython3",
   "version": "3.6.8"
  }
 },
 "nbformat": 4,
 "nbformat_minor": 4
}
