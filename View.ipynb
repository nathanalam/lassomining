{
 "cells": [
  {
   "cell_type": "markdown",
   "metadata": {},
   "source": [
    "# Pooled Motif Run Analysis\n",
    "### Nathan Alam 6/15/20\n",
    "\n",
    "Ran on the following genomes:"
   ]
  },
  {
   "cell_type": "code",
   "execution_count": 1,
   "metadata": {},
   "outputs": [],
   "source": [
    "import os\n",
    "import json\n",
    "import sqlite3\n",
    "import re\n",
    "import yaml"
   ]
  },
  {
   "cell_type": "code",
   "execution_count": 2,
   "metadata": {},
   "outputs": [
    {
     "name": "stderr",
     "output_type": "stream",
     "text": [
      "/Users/nalam/Desktop/genomeminingdemo/lassomining/lib/python3.7/site-packages/ipykernel_launcher.py:3: YAMLLoadWarning: calling yaml.load() without Loader=... is deprecated, as the default Loader is unsafe. Please read https://msg.pyyaml.org/load for full details.\n",
      "  This is separate from the ipykernel package so we can avoid doing imports until\n"
     ]
    }
   ],
   "source": [
    "config = {}\n",
    "with open(\"config.yaml\") as file:\n",
    "    config = yaml.load(file)"
   ]
  },
  {
   "cell_type": "code",
   "execution_count": 3,
   "metadata": {},
   "outputs": [
    {
     "data": {
      "text/plain": [
       "'/Users/nalam/Desktop/genomeminingdemo/output/runs/nameOfRun.json'"
      ]
     },
     "execution_count": 3,
     "metadata": {},
     "output_type": "execute_result"
    }
   ],
   "source": [
    "config[\"outputLogs\"] + config[\"runName\"] + \".json\""
   ]
  },
  {
   "cell_type": "code",
   "execution_count": 4,
   "metadata": {},
   "outputs": [],
   "source": [
    "theStuff = \"\"\n",
    "with open(config[\"outputLogs\"] + config[\"runName\"] + \".json\") as file:\n",
    "    theStuff = json.load(file)"
   ]
  },
  {
   "cell_type": "code",
   "execution_count": 5,
   "metadata": {},
   "outputs": [
    {
     "name": "stdout",
     "output_type": "stream",
     "text": [
      "Total peptides found: 1444\n",
      "Pattern used: M[A-Z]{15,45}T[A-Z][A-Z]{6,8}[DE][A-Z]{5,30}\\*\n",
      "Cutoff rank: 0\n",
      "Time elapsed: 0.0009823050101598104 hours\n",
      "Genomes mined: 2\n",
      "Average time per genome: 1.7681490182876587 seconds\n"
     ]
    }
   ],
   "source": [
    "print(\"Total peptides found: \" + str(theStuff[\"peptides\"]))\n",
    "print(\"Pattern used: \" + str(theStuff[\"pattern\"]))\n",
    "print(\"Cutoff rank: \" + str(theStuff[\"cutoff\"]))\n",
    "print(\"Time elapsed: \" + str(theStuff[\"totalTime\"] / 3600) + \" hours\")\n",
    "print(\"Genomes mined: \" + str(len(theStuff[\"input\"])))\n",
    "print(\"Average time per genome: \" + str(theStuff[\"totalTime\"] / len(theStuff[\"input\"])) + \" seconds\")"
   ]
  },
  {
   "cell_type": "code",
   "execution_count": 6,
   "metadata": {},
   "outputs": [],
   "source": [
    "# regular expression function for regular expression search\n",
    "def regexp(expr, item):\n",
    "    reg = re.compile(expr)\n",
    "    return reg.search(item) is not None"
   ]
  },
  {
   "cell_type": "code",
   "execution_count": 7,
   "metadata": {},
   "outputs": [],
   "source": [
    "conn = sqlite3.connect(config[\"database\"])\n",
    "conn.create_function(\"REGEXP\", 2, regexp)\n",
    "c = conn.cursor()\n",
    "\n",
    "selectionStringGenomes = \"SELECT DISTINCT genome FROM lassopeptides WHERE runname is '\" + config[\"runName\"] + \"'\"\n",
    "distinctGenomes = []\n",
    "for row in c.execute(selectionStringGenomes):\n",
    "    distinctGenomes.append(row[0])\n",
    "\n",
    "c.close()"
   ]
  },
  {
   "cell_type": "code",
   "execution_count": 8,
   "metadata": {},
   "outputs": [
    {
     "name": "stdout",
     "output_type": "stream",
     "text": [
      "Number of genomes with lasso peptides: 1\n"
     ]
    }
   ],
   "source": [
    "print(\"Number of genomes with lasso peptides: \" + str(len(distinctGenomes)))"
   ]
  },
  {
   "cell_type": "code",
   "execution_count": 9,
   "metadata": {},
   "outputs": [],
   "source": [
    "conn = sqlite3.connect(config[\"database\"])\n",
    "conn.create_function(\"REGEXP\", 2, regexp)\n",
    "c = conn.cursor()\n",
    "\n",
    "selectionStringGenomes = \"SELECT DISTINCT sequence, rank, genome FROM lassopeptides WHERE runname is '\" + config[\"runName\"] + \"'\"\n",
    "peptides = []\n",
    "for row in c.execute(selectionStringGenomes):\n",
    "    peptides.append({\n",
    "        \"sequence\": row[0],\n",
    "        \"rank\": row[1],\n",
    "        \"genome\": row[2],\n",
    "    })\n",
    "c.close()"
   ]
  },
  {
   "cell_type": "code",
   "execution_count": 10,
   "metadata": {},
   "outputs": [
    {
     "name": "stdout",
     "output_type": "stream",
     "text": [
      "DISTINCT lasso peptide hits: 1404\n"
     ]
    }
   ],
   "source": [
    "print(\"DISTINCT lasso peptide hits: \" + str(len(peptides)))"
   ]
  },
  {
   "cell_type": "code",
   "execution_count": 11,
   "metadata": {},
   "outputs": [],
   "source": [
    "genomeDict = {}\n",
    "genomeArr = []\n",
    "for genome in distinctGenomes:\n",
    "    peptideArr = []\n",
    "    runningSum = 0\n",
    "    for peptide in peptides:\n",
    "        if(peptide[\"genome\"] == genome):\n",
    "            peptideArr.append(peptide)\n",
    "            runningSum += peptide[\"rank\"]\n",
    "    genomeArr.append({\n",
    "            \"genome\": genome,\n",
    "            \"average\" : (1.0 * runningSum) / len(peptideArr),\n",
    "            \"count\": len(peptideArr)\n",
    "        }\n",
    "    )\n",
    "    genomeDict.update({\n",
    "        genome: peptideArr\n",
    "    })"
   ]
  },
  {
   "cell_type": "code",
   "execution_count": 12,
   "metadata": {},
   "outputs": [],
   "source": [
    "genomeArr.sort(reverse=True, key=lambda i: i['average'])"
   ]
  },
  {
   "cell_type": "code",
   "execution_count": 13,
   "metadata": {},
   "outputs": [],
   "source": [
    "for gen in genomeDict.keys():\n",
    "    genomeDict[gen].sort(reverse=True, key=lambda i: i[\"rank\"])"
   ]
  },
  {
   "cell_type": "code",
   "execution_count": 14,
   "metadata": {},
   "outputs": [],
   "source": [
    "for gen in genomeDict.keys():\n",
    "    rankList = []\n",
    "    peptideList = []\n",
    "    for peptide in genomeDict[gen]:\n",
    "        rankList.append(peptide[\"rank\"])\n",
    "        peptideList.append(peptide[\"sequence\"])\n",
    "    genomeDict.update({\n",
    "        gen: {\n",
    "            \"ranks\": rankList,\n",
    "            \"peptides\": peptideList\n",
    "        }\n",
    "    })"
   ]
  },
  {
   "cell_type": "code",
   "execution_count": 15,
   "metadata": {},
   "outputs": [
    {
     "ename": "ModuleNotFoundError",
     "evalue": "No module named 'matplotlib'",
     "output_type": "error",
     "traceback": [
      "\u001b[0;31m---------------------------------------------------------------------------\u001b[0m",
      "\u001b[0;31mModuleNotFoundError\u001b[0m                       Traceback (most recent call last)",
      "\u001b[0;32m<ipython-input-15-23107ae0e428>\u001b[0m in \u001b[0;36m<module>\u001b[0;34m\u001b[0m\n\u001b[1;32m      2\u001b[0m \u001b[0mx\u001b[0m \u001b[0;34m=\u001b[0m \u001b[0mrange\u001b[0m\u001b[0;34m(\u001b[0m\u001b[0;36m0\u001b[0m\u001b[0;34m,\u001b[0m \u001b[0mlen\u001b[0m\u001b[0;34m(\u001b[0m\u001b[0my\u001b[0m\u001b[0;34m)\u001b[0m\u001b[0;34m)\u001b[0m\u001b[0;34m\u001b[0m\u001b[0;34m\u001b[0m\u001b[0m\n\u001b[1;32m      3\u001b[0m \u001b[0;34m\u001b[0m\u001b[0m\n\u001b[0;32m----> 4\u001b[0;31m \u001b[0;32mimport\u001b[0m \u001b[0mmatplotlib\u001b[0m\u001b[0;34m.\u001b[0m\u001b[0mpyplot\u001b[0m \u001b[0;32mas\u001b[0m \u001b[0mplt\u001b[0m\u001b[0;34m\u001b[0m\u001b[0;34m\u001b[0m\u001b[0m\n\u001b[0m\u001b[1;32m      5\u001b[0m \u001b[0mplt\u001b[0m\u001b[0;34m.\u001b[0m\u001b[0mplot\u001b[0m\u001b[0;34m(\u001b[0m\u001b[0my\u001b[0m\u001b[0;34m)\u001b[0m\u001b[0;34m\u001b[0m\u001b[0;34m\u001b[0m\u001b[0m\n",
      "\u001b[0;31mModuleNotFoundError\u001b[0m: No module named 'matplotlib'"
     ]
    }
   ],
   "source": [
    "y = genomeDict[genomeArr[0][\"genome\"]][\"ranks\"]\n",
    "x = range(0, len(y))\n",
    "\n",
    "import matplotlib.pyplot as plt\n",
    "plt.plot(y)"
   ]
  },
  {
   "cell_type": "code",
   "execution_count": 16,
   "metadata": {},
   "outputs": [],
   "source": [
    "with open(\"allGenomes.txt\", 'w') as file:\n",
    "    file.write(json.dumps(theStuff[\"input\"]))"
   ]
  },
  {
   "cell_type": "code",
   "execution_count": 17,
   "metadata": {},
   "outputs": [],
   "source": [
    "with open(\"genomeHits.txt\", 'w') as file:\n",
    "    file.write(json.dumps(genomeArr))"
   ]
  },
  {
   "cell_type": "code",
   "execution_count": 18,
   "metadata": {},
   "outputs": [],
   "source": [
    "import pandas as pd\n",
    "\n",
    "precsv = pd.DataFrame.from_dict(genomeDict)\n",
    "precsv.to_csv(\"peptides.csv\")"
   ]
  },
  {
   "cell_type": "code",
   "execution_count": null,
   "metadata": {},
   "outputs": [],
   "source": []
  }
 ],
 "metadata": {
  "kernelspec": {
   "display_name": "Python 3",
   "language": "python",
   "name": "python3"
  },
  "language_info": {
   "codemirror_mode": {
    "name": "ipython",
    "version": 3
   },
   "file_extension": ".py",
   "mimetype": "text/x-python",
   "name": "python",
   "nbconvert_exporter": "python",
   "pygments_lexer": "ipython3",
   "version": "3.7.3"
  }
 },
 "nbformat": 4,
 "nbformat_minor": 4
}
